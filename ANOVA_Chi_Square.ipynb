{
 "cells": [
  {
   "cell_type": "markdown",
   "metadata": {},
   "source": [
    "# ANOVA and Chi Square "
   ]
  },
  {
   "cell_type": "markdown",
   "metadata": {
    "collapsed": true
   },
   "source": [
    "## Analysis of variance (ANOVA)\n",
    "\n",
    "ANOVA is a hypothesis testing technique tests the equality of two or more population means by examining the variances of samples that are taken.\n",
    "\n",
    "ANOVA tests the general rather than specific differences among means. "
   ]
  },
  {
   "cell_type": "markdown",
   "metadata": {},
   "source": [
    "### Assumptions of ANOVA\n",
    "\n",
    "* 1) All populations involved follow a normal distribution\n",
    "* 2) All populations have the same variance\n",
    "* 3) The samples are randomly selected and independent of one another\n"
   ]
  },
  {
   "cell_type": "markdown",
   "metadata": {},
   "source": [
    "## One-way ANOVA"
   ]
  },
  {
   "cell_type": "markdown",
   "metadata": {},
   "source": [
    "### Example 1\n",
    "\n",
    "Consider the monthly income of members from three different gyms - fitness centers given below:\n",
    "* Gym 1 (n = 22): [60, 66, 65, 55, 62, 70, 51, 72, 58, 61, 71, 41, 70, 57, 55, 63, 64, 76, 74, 54, 58, 73]\n",
    "* Gym 2 (n = 18): [56, 65, 65, 63, 57, 47, 72, 56, 52, 75, 66, 62, 68, 75, 60, 73, 63, 64]\n",
    "* Gym 3 (n = 23): [67, 56, 65, 61, 63, 59, 42, 53, 63, 65, 60, 57, 62, 70, 73, 63, 55, 52, 58, 68, 70, 72, 45]  \n",
    "Using ANOVA, test whether the mean monthly income is equal for each Gym.\n"
   ]
  },
  {
   "cell_type": "code",
   "execution_count": 2,
   "metadata": {},
   "outputs": [],
   "source": [
    "import pandas            as pd\n",
    "import numpy             as np\n",
    "import matplotlib.pyplot as plt\n",
    "import seaborn           as sns"
   ]
  },
  {
   "cell_type": "code",
   "execution_count": 45,
   "metadata": {},
   "outputs": [
    {
     "name": "stdout",
     "output_type": "stream",
     "text": [
      "Count, Mean and standard deviation of monthly income of members of Gym 1:  22, 62.55 and 8.67\n",
      "Count, Mean and standard deviation of monthly income of members of Gym 2:  18, 63.28 and 7.79\n",
      "Count, Mean and standard deviation of monthly income of members of Gym 3:  23, 60.83 and 8.00\n"
     ]
    },
    {
     "data": {
      "text/plain": [
       "<matplotlib.axes._subplots.AxesSubplot at 0xcbc0128>"
      ]
     },
     "execution_count": 45,
     "metadata": {},
     "output_type": "execute_result"
    },
    {
     "data": {
      "image/png": "[encoded data removed]",
      "text/plain": [
       "<Figure size 432x288 with 1 Axes>"
      ]
     },
     "metadata": {
      "needs_background": "light"
     },
     "output_type": "display_data"
    }
   ],
   "source": [
    "Gym_1 = np.array([60, 66, 65, 55, 62, 70, 51, 72, 58, 61, 71, 41, 70, 57, 55, 63, 64, 76, 74, 54, 58, 73])\n",
    "Gym_2 = np.array([56, 65, 65, 63, 57, 47, 72, 56, 52, 75, 66, 62, 68, 75, 60, 73, 63, 64])\n",
    "Gym_3 = np.array([67, 56, 65, 61, 63, 59, 42, 53, 63, 65, 60, 57, 62, 70, 73, 63, 55, 52, 58, 68, 70, 72, 45])  \n",
    "\n",
    "print('Count, Mean and standard deviation of monthly income of members of Gym 1: %3d, %3.2f and %3.2f' % (len(Gym_1), Gym_1.mean(),np.std(Gym_1,ddof =1)))\n",
    "print('Count, Mean and standard deviation of monthly income of members of Gym 2: %3d, %3.2f and %3.2f' % (len(Gym_2), Gym_2.mean(),np.std(Gym_2,ddof =1)))\n",
    "print('Count, Mean and standard deviation of monthly income of members of Gym 3: %3d, %3.2f and %3.2f' % (len(Gym_3), Gym_3.mean(),np.std(Gym_3,ddof =1)))\n",
    "\n",
    "sns.distplot(Gym_1)\n",
    "sns.distplot(Gym_2)\n",
    "sns.distplot(Gym_3)"
   ]
  },
  {
   "cell_type": "code",
   "execution_count": 5,
   "metadata": {},
   "outputs": [],
   "source": [
    "monthly_inc_df = pd.DataFrame()\n",
    "\n",
    "df1            = pd.DataFrame({'Gym': '1', 'Monthly_inc':Gym_1})\n",
    "df2            = pd.DataFrame({'Gym': '2', 'Monthly_inc':Gym_2})\n",
    "df3            = pd.DataFrame({'Gym': '3', 'Monthly_inc':Gym_3})\n",
    "\n",
    "monthly_inc_df = monthly_inc_df.append(df1) \n",
    "monthly_inc_df = monthly_inc_df.append(df2) \n",
    "monthly_inc_df = monthly_inc_df.append(df3) "
   ]
  },
  {
   "cell_type": "code",
   "execution_count": 6,
   "metadata": {
    "scrolled": false
   },
   "outputs": [
    {
     "data": {
      "text/html": [
       "<div>\n",
       "<style scoped>\n",
       "    .dataframe tbody tr th:only-of-type {\n",
       "        vertical-align: middle;\n",
       "    }\n",
       "\n",
       "    .dataframe tbody tr th {\n",
       "        vertical-align: top;\n",
       "    }\n",
       "\n",
       "    .dataframe thead th {\n",
       "        text-align: right;\n",
       "    }\n",
       "</style>\n",
       "<table border=\"1\" class=\"dataframe\">\n",
       "  <thead>\n",
       "    <tr style=\"text-align: right;\">\n",
       "      <th></th>\n",
       "      <th>Gym</th>\n",
       "      <th>Monthly_inc</th>\n",
       "    </tr>\n",
       "  </thead>\n",
       "  <tbody>\n",
       "    <tr>\n",
       "      <th>0</th>\n",
       "      <td>1</td>\n",
       "      <td>60</td>\n",
       "    </tr>\n",
       "    <tr>\n",
       "      <th>1</th>\n",
       "      <td>1</td>\n",
       "      <td>66</td>\n",
       "    </tr>\n",
       "    <tr>\n",
       "      <th>2</th>\n",
       "      <td>1</td>\n",
       "      <td>65</td>\n",
       "    </tr>\n",
       "    <tr>\n",
       "      <th>3</th>\n",
       "      <td>1</td>\n",
       "      <td>55</td>\n",
       "    </tr>\n",
       "    <tr>\n",
       "      <th>4</th>\n",
       "      <td>1</td>\n",
       "      <td>62</td>\n",
       "    </tr>\n",
       "    <tr>\n",
       "      <th>5</th>\n",
       "      <td>1</td>\n",
       "      <td>70</td>\n",
       "    </tr>\n",
       "    <tr>\n",
       "      <th>6</th>\n",
       "      <td>1</td>\n",
       "      <td>51</td>\n",
       "    </tr>\n",
       "    <tr>\n",
       "      <th>7</th>\n",
       "      <td>1</td>\n",
       "      <td>72</td>\n",
       "    </tr>\n",
       "    <tr>\n",
       "      <th>8</th>\n",
       "      <td>1</td>\n",
       "      <td>58</td>\n",
       "    </tr>\n",
       "    <tr>\n",
       "      <th>9</th>\n",
       "      <td>1</td>\n",
       "      <td>61</td>\n",
       "    </tr>\n",
       "    <tr>\n",
       "      <th>10</th>\n",
       "      <td>1</td>\n",
       "      <td>71</td>\n",
       "    </tr>\n",
       "    <tr>\n",
       "      <th>11</th>\n",
       "      <td>1</td>\n",
       "      <td>41</td>\n",
       "    </tr>\n",
       "    <tr>\n",
       "      <th>12</th>\n",
       "      <td>1</td>\n",
       "      <td>70</td>\n",
       "    </tr>\n",
       "    <tr>\n",
       "      <th>13</th>\n",
       "      <td>1</td>\n",
       "      <td>57</td>\n",
       "    </tr>\n",
       "    <tr>\n",
       "      <th>14</th>\n",
       "      <td>1</td>\n",
       "      <td>55</td>\n",
       "    </tr>\n",
       "    <tr>\n",
       "      <th>15</th>\n",
       "      <td>1</td>\n",
       "      <td>63</td>\n",
       "    </tr>\n",
       "    <tr>\n",
       "      <th>16</th>\n",
       "      <td>1</td>\n",
       "      <td>64</td>\n",
       "    </tr>\n",
       "    <tr>\n",
       "      <th>17</th>\n",
       "      <td>1</td>\n",
       "      <td>76</td>\n",
       "    </tr>\n",
       "    <tr>\n",
       "      <th>18</th>\n",
       "      <td>1</td>\n",
       "      <td>74</td>\n",
       "    </tr>\n",
       "    <tr>\n",
       "      <th>19</th>\n",
       "      <td>1</td>\n",
       "      <td>54</td>\n",
       "    </tr>\n",
       "    <tr>\n",
       "      <th>20</th>\n",
       "      <td>1</td>\n",
       "      <td>58</td>\n",
       "    </tr>\n",
       "    <tr>\n",
       "      <th>21</th>\n",
       "      <td>1</td>\n",
       "      <td>73</td>\n",
       "    </tr>\n",
       "    <tr>\n",
       "      <th>0</th>\n",
       "      <td>2</td>\n",
       "      <td>56</td>\n",
       "    </tr>\n",
       "    <tr>\n",
       "      <th>1</th>\n",
       "      <td>2</td>\n",
       "      <td>65</td>\n",
       "    </tr>\n",
       "    <tr>\n",
       "      <th>2</th>\n",
       "      <td>2</td>\n",
       "      <td>65</td>\n",
       "    </tr>\n",
       "    <tr>\n",
       "      <th>3</th>\n",
       "      <td>2</td>\n",
       "      <td>63</td>\n",
       "    </tr>\n",
       "    <tr>\n",
       "      <th>4</th>\n",
       "      <td>2</td>\n",
       "      <td>57</td>\n",
       "    </tr>\n",
       "    <tr>\n",
       "      <th>5</th>\n",
       "      <td>2</td>\n",
       "      <td>47</td>\n",
       "    </tr>\n",
       "    <tr>\n",
       "      <th>6</th>\n",
       "      <td>2</td>\n",
       "      <td>72</td>\n",
       "    </tr>\n",
       "    <tr>\n",
       "      <th>7</th>\n",
       "      <td>2</td>\n",
       "      <td>56</td>\n",
       "    </tr>\n",
       "    <tr>\n",
       "      <th>...</th>\n",
       "      <td>...</td>\n",
       "      <td>...</td>\n",
       "    </tr>\n",
       "    <tr>\n",
       "      <th>11</th>\n",
       "      <td>2</td>\n",
       "      <td>62</td>\n",
       "    </tr>\n",
       "    <tr>\n",
       "      <th>12</th>\n",
       "      <td>2</td>\n",
       "      <td>68</td>\n",
       "    </tr>\n",
       "    <tr>\n",
       "      <th>13</th>\n",
       "      <td>2</td>\n",
       "      <td>75</td>\n",
       "    </tr>\n",
       "    <tr>\n",
       "      <th>14</th>\n",
       "      <td>2</td>\n",
       "      <td>60</td>\n",
       "    </tr>\n",
       "    <tr>\n",
       "      <th>15</th>\n",
       "      <td>2</td>\n",
       "      <td>73</td>\n",
       "    </tr>\n",
       "    <tr>\n",
       "      <th>16</th>\n",
       "      <td>2</td>\n",
       "      <td>63</td>\n",
       "    </tr>\n",
       "    <tr>\n",
       "      <th>17</th>\n",
       "      <td>2</td>\n",
       "      <td>64</td>\n",
       "    </tr>\n",
       "    <tr>\n",
       "      <th>0</th>\n",
       "      <td>3</td>\n",
       "      <td>67</td>\n",
       "    </tr>\n",
       "    <tr>\n",
       "      <th>1</th>\n",
       "      <td>3</td>\n",
       "      <td>56</td>\n",
       "    </tr>\n",
       "    <tr>\n",
       "      <th>2</th>\n",
       "      <td>3</td>\n",
       "      <td>65</td>\n",
       "    </tr>\n",
       "    <tr>\n",
       "      <th>3</th>\n",
       "      <td>3</td>\n",
       "      <td>61</td>\n",
       "    </tr>\n",
       "    <tr>\n",
       "      <th>4</th>\n",
       "      <td>3</td>\n",
       "      <td>63</td>\n",
       "    </tr>\n",
       "    <tr>\n",
       "      <th>5</th>\n",
       "      <td>3</td>\n",
       "      <td>59</td>\n",
       "    </tr>\n",
       "    <tr>\n",
       "      <th>6</th>\n",
       "      <td>3</td>\n",
       "      <td>42</td>\n",
       "    </tr>\n",
       "    <tr>\n",
       "      <th>7</th>\n",
       "      <td>3</td>\n",
       "      <td>53</td>\n",
       "    </tr>\n",
       "    <tr>\n",
       "      <th>8</th>\n",
       "      <td>3</td>\n",
       "      <td>63</td>\n",
       "    </tr>\n",
       "    <tr>\n",
       "      <th>9</th>\n",
       "      <td>3</td>\n",
       "      <td>65</td>\n",
       "    </tr>\n",
       "    <tr>\n",
       "      <th>10</th>\n",
       "      <td>3</td>\n",
       "      <td>60</td>\n",
       "    </tr>\n",
       "    <tr>\n",
       "      <th>11</th>\n",
       "      <td>3</td>\n",
       "      <td>57</td>\n",
       "    </tr>\n",
       "    <tr>\n",
       "      <th>12</th>\n",
       "      <td>3</td>\n",
       "      <td>62</td>\n",
       "    </tr>\n",
       "    <tr>\n",
       "      <th>13</th>\n",
       "      <td>3</td>\n",
       "      <td>70</td>\n",
       "    </tr>\n",
       "    <tr>\n",
       "      <th>14</th>\n",
       "      <td>3</td>\n",
       "      <td>73</td>\n",
       "    </tr>\n",
       "    <tr>\n",
       "      <th>15</th>\n",
       "      <td>3</td>\n",
       "      <td>63</td>\n",
       "    </tr>\n",
       "    <tr>\n",
       "      <th>16</th>\n",
       "      <td>3</td>\n",
       "      <td>55</td>\n",
       "    </tr>\n",
       "    <tr>\n",
       "      <th>17</th>\n",
       "      <td>3</td>\n",
       "      <td>52</td>\n",
       "    </tr>\n",
       "    <tr>\n",
       "      <th>18</th>\n",
       "      <td>3</td>\n",
       "      <td>58</td>\n",
       "    </tr>\n",
       "    <tr>\n",
       "      <th>19</th>\n",
       "      <td>3</td>\n",
       "      <td>68</td>\n",
       "    </tr>\n",
       "    <tr>\n",
       "      <th>20</th>\n",
       "      <td>3</td>\n",
       "      <td>70</td>\n",
       "    </tr>\n",
       "    <tr>\n",
       "      <th>21</th>\n",
       "      <td>3</td>\n",
       "      <td>72</td>\n",
       "    </tr>\n",
       "    <tr>\n",
       "      <th>22</th>\n",
       "      <td>3</td>\n",
       "      <td>45</td>\n",
       "    </tr>\n",
       "  </tbody>\n",
       "</table>\n",
       "<p>63 rows × 2 columns</p>\n",
       "</div>"
      ],
      "text/plain": [
       "   Gym  Monthly_inc\n",
       "0    1           60\n",
       "1    1           66\n",
       "2    1           65\n",
       "3    1           55\n",
       "4    1           62\n",
       "5    1           70\n",
       "6    1           51\n",
       "7    1           72\n",
       "8    1           58\n",
       "9    1           61\n",
       "10   1           71\n",
       "11   1           41\n",
       "12   1           70\n",
       "13   1           57\n",
       "14   1           55\n",
       "15   1           63\n",
       "16   1           64\n",
       "17   1           76\n",
       "18   1           74\n",
       "19   1           54\n",
       "20   1           58\n",
       "21   1           73\n",
       "0    2           56\n",
       "1    2           65\n",
       "2    2           65\n",
       "3    2           63\n",
       "4    2           57\n",
       "5    2           47\n",
       "6    2           72\n",
       "7    2           56\n",
       "..  ..          ...\n",
       "11   2           62\n",
       "12   2           68\n",
       "13   2           75\n",
       "14   2           60\n",
       "15   2           73\n",
       "16   2           63\n",
       "17   2           64\n",
       "0    3           67\n",
       "1    3           56\n",
       "2    3           65\n",
       "3    3           61\n",
       "4    3           63\n",
       "5    3           59\n",
       "6    3           42\n",
       "7    3           53\n",
       "8    3           63\n",
       "9    3           65\n",
       "10   3           60\n",
       "11   3           57\n",
       "12   3           62\n",
       "13   3           70\n",
       "14   3           73\n",
       "15   3           63\n",
       "16   3           55\n",
       "17   3           52\n",
       "18   3           58\n",
       "19   3           68\n",
       "20   3           70\n",
       "21   3           72\n",
       "22   3           45\n",
       "\n",
       "[63 rows x 2 columns]"
      ]
     },
     "execution_count": 6,
     "metadata": {},
     "output_type": "execute_result"
    }
   ],
   "source": [
    "monthly_inc_df"
   ]
  },
  {
   "cell_type": "code",
   "execution_count": 7,
   "metadata": {},
   "outputs": [
    {
     "name": "stderr",
     "output_type": "stream",
     "text": [
      "C:\\Users\\hp\\Anaconda3\\lib\\site-packages\\scipy\\stats\\stats.py:1713: FutureWarning: Using a non-tuple sequence for multidimensional indexing is deprecated; use `arr[tuple(seq)]` instead of `arr[seq]`. In the future this will be interpreted as an array index, `arr[np.array(seq)]`, which will result either in an error or a different result.\n",
      "  return np.add.reduce(sorted[indexer] * weights, axis=axis) / sumval\n",
      "C:\\Users\\hp\\Anaconda3\\lib\\site-packages\\statsmodels\\nonparametric\\kde.py:488: RuntimeWarning: invalid value encountered in true_divide\n",
      "  binned = fast_linbin(X, a, b, gridsize) / (delta * nobs)\n",
      "C:\\Users\\hp\\Anaconda3\\lib\\site-packages\\statsmodels\\nonparametric\\kdetools.py:34: RuntimeWarning: invalid value encountered in double_scalars\n",
      "  FAC1 = 2*(np.pi*bw/RANGE)**2\n",
      "C:\\Users\\hp\\Anaconda3\\lib\\site-packages\\numpy\\core\\fromnumeric.py:83: RuntimeWarning: invalid value encountered in reduce\n",
      "  return ufunc.reduce(obj, axis, dtype, out, **passkwargs)\n"
     ]
    },
    {
     "data": {
      "text/plain": [
       "<seaborn.axisgrid.PairGrid at 0x536e358>"
      ]
     },
     "execution_count": 7,
     "metadata": {},
     "output_type": "execute_result"
    },
    {
     "data": {
      "image/png": "[encoded data removed]",
      "text/plain": [
       "<Figure size 402.375x360 with 6 Axes>"
      ]
     },
     "metadata": {
      "needs_background": "light"
     },
     "output_type": "display_data"
    }
   ],
   "source": [
    "sns.pairplot(monthly_inc_df,diag_kind='kde',hue='Gym')"
   ]
  },
  {
   "cell_type": "markdown",
   "metadata": {},
   "source": [
    "### Let us explore the data graphically"
   ]
  },
  {
   "cell_type": "markdown",
   "metadata": {},
   "source": [
    "### A side by side boxplot is one of the best way to compare group locations, spreads and shapes."
   ]
  },
  {
   "cell_type": "code",
   "execution_count": 8,
   "metadata": {
    "scrolled": true
   },
   "outputs": [
    {
     "data": {
      "image/png": "[encoded data removed]",
      "text/plain": [
       "<Figure size 432x288 with 1 Axes>"
      ]
     },
     "metadata": {
      "needs_background": "light"
     },
     "output_type": "display_data"
    }
   ],
   "source": [
    "sns.boxplot(x = \"Gym\", y = \"Monthly_inc\", data = monthly_inc_df)\n",
    "plt.title('Monthly income of Gym members')\n",
    "plt.show()"
   ]
  },
  {
   "cell_type": "code",
   "execution_count": null,
   "metadata": {},
   "outputs": [],
   "source": []
  },
  {
   "cell_type": "markdown",
   "metadata": {},
   "source": [
    "#### The boxplots show almost similar shapes, location and spreads and group 3 has an low outlier."
   ]
  },
  {
   "cell_type": "markdown",
   "metadata": {},
   "source": [
    "### Step 1: State the null and alternative hypothesis:\n",
    "\n",
    "* $H_0$: $\\mu1$ = $\\mu2$ = $\\mu3$\n",
    "* $H_A$: At least one $\\mu$ differs "
   ]
  },
  {
   "cell_type": "markdown",
   "metadata": {},
   "source": [
    "### Step 2: Decide the significance level"
   ]
  },
  {
   "cell_type": "markdown",
   "metadata": {},
   "source": [
    "Here we select $\\alpha$ = 0.05 "
   ]
  },
  {
   "cell_type": "markdown",
   "metadata": {},
   "source": [
    "### Step 3: Identify the test statistic"
   ]
  },
  {
   "cell_type": "markdown",
   "metadata": {},
   "source": [
    "Here we have three groups. Analysis of variance can determine whether the means of three or more groups are different. ANOVA uses F-tests to statistically test the equality of means."
   ]
  },
  {
   "cell_type": "markdown",
   "metadata": {},
   "source": [
    "### Step 4: Calculate F, a test statistic"
   ]
  },
  {
   "cell_type": "markdown",
   "metadata": {},
   "source": [
    "* scipy.stats.f.ppf gives the critical value at a given level of confidence with a pair of degrees of freedom.\n",
    "* scipy.stats.f.cdf gives the cumulative distribution function for the given random variable - given the calculated F value at a given level of confidence with a pair of degrees of freedom. "
   ]
  },
  {
   "cell_type": "code",
   "execution_count": 9,
   "metadata": {
    "scrolled": true
   },
   "outputs": [],
   "source": [
    "import scipy.stats             as     stats"
   ]
  },
  {
   "cell_type": "code",
   "execution_count": 10,
   "metadata": {},
   "outputs": [
    {
     "name": "stdout",
     "output_type": "stream",
     "text": [
      "F critical value for 2 and 60 df with .95 confidence 3.15\n"
     ]
    }
   ],
   "source": [
    "crit = stats.f.ppf(q = 1-0.05, dfn = 2, dfd = 60)\n",
    "print('F critical value for 2 and 60 df with .95 confidence %3.2f' %crit)"
   ]
  },
  {
   "cell_type": "markdown",
   "metadata": {},
   "source": [
    "### or Calculate p value"
   ]
  },
  {
   "cell_type": "code",
   "execution_count": 11,
   "metadata": {},
   "outputs": [
    {
     "name": "stdout",
     "output_type": "stream",
     "text": [
      "P value for 2 and 60 df with .95 confidence for the calculated F value 0.61079\n"
     ]
    }
   ],
   "source": [
    "p_value = 1 -stats.f.cdf(0.497075, dfn = 2, dfd = 60)\n",
    "print('P value for 2 and 60 df with .95 confidence for the calculated F value %3.5f' % p_value)"
   ]
  },
  {
   "cell_type": "markdown",
   "metadata": {},
   "source": [
    "### Or formulate an ANOVA table using statsmodels"
   ]
  },
  {
   "cell_type": "markdown",
   "metadata": {},
   "source": [
    "* statsmodels.formula.api.ols creates a model from a formula and dataframe\n",
    "* statsmodels.api.sm.stats.anova_lm gives an Anova table for one or more fitted linear models\n",
    "\n",
    "In the formula. we know that \n",
    "* 1)  ~ separates the left hand side of the model from the right hand side\n",
    "* 2) + adds new columns to the design matrix\n",
    "* 3) :  adds a new column to the design matrix with the product of the other two columns\n",
    "* 4) * also adds the individual columns multiplied together along with their product\n",
    "* 5) C() operator denotes that the variable enclosed in C() will be treated explicitly as categorical variable."
   ]
  },
  {
   "cell_type": "code",
   "execution_count": 51,
   "metadata": {
    "scrolled": true
   },
   "outputs": [
    {
     "name": "stdout",
     "output_type": "stream",
     "text": [
      "               sum_sq    df         F   PR(>F)\n",
      "Gym         66.614123   2.0  0.497075  0.61079\n",
      "Residual  4020.370004  60.0       NaN      NaN\n"
     ]
    }
   ],
   "source": [
    "import statsmodels.api         as     sm\n",
    "from   statsmodels.formula.api import ols\n",
    " \n",
    "mod = ols('Monthly_inc ~ Gym', data = monthly_inc_df).fit()\n",
    "aov_table = sm.stats.anova_lm(mod, typ=2)\n",
    "print(aov_table)"
   ]
  },
  {
   "cell_type": "markdown",
   "metadata": {},
   "source": [
    "### Step 5:  Decide to reject or accept null hypothesis"
   ]
  },
  {
   "cell_type": "markdown",
   "metadata": {},
   "source": [
    "In this example, calculated value of F ( = 0.497075) is less than Critical value of F( = 3.15)\n",
    "\n",
    "So the statistical decision is to reject the null hypothesis at 5% level of significance.\n",
    "\n",
    "### So there is  sufficient evidence  to reject the null hypothesis that at least one mean monthly income of a gym is different from others ."
   ]
  },
  {
   "cell_type": "markdown",
   "metadata": {},
   "source": [
    "### Example 2"
   ]
  },
  {
   "cell_type": "markdown",
   "metadata": {
    "collapsed": true
   },
   "source": [
    "#### National Transportation Safety Board  (NTSB) examines the safety of compact cars, midsize cars and full-size cars. \n",
    "\n",
    "Using the fake data given below, test whether the mean pressure applied to the driver's head during a crash test is equal for each types of  car at 5% level of significance.\n",
    "\n",
    "* mean_pressure_ compact_car    =  [643, 655,702]\n",
    "* mean_pressure_ midsize_car    =  [469, 427, 525]\n",
    "* mean_pressure_ fullsize_car   =  [484, 456, 402]"
   ]
  },
  {
   "cell_type": "code",
   "execution_count": 52,
   "metadata": {},
   "outputs": [],
   "source": [
    "import pandas            as pd\n",
    "import numpy             as np\n",
    "import matplotlib.pyplot as plt\n",
    "import seaborn           as sns"
   ]
  },
  {
   "cell_type": "code",
   "execution_count": 53,
   "metadata": {},
   "outputs": [
    {
     "name": "stdout",
     "output_type": "stream",
     "text": [
      "Count, Mean and standard deviation of mean pressue exerted by compact car:   3, 666.67 and 31.18\n",
      "Count, Mean and standard deviation of mean pressue exerted by midsize car:   3, 473.67 and 49.17\n",
      "Count, Mean and standard deviation of mean pressue exerted by full size car:   3, 447.33 and 41.68\n"
     ]
    }
   ],
   "source": [
    "mean_pressure_compact_car    =  np.array([643, 655,702])\n",
    "mean_pressure_midsize_car    =  np.array([469, 427, 525])\n",
    "mean_pressure_fullsize_car   =  np.array([484, 456, 402])\n",
    "print('Count, Mean and standard deviation of mean pressue exerted by compact car: %3d, %3.2f and %3.2f' % (len(mean_pressure_compact_car ), mean_pressure_compact_car .mean(),np.std(mean_pressure_compact_car ,ddof =1)))\n",
    "print('Count, Mean and standard deviation of mean pressue exerted by midsize car: %3d, %3.2f and %3.2f' % (len(mean_pressure_midsize_car), mean_pressure_midsize_car.mean(),np.std(mean_pressure_midsize_car,ddof =1)))\n",
    "print('Count, Mean and standard deviation of mean pressue exerted by full size car: %3d, %3.2f and %3.2f' % (len(mean_pressure_fullsize_car), mean_pressure_fullsize_car.mean(),np.std(mean_pressure_fullsize_car,ddof =1)))"
   ]
  },
  {
   "cell_type": "code",
   "execution_count": 54,
   "metadata": {},
   "outputs": [],
   "source": [
    "mean_pressure_df = pd.DataFrame()\n",
    "\n",
    "df1            = pd.DataFrame({'Car_Type': 'C', 'Mean_Pressure':mean_pressure_compact_car})\n",
    "df2            = pd.DataFrame({'Car_Type': 'M', 'Mean_Pressure':mean_pressure_midsize_car})\n",
    "df3            = pd.DataFrame({'Car_Type': 'F', 'Mean_Pressure':mean_pressure_fullsize_car})\n",
    "\n",
    "mean_pressure_df = mean_pressure_df.append(df1) \n",
    "mean_pressure_df = mean_pressure_df.append(df2) \n",
    "mean_pressure_df = mean_pressure_df.append(df3) "
   ]
  },
  {
   "cell_type": "code",
   "execution_count": 55,
   "metadata": {},
   "outputs": [
    {
     "data": {
      "text/html": [
       "<div>\n",
       "<style scoped>\n",
       "    .dataframe tbody tr th:only-of-type {\n",
       "        vertical-align: middle;\n",
       "    }\n",
       "\n",
       "    .dataframe tbody tr th {\n",
       "        vertical-align: top;\n",
       "    }\n",
       "\n",
       "    .dataframe thead th {\n",
       "        text-align: right;\n",
       "    }\n",
       "</style>\n",
       "<table border=\"1\" class=\"dataframe\">\n",
       "  <thead>\n",
       "    <tr style=\"text-align: right;\">\n",
       "      <th></th>\n",
       "      <th>Car_Type</th>\n",
       "      <th>Mean_Pressure</th>\n",
       "    </tr>\n",
       "  </thead>\n",
       "  <tbody>\n",
       "    <tr>\n",
       "      <th>0</th>\n",
       "      <td>C</td>\n",
       "      <td>643</td>\n",
       "    </tr>\n",
       "    <tr>\n",
       "      <th>1</th>\n",
       "      <td>C</td>\n",
       "      <td>655</td>\n",
       "    </tr>\n",
       "    <tr>\n",
       "      <th>2</th>\n",
       "      <td>C</td>\n",
       "      <td>702</td>\n",
       "    </tr>\n",
       "    <tr>\n",
       "      <th>0</th>\n",
       "      <td>M</td>\n",
       "      <td>469</td>\n",
       "    </tr>\n",
       "    <tr>\n",
       "      <th>1</th>\n",
       "      <td>M</td>\n",
       "      <td>427</td>\n",
       "    </tr>\n",
       "    <tr>\n",
       "      <th>2</th>\n",
       "      <td>M</td>\n",
       "      <td>525</td>\n",
       "    </tr>\n",
       "    <tr>\n",
       "      <th>0</th>\n",
       "      <td>F</td>\n",
       "      <td>484</td>\n",
       "    </tr>\n",
       "    <tr>\n",
       "      <th>1</th>\n",
       "      <td>F</td>\n",
       "      <td>456</td>\n",
       "    </tr>\n",
       "    <tr>\n",
       "      <th>2</th>\n",
       "      <td>F</td>\n",
       "      <td>402</td>\n",
       "    </tr>\n",
       "  </tbody>\n",
       "</table>\n",
       "</div>"
      ],
      "text/plain": [
       "  Car_Type  Mean_Pressure\n",
       "0        C            643\n",
       "1        C            655\n",
       "2        C            702\n",
       "0        M            469\n",
       "1        M            427\n",
       "2        M            525\n",
       "0        F            484\n",
       "1        F            456\n",
       "2        F            402"
      ]
     },
     "execution_count": 55,
     "metadata": {},
     "output_type": "execute_result"
    }
   ],
   "source": [
    "mean_pressure_df"
   ]
  },
  {
   "cell_type": "markdown",
   "metadata": {},
   "source": [
    "### Let us explore the data graphically"
   ]
  },
  {
   "cell_type": "markdown",
   "metadata": {},
   "source": [
    "### A side by side boxplot is one of the best way to compare group locations, spreads and shapes."
   ]
  },
  {
   "cell_type": "code",
   "execution_count": 56,
   "metadata": {
    "scrolled": true
   },
   "outputs": [
    {
     "data": {
      "image/png": "[encoded data removed]",
      "text/plain": [
       "<Figure size 432x288 with 1 Axes>"
      ]
     },
     "metadata": {
      "needs_background": "light"
     },
     "output_type": "display_data"
    }
   ],
   "source": [
    "sns.boxplot(x = \"Car_Type\", y = \"Mean_Pressure\", data = mean_pressure_df)\n",
    "plt.title('Mean pressure exerted by car types')\n",
    "plt.show()"
   ]
  },
  {
   "cell_type": "code",
   "execution_count": 57,
   "metadata": {},
   "outputs": [
    {
     "data": {
      "text/plain": [
       "<seaborn.axisgrid.PairGrid at 0xbd8a470>"
      ]
     },
     "execution_count": 57,
     "metadata": {},
     "output_type": "execute_result"
    },
    {
     "data": {
      "image/png": "[encoded data removed]",
      "text/plain": [
       "<Figure size 234.359x180 with 2 Axes>"
      ]
     },
     "metadata": {
      "needs_background": "light"
     },
     "output_type": "display_data"
    }
   ],
   "source": [
    "sns.pairplot(mean_pressure_df,diag_kind='kde',hue='Car_Type')"
   ]
  },
  {
   "cell_type": "code",
   "execution_count": 58,
   "metadata": {},
   "outputs": [
    {
     "name": "stdout",
     "output_type": "stream",
     "text": [
      "                sum_sq   df          F    PR(>F)\n",
      "Car_Type  86049.555556  2.0  25.175411  0.001207\n",
      "Residual  10254.000000  6.0        NaN       NaN\n"
     ]
    }
   ],
   "source": [
    "import statsmodels.api         as     sm\n",
    "from   statsmodels.formula.api import ols\n",
    " \n",
    "mod = ols('Mean_Pressure ~ Car_Type', data = mean_pressure_df).fit()\n",
    "aov_table = sm.stats.anova_lm(mod, typ=2)\n",
    "print(aov_table)"
   ]
  },
  {
   "cell_type": "code",
   "execution_count": 59,
   "metadata": {},
   "outputs": [
    {
     "name": "stdout",
     "output_type": "stream",
     "text": [
      "Multiple Comparison of Means - Tukey HSD,FWER=0.05\n",
      "==================================================\n",
      "group1 group2  meandiff   lower     upper   reject\n",
      "--------------------------------------------------\n",
      "  C      F    -219.3333 -322.7791 -115.8876  True \n",
      "  C      M      -193.0  -296.4458  -89.5542  True \n",
      "  F      M     26.3333   -77.1124  129.7791 False \n",
      "--------------------------------------------------\n"
     ]
    }
   ],
   "source": [
    "from statsmodels.stats.multicomp import pairwise_tukeyhsd\n",
    "print(pairwise_tukeyhsd(mean_pressure_df[\"Mean_Pressure\"], \n",
    "                        mean_pressure_df[\"Car_Type\"]))"
   ]
  },
  {
   "cell_type": "markdown",
   "metadata": {},
   "source": [
    "### Step 5:  Decide to reject or accept null hypothesis"
   ]
  },
  {
   "cell_type": "markdown",
   "metadata": {},
   "source": [
    "In this example, p value is 0.001207 and it is less than our chosen level of signifance at 5%\n",
    "\n",
    "So the statistical decision is to reject the null hypothesis at 5% level of significance.\n",
    "\n",
    "### So there is  sufficient evidence  to reject the null hypothesis that at least one mean pressure of car is different from others ."
   ]
  },
  {
   "cell_type": "markdown",
   "metadata": {},
   "source": [
    "### Practice Exercise 1"
   ]
  },
  {
   "cell_type": "markdown",
   "metadata": {},
   "source": [
    "A company makes three types of electronic device.\n",
    "Life time in hours for each type of electronic device is given below:\n",
    "\n",
    "* life_type_A = [ 407, 411, 409 ]\n",
    "* life_type_B = [ 404, 406, 408, 405, 402 ]\n",
    "* ife_type_C  = [ 410, 408, 406, 408]"
   ]
  },
  {
   "cell_type": "markdown",
   "metadata": {},
   "source": [
    "### Hint"
   ]
  },
  {
   "cell_type": "code",
   "execution_count": 60,
   "metadata": {},
   "outputs": [],
   "source": [
    "import pandas            as pd\n",
    "import numpy             as np\n",
    "import matplotlib.pyplot as plt\n",
    "import seaborn           as sns"
   ]
  },
  {
   "cell_type": "code",
   "execution_count": 61,
   "metadata": {},
   "outputs": [
    {
     "data": {
      "text/plain": [
       "<matplotlib.axes._subplots.AxesSubplot at 0xe48d4e0>"
      ]
     },
     "execution_count": 61,
     "metadata": {},
     "output_type": "execute_result"
    },
    {
     "data": {
      "image/png": "[encoded data removed]",
      "text/plain": [
       "<Figure size 432x288 with 1 Axes>"
      ]
     },
     "metadata": {
      "needs_background": "light"
     },
     "output_type": "display_data"
    }
   ],
   "source": [
    "life_type_A = np.array([407, 411, 409 ])\n",
    "life_type_B = np.array([404, 406, 408, 405, 402 ])\n",
    "life_type_C  = np.array([410, 408, 406, 408])\n",
    "sns.distplot(life_type_A)\n",
    "sns.distplot(life_type_B)\n",
    "sns.distplot(life_type_C)"
   ]
  },
  {
   "cell_type": "code",
   "execution_count": 62,
   "metadata": {},
   "outputs": [
    {
     "data": {
      "text/html": [
       "<div>\n",
       "<style scoped>\n",
       "    .dataframe tbody tr th:only-of-type {\n",
       "        vertical-align: middle;\n",
       "    }\n",
       "\n",
       "    .dataframe tbody tr th {\n",
       "        vertical-align: top;\n",
       "    }\n",
       "\n",
       "    .dataframe thead th {\n",
       "        text-align: right;\n",
       "    }\n",
       "</style>\n",
       "<table border=\"1\" class=\"dataframe\">\n",
       "  <thead>\n",
       "    <tr style=\"text-align: right;\">\n",
       "      <th></th>\n",
       "      <th>Type</th>\n",
       "      <th>Life_hours</th>\n",
       "    </tr>\n",
       "  </thead>\n",
       "  <tbody>\n",
       "    <tr>\n",
       "      <th>0</th>\n",
       "      <td>A</td>\n",
       "      <td>407</td>\n",
       "    </tr>\n",
       "    <tr>\n",
       "      <th>1</th>\n",
       "      <td>A</td>\n",
       "      <td>411</td>\n",
       "    </tr>\n",
       "    <tr>\n",
       "      <th>2</th>\n",
       "      <td>A</td>\n",
       "      <td>409</td>\n",
       "    </tr>\n",
       "    <tr>\n",
       "      <th>0</th>\n",
       "      <td>B</td>\n",
       "      <td>404</td>\n",
       "    </tr>\n",
       "    <tr>\n",
       "      <th>1</th>\n",
       "      <td>B</td>\n",
       "      <td>406</td>\n",
       "    </tr>\n",
       "  </tbody>\n",
       "</table>\n",
       "</div>"
      ],
      "text/plain": [
       "  Type  Life_hours\n",
       "0    A         407\n",
       "1    A         411\n",
       "2    A         409\n",
       "0    B         404\n",
       "1    B         406"
      ]
     },
     "execution_count": 62,
     "metadata": {},
     "output_type": "execute_result"
    }
   ],
   "source": [
    "life_type_df = pd.DataFrame()\n",
    "\n",
    "df1            = pd.DataFrame({'Type': 'A', 'Life_hours':life_type_A})\n",
    "df2            = pd.DataFrame({'Type': 'B', 'Life_hours':life_type_B})\n",
    "df3            = pd.DataFrame({'Type': 'C', 'Life_hours':life_type_C})\n",
    "\n",
    "life_type_df = life_type_df.append(df1) \n",
    "life_type_df = life_type_df.append(df2) \n",
    "life_type_df = life_type_df.append(df3) \n",
    "life_type_df.head()"
   ]
  },
  {
   "cell_type": "markdown",
   "metadata": {},
   "source": [
    "### A side by side boxplot is one of the best way to compare group locations, spreads and shapes."
   ]
  },
  {
   "cell_type": "code",
   "execution_count": 63,
   "metadata": {},
   "outputs": [
    {
     "data": {
      "image/png": "[encoded data removed]",
      "text/plain": [
       "<Figure size 432x288 with 1 Axes>"
      ]
     },
     "metadata": {
      "needs_background": "light"
     },
     "output_type": "display_data"
    }
   ],
   "source": [
    "sns.boxplot(x = \"Type\", y = \"Life_hours\", data = life_type_df)\n",
    "plt.title('Mean Life_hours by  types')\n",
    "plt.show()"
   ]
  },
  {
   "cell_type": "markdown",
   "metadata": {},
   "source": [
    "### a)  Write your inferene on the group means from the above boxplots."
   ]
  },
  {
   "cell_type": "code",
   "execution_count": 64,
   "metadata": {},
   "outputs": [
    {
     "name": "stdout",
     "output_type": "stream",
     "text": [
      "Multiple Comparison of Means - Tukey HSD,FWER=0.05\n",
      "============================================\n",
      "group1 group2 meandiff  lower  upper  reject\n",
      "--------------------------------------------\n",
      "  A      B      -4.0   -8.0746 0.0746 False \n",
      "  A      C      -1.0   -5.2613 3.2613 False \n",
      "  B      C      3.0    -0.7427 6.7427 False \n",
      "--------------------------------------------\n"
     ]
    }
   ],
   "source": [
    "from statsmodels.stats.multicomp import (pairwise_tukeyhsd,\n",
    "                                         MultiComparison)\n",
    "\n",
    "# Set up the data for comparison (creates a specialised object)\n",
    "MultiComp = MultiComparison(life_type_df['Life_hours'],life_type_df['Type']\n",
    "                            )\n",
    "\n",
    "# Show all pair-wise comparisons:\n",
    "\n",
    "# Print the comparisons\n",
    "\n",
    "print(MultiComp.tukeyhsd(alpha=0.05).summary())"
   ]
  },
  {
   "cell_type": "markdown",
   "metadata": {},
   "source": [
    "### b)  At 5% level of significance, is there any difference in the average lifetimes of the three types?"
   ]
  },
  {
   "cell_type": "code",
   "execution_count": null,
   "metadata": {},
   "outputs": [],
   "source": []
  },
  {
   "cell_type": "code",
   "execution_count": 65,
   "metadata": {},
   "outputs": [
    {
     "name": "stdout",
     "output_type": "stream",
     "text": [
      "          sum_sq   df    F    PR(>F)\n",
      "Type        36.0  2.0  4.5  0.044194\n",
      "Residual    36.0  9.0  NaN       NaN\n"
     ]
    }
   ],
   "source": [
    "import statsmodels.api         as     sm\n",
    "from   statsmodels.formula.api import ols\n",
    " \n",
    "mod = ols('Life_hours ~ Type', data = life_type_df).fit()\n",
    "aov_table = sm.stats.anova_lm(mod, typ=2)\n",
    "print(aov_table)"
   ]
  },
  {
   "cell_type": "markdown",
   "metadata": {},
   "source": [
    "## Two-way ANOVA"
   ]
  },
  {
   "cell_type": "markdown",
   "metadata": {},
   "source": [
    "### Example 3"
   ]
  },
  {
   "cell_type": "markdown",
   "metadata": {},
   "source": [
    "The following table shows the quantity of soaps at different discount at locations collected over 20 days."
   ]
  },
  {
   "cell_type": "code",
   "execution_count": 66,
   "metadata": {
    "scrolled": false
   },
   "outputs": [
    {
     "name": "stdout",
     "output_type": "stream",
     "text": [
      "    Loc  Dis0  Dis10  Dis20\n",
      "0     1    20     28     32\n",
      "1     2    20     19     20\n",
      "2     1    16     23     29\n",
      "3     2    21     27     31\n",
      "4     1    24     25     28\n",
      "5     2    23     23     35\n",
      "6     1    20     31     27\n",
      "7     2    19     30     25\n",
      "8     1    19     25     30\n",
      "9     2    25     25     31\n",
      "10    1    10     24     26\n",
      "11    2    22     21     31\n",
      "12    1    24     28     37\n",
      "13    2    25     33     31\n",
      "14    1    16     23     33\n",
      "15    2    21     26     23\n",
      "16    1    25     26     27\n",
      "17    2    26     22     22\n",
      "18    1    16     25     31\n",
      "19    2    22     28     32\n",
      "20    1    18     22     37\n",
      "21    2    25     24     22\n",
      "22    1    20     24     28\n",
      "23    2    23     23     29\n",
      "24    1    17     26     25\n",
      "25    2    23     26     25\n",
      "26    1    26     28     23\n",
      "27    2    24     16     34\n",
      "28    1    16     21     26\n",
      "29    2    20     30     30\n",
      "30    1    21     27     33\n",
      "31    2    23     22     25\n",
      "32    1    24     25     28\n",
      "33    2    18     16     39\n",
      "34    1    19     20     30\n",
      "35    2    19     25     32\n",
      "36    1    19     26     30\n",
      "37    2    19     34     29\n",
      "38    1    21     26     26\n",
      "39    2    30     23     22\n"
     ]
    }
   ],
   "source": [
    "table1  = [['Loc','Dis0','Dis10','Dis20'], [ 1, 20, 28, 32], [ 2, 20, 19, 20],\n",
    "  [ 1, 16, 23, 29 ],[ 2, 21, 27, 31 ],[ 1, 24, 25, 28 ],[ 2, 23, 23, 35 ],\n",
    "  [ 1, 20, 31, 27 ],[ 2, 19, 30, 25 ],[ 1, 19, 25, 30 ],[ 2, 25, 25, 31 ],\n",
    "  [ 1, 10, 24, 26 ],[ 2, 22, 21, 31 ],[ 1, 24, 28, 37 ],[ 2, 25, 33, 31 ],\n",
    "  [ 1, 16, 23, 33 ],[ 2, 21, 26, 23 ],[ 1, 25, 26, 27 ],[ 2, 26, 22, 22 ],\n",
    "  [ 1, 16, 25, 31 ],[ 2, 22, 28, 32 ],[ 1, 18, 22, 37 ],[ 2, 25, 24, 22 ],\n",
    "  [ 1, 20, 24, 28 ],[ 2, 23, 23, 29 ],[ 1, 17, 26, 25 ],[ 2, 23, 26, 25 ],\n",
    "  [ 1, 26, 28, 23 ],[ 2, 24, 16, 34 ],[ 1, 16, 21, 26 ],[ 2, 20, 30, 30 ],\n",
    "  [ 1, 21, 27, 33 ],[2, 23, 22, 25 ],[ 1, 24, 25, 28 ],[ 2, 18, 16, 39 ],\n",
    "  [ 1, 19, 20, 30 ],[ 2, 19, 25, 32 ],[ 1, 19, 26, 30 ],[ 2, 19, 34, 29 ],\n",
    "  [ 1, 21, 26, 26 ],[ 2, 30, 23, 22 ]]\n",
    "headers = table1.pop(0) #\n",
    "\n",
    "df1 = pd.DataFrame(table1, columns=headers)\n",
    "print(df1)"
   ]
  },
  {
   "cell_type": "markdown",
   "metadata": {},
   "source": [
    "This is a two-way ANOVA with replication since the data contains values for multiple locations."
   ]
  },
  {
   "cell_type": "markdown",
   "metadata": {},
   "source": [
    "Conduct a two-way ANOVA at $\\alpha$ = 5% to test the effects of discounts and location on sales."
   ]
  },
  {
   "cell_type": "code",
   "execution_count": 67,
   "metadata": {},
   "outputs": [
    {
     "data": {
      "text/html": [
       "<div>\n",
       "<style scoped>\n",
       "    .dataframe tbody tr th:only-of-type {\n",
       "        vertical-align: middle;\n",
       "    }\n",
       "\n",
       "    .dataframe tbody tr th {\n",
       "        vertical-align: top;\n",
       "    }\n",
       "\n",
       "    .dataframe thead th {\n",
       "        text-align: right;\n",
       "    }\n",
       "</style>\n",
       "<table border=\"1\" class=\"dataframe\">\n",
       "  <thead>\n",
       "    <tr style=\"text-align: right;\">\n",
       "      <th></th>\n",
       "      <th>Loc</th>\n",
       "      <th>Discount</th>\n",
       "      <th>Qty</th>\n",
       "    </tr>\n",
       "  </thead>\n",
       "  <tbody>\n",
       "    <tr>\n",
       "      <th>0</th>\n",
       "      <td>1</td>\n",
       "      <td>0</td>\n",
       "      <td>20</td>\n",
       "    </tr>\n",
       "    <tr>\n",
       "      <th>1</th>\n",
       "      <td>2</td>\n",
       "      <td>0</td>\n",
       "      <td>20</td>\n",
       "    </tr>\n",
       "    <tr>\n",
       "      <th>2</th>\n",
       "      <td>1</td>\n",
       "      <td>0</td>\n",
       "      <td>16</td>\n",
       "    </tr>\n",
       "    <tr>\n",
       "      <th>3</th>\n",
       "      <td>2</td>\n",
       "      <td>0</td>\n",
       "      <td>21</td>\n",
       "    </tr>\n",
       "    <tr>\n",
       "      <th>4</th>\n",
       "      <td>1</td>\n",
       "      <td>0</td>\n",
       "      <td>24</td>\n",
       "    </tr>\n",
       "    <tr>\n",
       "      <th>5</th>\n",
       "      <td>2</td>\n",
       "      <td>0</td>\n",
       "      <td>23</td>\n",
       "    </tr>\n",
       "    <tr>\n",
       "      <th>6</th>\n",
       "      <td>1</td>\n",
       "      <td>0</td>\n",
       "      <td>20</td>\n",
       "    </tr>\n",
       "    <tr>\n",
       "      <th>7</th>\n",
       "      <td>2</td>\n",
       "      <td>0</td>\n",
       "      <td>19</td>\n",
       "    </tr>\n",
       "    <tr>\n",
       "      <th>8</th>\n",
       "      <td>1</td>\n",
       "      <td>0</td>\n",
       "      <td>19</td>\n",
       "    </tr>\n",
       "    <tr>\n",
       "      <th>9</th>\n",
       "      <td>2</td>\n",
       "      <td>0</td>\n",
       "      <td>25</td>\n",
       "    </tr>\n",
       "    <tr>\n",
       "      <th>10</th>\n",
       "      <td>1</td>\n",
       "      <td>0</td>\n",
       "      <td>10</td>\n",
       "    </tr>\n",
       "    <tr>\n",
       "      <th>11</th>\n",
       "      <td>2</td>\n",
       "      <td>0</td>\n",
       "      <td>22</td>\n",
       "    </tr>\n",
       "    <tr>\n",
       "      <th>12</th>\n",
       "      <td>1</td>\n",
       "      <td>0</td>\n",
       "      <td>24</td>\n",
       "    </tr>\n",
       "    <tr>\n",
       "      <th>13</th>\n",
       "      <td>2</td>\n",
       "      <td>0</td>\n",
       "      <td>25</td>\n",
       "    </tr>\n",
       "    <tr>\n",
       "      <th>14</th>\n",
       "      <td>1</td>\n",
       "      <td>0</td>\n",
       "      <td>16</td>\n",
       "    </tr>\n",
       "    <tr>\n",
       "      <th>15</th>\n",
       "      <td>2</td>\n",
       "      <td>0</td>\n",
       "      <td>21</td>\n",
       "    </tr>\n",
       "    <tr>\n",
       "      <th>16</th>\n",
       "      <td>1</td>\n",
       "      <td>0</td>\n",
       "      <td>25</td>\n",
       "    </tr>\n",
       "    <tr>\n",
       "      <th>17</th>\n",
       "      <td>2</td>\n",
       "      <td>0</td>\n",
       "      <td>26</td>\n",
       "    </tr>\n",
       "    <tr>\n",
       "      <th>18</th>\n",
       "      <td>1</td>\n",
       "      <td>0</td>\n",
       "      <td>16</td>\n",
       "    </tr>\n",
       "    <tr>\n",
       "      <th>19</th>\n",
       "      <td>2</td>\n",
       "      <td>0</td>\n",
       "      <td>22</td>\n",
       "    </tr>\n",
       "    <tr>\n",
       "      <th>20</th>\n",
       "      <td>1</td>\n",
       "      <td>0</td>\n",
       "      <td>18</td>\n",
       "    </tr>\n",
       "    <tr>\n",
       "      <th>21</th>\n",
       "      <td>2</td>\n",
       "      <td>0</td>\n",
       "      <td>25</td>\n",
       "    </tr>\n",
       "    <tr>\n",
       "      <th>22</th>\n",
       "      <td>1</td>\n",
       "      <td>0</td>\n",
       "      <td>20</td>\n",
       "    </tr>\n",
       "    <tr>\n",
       "      <th>23</th>\n",
       "      <td>2</td>\n",
       "      <td>0</td>\n",
       "      <td>23</td>\n",
       "    </tr>\n",
       "    <tr>\n",
       "      <th>24</th>\n",
       "      <td>1</td>\n",
       "      <td>0</td>\n",
       "      <td>17</td>\n",
       "    </tr>\n",
       "    <tr>\n",
       "      <th>25</th>\n",
       "      <td>2</td>\n",
       "      <td>0</td>\n",
       "      <td>23</td>\n",
       "    </tr>\n",
       "    <tr>\n",
       "      <th>26</th>\n",
       "      <td>1</td>\n",
       "      <td>0</td>\n",
       "      <td>26</td>\n",
       "    </tr>\n",
       "    <tr>\n",
       "      <th>27</th>\n",
       "      <td>2</td>\n",
       "      <td>0</td>\n",
       "      <td>24</td>\n",
       "    </tr>\n",
       "    <tr>\n",
       "      <th>28</th>\n",
       "      <td>1</td>\n",
       "      <td>0</td>\n",
       "      <td>16</td>\n",
       "    </tr>\n",
       "    <tr>\n",
       "      <th>29</th>\n",
       "      <td>2</td>\n",
       "      <td>0</td>\n",
       "      <td>20</td>\n",
       "    </tr>\n",
       "    <tr>\n",
       "      <th>...</th>\n",
       "      <td>...</td>\n",
       "      <td>...</td>\n",
       "      <td>...</td>\n",
       "    </tr>\n",
       "    <tr>\n",
       "      <th>10</th>\n",
       "      <td>1</td>\n",
       "      <td>20</td>\n",
       "      <td>26</td>\n",
       "    </tr>\n",
       "    <tr>\n",
       "      <th>11</th>\n",
       "      <td>2</td>\n",
       "      <td>20</td>\n",
       "      <td>31</td>\n",
       "    </tr>\n",
       "    <tr>\n",
       "      <th>12</th>\n",
       "      <td>1</td>\n",
       "      <td>20</td>\n",
       "      <td>37</td>\n",
       "    </tr>\n",
       "    <tr>\n",
       "      <th>13</th>\n",
       "      <td>2</td>\n",
       "      <td>20</td>\n",
       "      <td>31</td>\n",
       "    </tr>\n",
       "    <tr>\n",
       "      <th>14</th>\n",
       "      <td>1</td>\n",
       "      <td>20</td>\n",
       "      <td>33</td>\n",
       "    </tr>\n",
       "    <tr>\n",
       "      <th>15</th>\n",
       "      <td>2</td>\n",
       "      <td>20</td>\n",
       "      <td>23</td>\n",
       "    </tr>\n",
       "    <tr>\n",
       "      <th>16</th>\n",
       "      <td>1</td>\n",
       "      <td>20</td>\n",
       "      <td>27</td>\n",
       "    </tr>\n",
       "    <tr>\n",
       "      <th>17</th>\n",
       "      <td>2</td>\n",
       "      <td>20</td>\n",
       "      <td>22</td>\n",
       "    </tr>\n",
       "    <tr>\n",
       "      <th>18</th>\n",
       "      <td>1</td>\n",
       "      <td>20</td>\n",
       "      <td>31</td>\n",
       "    </tr>\n",
       "    <tr>\n",
       "      <th>19</th>\n",
       "      <td>2</td>\n",
       "      <td>20</td>\n",
       "      <td>32</td>\n",
       "    </tr>\n",
       "    <tr>\n",
       "      <th>20</th>\n",
       "      <td>1</td>\n",
       "      <td>20</td>\n",
       "      <td>37</td>\n",
       "    </tr>\n",
       "    <tr>\n",
       "      <th>21</th>\n",
       "      <td>2</td>\n",
       "      <td>20</td>\n",
       "      <td>22</td>\n",
       "    </tr>\n",
       "    <tr>\n",
       "      <th>22</th>\n",
       "      <td>1</td>\n",
       "      <td>20</td>\n",
       "      <td>28</td>\n",
       "    </tr>\n",
       "    <tr>\n",
       "      <th>23</th>\n",
       "      <td>2</td>\n",
       "      <td>20</td>\n",
       "      <td>29</td>\n",
       "    </tr>\n",
       "    <tr>\n",
       "      <th>24</th>\n",
       "      <td>1</td>\n",
       "      <td>20</td>\n",
       "      <td>25</td>\n",
       "    </tr>\n",
       "    <tr>\n",
       "      <th>25</th>\n",
       "      <td>2</td>\n",
       "      <td>20</td>\n",
       "      <td>25</td>\n",
       "    </tr>\n",
       "    <tr>\n",
       "      <th>26</th>\n",
       "      <td>1</td>\n",
       "      <td>20</td>\n",
       "      <td>23</td>\n",
       "    </tr>\n",
       "    <tr>\n",
       "      <th>27</th>\n",
       "      <td>2</td>\n",
       "      <td>20</td>\n",
       "      <td>34</td>\n",
       "    </tr>\n",
       "    <tr>\n",
       "      <th>28</th>\n",
       "      <td>1</td>\n",
       "      <td>20</td>\n",
       "      <td>26</td>\n",
       "    </tr>\n",
       "    <tr>\n",
       "      <th>29</th>\n",
       "      <td>2</td>\n",
       "      <td>20</td>\n",
       "      <td>30</td>\n",
       "    </tr>\n",
       "    <tr>\n",
       "      <th>30</th>\n",
       "      <td>1</td>\n",
       "      <td>20</td>\n",
       "      <td>33</td>\n",
       "    </tr>\n",
       "    <tr>\n",
       "      <th>31</th>\n",
       "      <td>2</td>\n",
       "      <td>20</td>\n",
       "      <td>25</td>\n",
       "    </tr>\n",
       "    <tr>\n",
       "      <th>32</th>\n",
       "      <td>1</td>\n",
       "      <td>20</td>\n",
       "      <td>28</td>\n",
       "    </tr>\n",
       "    <tr>\n",
       "      <th>33</th>\n",
       "      <td>2</td>\n",
       "      <td>20</td>\n",
       "      <td>39</td>\n",
       "    </tr>\n",
       "    <tr>\n",
       "      <th>34</th>\n",
       "      <td>1</td>\n",
       "      <td>20</td>\n",
       "      <td>30</td>\n",
       "    </tr>\n",
       "    <tr>\n",
       "      <th>35</th>\n",
       "      <td>2</td>\n",
       "      <td>20</td>\n",
       "      <td>32</td>\n",
       "    </tr>\n",
       "    <tr>\n",
       "      <th>36</th>\n",
       "      <td>1</td>\n",
       "      <td>20</td>\n",
       "      <td>30</td>\n",
       "    </tr>\n",
       "    <tr>\n",
       "      <th>37</th>\n",
       "      <td>2</td>\n",
       "      <td>20</td>\n",
       "      <td>29</td>\n",
       "    </tr>\n",
       "    <tr>\n",
       "      <th>38</th>\n",
       "      <td>1</td>\n",
       "      <td>20</td>\n",
       "      <td>26</td>\n",
       "    </tr>\n",
       "    <tr>\n",
       "      <th>39</th>\n",
       "      <td>2</td>\n",
       "      <td>20</td>\n",
       "      <td>22</td>\n",
       "    </tr>\n",
       "  </tbody>\n",
       "</table>\n",
       "<p>120 rows × 3 columns</p>\n",
       "</div>"
      ],
      "text/plain": [
       "    Loc Discount  Qty\n",
       "0     1        0   20\n",
       "1     2        0   20\n",
       "2     1        0   16\n",
       "3     2        0   21\n",
       "4     1        0   24\n",
       "5     2        0   23\n",
       "6     1        0   20\n",
       "7     2        0   19\n",
       "8     1        0   19\n",
       "9     2        0   25\n",
       "10    1        0   10\n",
       "11    2        0   22\n",
       "12    1        0   24\n",
       "13    2        0   25\n",
       "14    1        0   16\n",
       "15    2        0   21\n",
       "16    1        0   25\n",
       "17    2        0   26\n",
       "18    1        0   16\n",
       "19    2        0   22\n",
       "20    1        0   18\n",
       "21    2        0   25\n",
       "22    1        0   20\n",
       "23    2        0   23\n",
       "24    1        0   17\n",
       "25    2        0   23\n",
       "26    1        0   26\n",
       "27    2        0   24\n",
       "28    1        0   16\n",
       "29    2        0   20\n",
       "..  ...      ...  ...\n",
       "10    1       20   26\n",
       "11    2       20   31\n",
       "12    1       20   37\n",
       "13    2       20   31\n",
       "14    1       20   33\n",
       "15    2       20   23\n",
       "16    1       20   27\n",
       "17    2       20   22\n",
       "18    1       20   31\n",
       "19    2       20   32\n",
       "20    1       20   37\n",
       "21    2       20   22\n",
       "22    1       20   28\n",
       "23    2       20   29\n",
       "24    1       20   25\n",
       "25    2       20   25\n",
       "26    1       20   23\n",
       "27    2       20   34\n",
       "28    1       20   26\n",
       "29    2       20   30\n",
       "30    1       20   33\n",
       "31    2       20   25\n",
       "32    1       20   28\n",
       "33    2       20   39\n",
       "34    1       20   30\n",
       "35    2       20   32\n",
       "36    1       20   30\n",
       "37    2       20   29\n",
       "38    1       20   26\n",
       "39    2       20   22\n",
       "\n",
       "[120 rows x 3 columns]"
      ]
     },
     "execution_count": 67,
     "metadata": {},
     "output_type": "execute_result"
    }
   ],
   "source": [
    "d0_val  = df1['Dis0'].values\n",
    "d10_val = df1['Dis10'].values\n",
    "d20_val = df1['Dis20'].values\n",
    "l_val   = df1['Loc'].values\n",
    "\n",
    "df1   = pd.DataFrame({'Loc': l_val, 'Discount':'0','Qty': d0_val})\n",
    "df2   = pd.DataFrame({'Loc': l_val, 'Discount':'10','Qty': d10_val})\n",
    "df3   = pd.DataFrame({'Loc': l_val, 'Discount':'20','Qty': d20_val})\n",
    "\n",
    "Sale_qty_df = pd.DataFrame()\n",
    "\n",
    "Sale_qty_df = Sale_qty_df.append(df1) \n",
    "Sale_qty_df = Sale_qty_df.append(df2) \n",
    "Sale_qty_df = Sale_qty_df.append(df3) \n",
    "\n",
    "pd.DataFrame(Sale_qty_df)"
   ]
  },
  {
   "cell_type": "code",
   "execution_count": 68,
   "metadata": {},
   "outputs": [
    {
     "name": "stderr",
     "output_type": "stream",
     "text": [
      "C:\\Users\\hp\\Anaconda3\\lib\\site-packages\\statsmodels\\nonparametric\\kde.py:488: RuntimeWarning: invalid value encountered in true_divide\n",
      "  binned = fast_linbin(X, a, b, gridsize) / (delta * nobs)\n",
      "C:\\Users\\hp\\Anaconda3\\lib\\site-packages\\statsmodels\\nonparametric\\kdetools.py:34: RuntimeWarning: invalid value encountered in double_scalars\n",
      "  FAC1 = 2*(np.pi*bw/RANGE)**2\n",
      "C:\\Users\\hp\\Anaconda3\\lib\\site-packages\\numpy\\core\\fromnumeric.py:83: RuntimeWarning: invalid value encountered in reduce\n",
      "  return ufunc.reduce(obj, axis, dtype, out, **passkwargs)\n"
     ]
    },
    {
     "data": {
      "text/plain": [
       "<seaborn.axisgrid.PairGrid at 0xe5a0c18>"
      ]
     },
     "execution_count": 68,
     "metadata": {},
     "output_type": "execute_result"
    },
    {
     "data": {
      "image/png": "[encoded data removed]",
      "text/plain": [
       "<Figure size 582.375x540 with 12 Axes>"
      ]
     },
     "metadata": {
      "needs_background": "light"
     },
     "output_type": "display_data"
    }
   ],
   "source": [
    "sns.pairplot(Sale_qty_df,diag_kind='kde',hue='Loc')"
   ]
  },
  {
   "cell_type": "markdown",
   "metadata": {},
   "source": [
    "### Step 1: State the null and alternative hypothesis:"
   ]
  },
  {
   "cell_type": "markdown",
   "metadata": {},
   "source": [
    "The null hypotheses for each of the sets are given below. \n",
    "\n",
    "* 1) The population means of the first factor (Discount) are equal. \n",
    "* 2) The population means of the second factor (Location) are equal. \n",
    "* 3) There is no interaction between the two factors - Discount and Location.\n",
    "\n",
    "Alternative Hypothesis:\n",
    "\n",
    "* 1) The population means of the first factor (Discount) are not equal. \n",
    "* 2) The population means of the second factor (Location) are not equal. \n",
    "* 3) There is an interaction between the two factors - Discount and Location."
   ]
  },
  {
   "cell_type": "markdown",
   "metadata": {},
   "source": [
    "### Step 2: Decide the significance level"
   ]
  },
  {
   "cell_type": "markdown",
   "metadata": {},
   "source": [
    "Here we select α = 0.05"
   ]
  },
  {
   "cell_type": "markdown",
   "metadata": {},
   "source": [
    "### Step 3: Identify the test statistic"
   ]
  },
  {
   "cell_type": "markdown",
   "metadata": {},
   "source": [
    "##### Here we have three groups and two factors. There are two independent variables, Discount and Location. \n",
    "\n",
    "##### Two-way ANOVA determines how a response (Sale Quantity) is affected by two factors, Discount and Location. "
   ]
  },
  {
   "cell_type": "markdown",
   "metadata": {},
   "source": [
    "### Step 4: Calculate p value using ANOVA table"
   ]
  },
  {
   "cell_type": "markdown",
   "metadata": {},
   "source": [
    "* statsmodels.formula.api.ols creates a model from a formula and dataframe\n",
    "* statsmodels.api.sm.stats.anova_lm gives an Anova table for one or more fitted linear models"
   ]
  },
  {
   "cell_type": "code",
   "execution_count": 69,
   "metadata": {},
   "outputs": [
    {
     "name": "stdout",
     "output_type": "stream",
     "text": [
      "                  sum_sq     df          F        PR(>F)\n",
      "C(Discount)  1240.316667    2.0  38.170340  1.829940e-13\n",
      "C(Loc)          7.008333    1.0   0.431358  5.126241e-01\n",
      "Residual     1884.666667  116.0        NaN           NaN\n"
     ]
    }
   ],
   "source": [
    "import statsmodels.api         as     sm\n",
    "from   statsmodels.formula.api import ols\n",
    "from   statsmodels.stats.anova import anova_lm\n",
    "\n",
    "formula = 'Qty ~ C(Discount) + C(Loc)'\n",
    "model = ols(formula, Sale_qty_df).fit()\n",
    "aov_table = anova_lm(model, typ=2)\n",
    "\n",
    "print(aov_table)"
   ]
  },
  {
   "cell_type": "code",
   "execution_count": 70,
   "metadata": {},
   "outputs": [
    {
     "name": "stdout",
     "output_type": "stream",
     "text": [
      "Multiple Comparison of Means - Tukey HSD,FWER=0.05\n",
      "============================================\n",
      "group1 group2 meandiff lower   upper  reject\n",
      "--------------------------------------------\n",
      "  0      10    3.925   1.7904  6.0596  True \n",
      "  0      20    7.875   5.7404 10.0096  True \n",
      "  10     20     3.95   1.8154  6.0846  True \n",
      "--------------------------------------------\n"
     ]
    }
   ],
   "source": [
    "from statsmodels.stats.multicomp import pairwise_tukeyhsd\n",
    "print(pairwise_tukeyhsd(Sale_qty_df[\"Qty\"], \n",
    "                        Sale_qty_df[\"Discount\"]\n",
    "                       ))"
   ]
  },
  {
   "cell_type": "markdown",
   "metadata": {},
   "source": [
    "### Step 5:  Decide to reject or accept null hypothesis"
   ]
  },
  {
   "cell_type": "markdown",
   "metadata": {},
   "source": [
    "In this example, \n",
    "* p value for discount  is 1.06e-13 and < 0.05 so we reject the null hypothesis (1) and conclude that the discount rate is having an effect on sales quantity.\n",
    "* p value for location  is 0.5066 and > 0.05 so we retain the null hypothesis (2) and conclude that the location is not having an effect on sales quantity.\n",
    "* p value for interaction (discount:location)  is 0.0725 and > 0.05 so we retain the null hypothesis (3) and conclude that the interaction (discount:location) is not having an effect on sales quantity."
   ]
  },
  {
   "cell_type": "markdown",
   "metadata": {},
   "source": [
    "### Example 4\n",
    "\n",
    "The table below shows the percentage of customers satisfied with the quality of service (QoS) offered by A1 Electronics Corporation Limited.\n",
    "\n",
    "Conduct a two-way ANOVA and draw your inferences about the population means of QoS corresponding to the days as well as the stores.\n"
   ]
  },
  {
   "cell_type": "code",
   "execution_count": 71,
   "metadata": {},
   "outputs": [
    {
     "name": "stdout",
     "output_type": "stream",
     "text": [
      "   Day  Store-A  Store-B  Store-C  Store-D  Store-E\n",
      "0    1       79       81       74       77       66\n",
      "1    2       78       86       89       97       86\n",
      "2    3       81       87       84       94       82\n",
      "3    4       80       83       81       88       83\n",
      "4    5       70       74       77       89       68\n"
     ]
    }
   ],
   "source": [
    "table1  = [['Day','Store-A','Store-B','Store-C','Store-D','Store-E'], [1,79, 81, 74, 77, 66],\\\n",
    "           [2, 78, 86, 89, 97, 86], [3, 81, 87, 84, 94, 82], [4, 80, 83, 81, 88, 83], [5, 70, 74, 77, 89, 68]]\n",
    "\n",
    "headers = table1.pop(0) #\n",
    "\n",
    "df1 = pd.DataFrame(table1, columns=headers)\n",
    "print(df1)"
   ]
  },
  {
   "cell_type": "markdown",
   "metadata": {},
   "source": [
    "### Step 1: State the null and alternative hypothesis:"
   ]
  },
  {
   "cell_type": "markdown",
   "metadata": {},
   "source": [
    "The null hypotheses for each of the sets are given below. \n",
    "\n",
    "* 1) The population means of the first factor (Day) are equal. \n",
    "* 2) The population means of the second factor (Store) are equal. \n",
    "\n",
    "Alternative Hypothesis:\n",
    "\n",
    "* 1) The population means of the first factor (Day) are not equal. \n",
    "* 2) The population means of the second factor (Store) are not equal. "
   ]
  },
  {
   "cell_type": "markdown",
   "metadata": {},
   "source": [
    "### Step 2: Decide the significance level"
   ]
  },
  {
   "cell_type": "markdown",
   "metadata": {},
   "source": [
    "Here we select α = 0.05"
   ]
  },
  {
   "cell_type": "markdown",
   "metadata": {},
   "source": [
    "### Step 3: Identify the test statistic"
   ]
  },
  {
   "cell_type": "markdown",
   "metadata": {},
   "source": [
    "##### Here we have five groups and five factors. There are two independent variables, Day and Store. \n",
    "\n",
    "##### Two-way ANOVA determines how a response (Quality of Servoce) is affected by two factors, Day and Store. \n",
    "\n",
    "##### Here we use 2-way ANOVA without replication since each cell has only one observation."
   ]
  },
  {
   "cell_type": "markdown",
   "metadata": {},
   "source": [
    "### Step 4: Calculate p value using ANOVA table"
   ]
  },
  {
   "cell_type": "markdown",
   "metadata": {},
   "source": [
    "* statsmodels.formula.api.ols creates a model from a formula and dataframe\n",
    "* statsmodels.api.sm.stats.anova_lm gives an Anova table for one or more fitted linear models"
   ]
  },
  {
   "cell_type": "code",
   "execution_count": 72,
   "metadata": {},
   "outputs": [],
   "source": [
    "d0_val  = df1['Day'].values\n",
    "d1_val  = df1['Store-A'].values\n",
    "d2_val  = df1['Store-B'].values\n",
    "d3_val  = df1['Store-C'].values\n",
    "d4_val  = df1['Store-D'].values\n",
    "d5_val  = df1['Store-E'].values"
   ]
  },
  {
   "cell_type": "code",
   "execution_count": 73,
   "metadata": {},
   "outputs": [
    {
     "data": {
      "text/html": [
       "<div>\n",
       "<style scoped>\n",
       "    .dataframe tbody tr th:only-of-type {\n",
       "        vertical-align: middle;\n",
       "    }\n",
       "\n",
       "    .dataframe tbody tr th {\n",
       "        vertical-align: top;\n",
       "    }\n",
       "\n",
       "    .dataframe thead th {\n",
       "        text-align: right;\n",
       "    }\n",
       "</style>\n",
       "<table border=\"1\" class=\"dataframe\">\n",
       "  <thead>\n",
       "    <tr style=\"text-align: right;\">\n",
       "      <th></th>\n",
       "      <th>Day</th>\n",
       "      <th>Store</th>\n",
       "      <th>QoS</th>\n",
       "    </tr>\n",
       "  </thead>\n",
       "  <tbody>\n",
       "    <tr>\n",
       "      <th>0</th>\n",
       "      <td>1</td>\n",
       "      <td>A</td>\n",
       "      <td>79</td>\n",
       "    </tr>\n",
       "    <tr>\n",
       "      <th>1</th>\n",
       "      <td>2</td>\n",
       "      <td>A</td>\n",
       "      <td>78</td>\n",
       "    </tr>\n",
       "    <tr>\n",
       "      <th>2</th>\n",
       "      <td>3</td>\n",
       "      <td>A</td>\n",
       "      <td>81</td>\n",
       "    </tr>\n",
       "    <tr>\n",
       "      <th>3</th>\n",
       "      <td>4</td>\n",
       "      <td>A</td>\n",
       "      <td>80</td>\n",
       "    </tr>\n",
       "    <tr>\n",
       "      <th>4</th>\n",
       "      <td>5</td>\n",
       "      <td>A</td>\n",
       "      <td>70</td>\n",
       "    </tr>\n",
       "    <tr>\n",
       "      <th>0</th>\n",
       "      <td>1</td>\n",
       "      <td>B</td>\n",
       "      <td>81</td>\n",
       "    </tr>\n",
       "    <tr>\n",
       "      <th>1</th>\n",
       "      <td>2</td>\n",
       "      <td>B</td>\n",
       "      <td>86</td>\n",
       "    </tr>\n",
       "    <tr>\n",
       "      <th>2</th>\n",
       "      <td>3</td>\n",
       "      <td>B</td>\n",
       "      <td>87</td>\n",
       "    </tr>\n",
       "    <tr>\n",
       "      <th>3</th>\n",
       "      <td>4</td>\n",
       "      <td>B</td>\n",
       "      <td>83</td>\n",
       "    </tr>\n",
       "    <tr>\n",
       "      <th>4</th>\n",
       "      <td>5</td>\n",
       "      <td>B</td>\n",
       "      <td>74</td>\n",
       "    </tr>\n",
       "    <tr>\n",
       "      <th>0</th>\n",
       "      <td>1</td>\n",
       "      <td>C</td>\n",
       "      <td>74</td>\n",
       "    </tr>\n",
       "    <tr>\n",
       "      <th>1</th>\n",
       "      <td>2</td>\n",
       "      <td>C</td>\n",
       "      <td>89</td>\n",
       "    </tr>\n",
       "    <tr>\n",
       "      <th>2</th>\n",
       "      <td>3</td>\n",
       "      <td>C</td>\n",
       "      <td>84</td>\n",
       "    </tr>\n",
       "    <tr>\n",
       "      <th>3</th>\n",
       "      <td>4</td>\n",
       "      <td>C</td>\n",
       "      <td>81</td>\n",
       "    </tr>\n",
       "    <tr>\n",
       "      <th>4</th>\n",
       "      <td>5</td>\n",
       "      <td>C</td>\n",
       "      <td>77</td>\n",
       "    </tr>\n",
       "    <tr>\n",
       "      <th>0</th>\n",
       "      <td>1</td>\n",
       "      <td>D</td>\n",
       "      <td>77</td>\n",
       "    </tr>\n",
       "    <tr>\n",
       "      <th>1</th>\n",
       "      <td>2</td>\n",
       "      <td>D</td>\n",
       "      <td>97</td>\n",
       "    </tr>\n",
       "    <tr>\n",
       "      <th>2</th>\n",
       "      <td>3</td>\n",
       "      <td>D</td>\n",
       "      <td>94</td>\n",
       "    </tr>\n",
       "    <tr>\n",
       "      <th>3</th>\n",
       "      <td>4</td>\n",
       "      <td>D</td>\n",
       "      <td>88</td>\n",
       "    </tr>\n",
       "    <tr>\n",
       "      <th>4</th>\n",
       "      <td>5</td>\n",
       "      <td>D</td>\n",
       "      <td>89</td>\n",
       "    </tr>\n",
       "    <tr>\n",
       "      <th>0</th>\n",
       "      <td>1</td>\n",
       "      <td>E</td>\n",
       "      <td>66</td>\n",
       "    </tr>\n",
       "    <tr>\n",
       "      <th>1</th>\n",
       "      <td>2</td>\n",
       "      <td>E</td>\n",
       "      <td>86</td>\n",
       "    </tr>\n",
       "    <tr>\n",
       "      <th>2</th>\n",
       "      <td>3</td>\n",
       "      <td>E</td>\n",
       "      <td>82</td>\n",
       "    </tr>\n",
       "    <tr>\n",
       "      <th>3</th>\n",
       "      <td>4</td>\n",
       "      <td>E</td>\n",
       "      <td>83</td>\n",
       "    </tr>\n",
       "    <tr>\n",
       "      <th>4</th>\n",
       "      <td>5</td>\n",
       "      <td>E</td>\n",
       "      <td>68</td>\n",
       "    </tr>\n",
       "  </tbody>\n",
       "</table>\n",
       "</div>"
      ],
      "text/plain": [
       "   Day Store  QoS\n",
       "0    1     A   79\n",
       "1    2     A   78\n",
       "2    3     A   81\n",
       "3    4     A   80\n",
       "4    5     A   70\n",
       "0    1     B   81\n",
       "1    2     B   86\n",
       "2    3     B   87\n",
       "3    4     B   83\n",
       "4    5     B   74\n",
       "0    1     C   74\n",
       "1    2     C   89\n",
       "2    3     C   84\n",
       "3    4     C   81\n",
       "4    5     C   77\n",
       "0    1     D   77\n",
       "1    2     D   97\n",
       "2    3     D   94\n",
       "3    4     D   88\n",
       "4    5     D   89\n",
       "0    1     E   66\n",
       "1    2     E   86\n",
       "2    3     E   82\n",
       "3    4     E   83\n",
       "4    5     E   68"
      ]
     },
     "execution_count": 73,
     "metadata": {},
     "output_type": "execute_result"
    }
   ],
   "source": [
    "df1     = pd.DataFrame({'Day': d0_val, 'Store':'A', 'QoS': d1_val})\n",
    "df2     = pd.DataFrame({'Day': d0_val, 'Store':'B', 'QoS': d2_val})\n",
    "df3     = pd.DataFrame({'Day': d0_val, 'Store':'C', 'QoS': d3_val})\n",
    "df4     = pd.DataFrame({'Day': d0_val, 'Store':'D', 'QoS': d4_val})\n",
    "df5     = pd.DataFrame({'Day': d0_val, 'Store':'E', 'QoS': d5_val})\n",
    "\n",
    "QoS_df  = pd.DataFrame()\n",
    "\n",
    "QoS_df  = QoS_df.append(df1) \n",
    "QoS_df  = QoS_df.append(df2) \n",
    "QoS_df  = QoS_df.append(df3) \n",
    "QoS_df  = QoS_df.append(df4) \n",
    "QoS_df  = QoS_df.append(df5) \n",
    "\n",
    "\n",
    "pd.DataFrame(QoS_df)"
   ]
  },
  {
   "cell_type": "code",
   "execution_count": 74,
   "metadata": {},
   "outputs": [
    {
     "data": {
      "text/plain": [
       "<seaborn.axisgrid.PairGrid at 0xeb774e0>"
      ]
     },
     "execution_count": 74,
     "metadata": {},
     "output_type": "execute_result"
    },
    {
     "data": {
      "image/png": "[encoded data removed]",
      "text/plain": [
       "<Figure size 402.375x360 with 6 Axes>"
      ]
     },
     "metadata": {
      "needs_background": "light"
     },
     "output_type": "display_data"
    }
   ],
   "source": [
    "sns.pairplot(QoS_df,diag_kind='kde',hue='Day')"
   ]
  },
  {
   "cell_type": "code",
   "execution_count": 75,
   "metadata": {},
   "outputs": [
    {
     "name": "stdout",
     "output_type": "stream",
     "text": [
      "          sum_sq    df         F    PR(>F)\n",
      "C(Day)    617.36   4.0  8.737051  0.000614\n",
      "C(Store)  461.76   4.0  6.534956  0.002575\n",
      "Residual  282.64  16.0       NaN       NaN\n"
     ]
    }
   ],
   "source": [
    "import statsmodels.api         as     sm\n",
    "from   statsmodels.formula.api import ols\n",
    "from   statsmodels.stats.anova import anova_lm\n",
    "\n",
    "formula = 'QoS ~ C(Day) + C(Store)'\n",
    "model = ols(formula, QoS_df).fit()\n",
    "aov_table = anova_lm(model, typ=2)\n",
    "\n",
    "print(aov_table)"
   ]
  },
  {
   "cell_type": "code",
   "execution_count": 76,
   "metadata": {},
   "outputs": [
    {
     "name": "stdout",
     "output_type": "stream",
     "text": [
      "Multiple Comparison of Means - Tukey HSD,FWER=0.05\n",
      "==============================================\n",
      "group1 group2 meandiff  lower    upper  reject\n",
      "----------------------------------------------\n",
      "  1      2      11.8    0.2531  23.3469  True \n",
      "  1      3      10.2   -1.3469  21.7469 False \n",
      "  1      4      7.6    -3.9469  19.1469 False \n",
      "  1      5      0.2    -11.3469 11.7469 False \n",
      "  2      3      -1.6   -13.1469  9.9469 False \n",
      "  2      4      -4.2   -15.7469  7.3469 False \n",
      "  2      5     -11.6   -23.1469 -0.0531  True \n",
      "  3      4      -2.6   -14.1469  8.9469 False \n",
      "  3      5     -10.0   -21.5469  1.5469 False \n",
      "  4      5      -7.4   -18.9469  4.1469 False \n",
      "----------------------------------------------\n"
     ]
    }
   ],
   "source": [
    "from statsmodels.stats.multicomp import pairwise_tukeyhsd\n",
    "print(pairwise_tukeyhsd(QoS_df[\"QoS\"], \n",
    "                        QoS_df[\"Day\"]\n",
    "                       ))"
   ]
  },
  {
   "cell_type": "markdown",
   "metadata": {},
   "source": [
    "### Step 5:  Decide to reject or accept null hypothesis"
   ]
  },
  {
   "cell_type": "markdown",
   "metadata": {},
   "source": [
    "In this example, \n",
    "* p value for Day is 0.000614 and < 0.05 so we reject the null hypothesis (1) and conclude that the Day is having an effect on Quality of Service.\n",
    "* p value for Stores is 0.002575 and < 0.05 so we retain the null hypothesis (2) and conclude that the Stores is having an effect on Quality of Service."
   ]
  },
  {
   "cell_type": "markdown",
   "metadata": {},
   "source": [
    "#### We conclude that stores as well as days reveal different patterns in the level of QoS."
   ]
  },
  {
   "cell_type": "markdown",
   "metadata": {},
   "source": [
    "### Practice Exercise 2"
   ]
  },
  {
   "cell_type": "markdown",
   "metadata": {},
   "source": [
    "## Try example 4 with the following values:"
   ]
  },
  {
   "cell_type": "code",
   "execution_count": 77,
   "metadata": {},
   "outputs": [],
   "source": [
    "table2  = [['Day','Store-A','Store-B','Store-C','Store-D','Store-E'], [1,69, 71, 64, 67, 56],\\\n",
    "           [2, 68, 76, 79, 87, 76], [3, 71, 77, 74, 84, 72], [4, 70, 73, 71, 78, 73], [5, 60, 64, 67, 79, 58]]"
   ]
  },
  {
   "cell_type": "markdown",
   "metadata": {},
   "source": [
    "## Chi Square"
   ]
  },
  {
   "cell_type": "markdown",
   "metadata": {},
   "source": [
    "### Properties of Chi Square distribution\n",
    "\n",
    "##### 1. The mean and standard deviation of a chi-square distribution are k and √2k respectively, where k is the degrees of freedom.\n",
    "##### 2. As the degrees of freedom increases, the probability density function of a chi-square distribution approaches normal distribution.\n",
    "##### 3. Chi-square goodness of fit is one of the popular tests for checking whether a data follows a specific probability distribution.\n",
    "##### 4. Chi square test is a right tailed test."
   ]
  },
  {
   "cell_type": "markdown",
   "metadata": {},
   "source": [
    "### Chi-square Goodness of fit tests"
   ]
  },
  {
   "cell_type": "markdown",
   "metadata": {},
   "source": [
    "Goodness of fit tests are hypothesis tests that are used for comparing the observed distribution pf data with expected distribution of the data to decide whether there is any statistically significant difference between the observed distribution and a theoretical distribution (for example, normal, exponential, etc.) based on the comparison of observed frequencies in the data and the expected frequencies if the data follows a specified theoretical distribution."
   ]
  },
  {
   "cell_type": "markdown",
   "metadata": {},
   "source": [
    "| Hypothesis | Description                                                           |\n",
    "| ----------- | -------------------------------------------------------------------- |\n",
    "| Null hypothesis | There is no statistically significant difference between the observed frequencies and the expected frequencies from a hypothesized distribution |\n",
    "| Alternative hypothesis | There is statistically significant difference between the observed frequencies and the expected frequencies from a hypothesized distribution |\n"
   ]
  },
  {
   "cell_type": "markdown",
   "metadata": {},
   "source": [
    "### Chi-square Goodness of fit tests"
   ]
  },
  {
   "cell_type": "markdown",
   "metadata": {},
   "source": [
    "Chi-square statistic for goodness of fit is given by "
   ]
  },
  {
   "cell_type": "markdown",
   "metadata": {},
   "source": [
    "$\\chi^2$ = $\\sum_{i=1}^{n}\\sum_{j=1}^{m}\\frac{({O_{ij}-E_{ij}})^2}{E_{ij}}$"
   ]
  },
  {
   "cell_type": "markdown",
   "metadata": {},
   "source": [
    "This test is invalid when the observed or expected frequencies in each category are too small. A typical rule is that all of the observed and expected frequencies should be at least 5."
   ]
  },
  {
   "cell_type": "markdown",
   "metadata": {},
   "source": [
    "###  Example 5\n",
    "\n",
    "A1 airlines operated daily flights to several Indian cities. The operations manager believes that 30% of their passengers prefer vegan food, 45% prefer vegetarian food , 20% prefer non-veg food 5% request for Jain food. \n",
    "\n",
    "A sample of 500 passengers was chosen to analyse the food preferences and the data is shown in the following table:\n",
    "\n",
    "|               | Food type | Vegan | Vegetarian | Non-Vegetarian | Jain |\n",
    "| ------------------------- | ---- | ---- | ----- | ---- | ---- |\n",
    "|Number of passengers |  | 190 | 185 | 90 | 35 |\n",
    "\n",
    "At 5% level of significance, can you confirm that the meal preference is as per the belief of the operations manager?"
   ]
  },
  {
   "cell_type": "markdown",
   "metadata": {},
   "source": [
    "### Step 1: State the null and alternative hypothesis:"
   ]
  },
  {
   "cell_type": "markdown",
   "metadata": {},
   "source": [
    "Null hypothesis: $H_0$: Meal preference is as per the perceived ratios of the operations manager\n",
    "                        \n",
    "Alternative hypothesis: $H_A$: Meal preference is different from the perceived ratios of the operations manager"
   ]
  },
  {
   "cell_type": "markdown",
   "metadata": {},
   "source": [
    "### Step 2: Decide the significance level"
   ]
  },
  {
   "cell_type": "markdown",
   "metadata": {},
   "source": [
    "Here we select α = 0.05"
   ]
  },
  {
   "cell_type": "markdown",
   "metadata": {},
   "source": [
    "### Step 3: Identify the test statistic"
   ]
  },
  {
   "cell_type": "markdown",
   "metadata": {},
   "source": [
    "Since we have observed frequencies of meal preference and we can calculate the expected frequencies, we can use chi-square goodness of fit for this problem."
   ]
  },
  {
   "cell_type": "markdown",
   "metadata": {},
   "source": [
    "### Step 4: Calculate p value or chi-square statistic value"
   ]
  },
  {
   "cell_type": "markdown",
   "metadata": {},
   "source": [
    "Use the scipy.stats.chisquare function to compute Chi square goodness of fit by giving the observed values and expected values as input.\n",
    "\n",
    "The first value in the returned tuple is the χ2 value itself, while the second value is the p-value computed using \n",
    "ν = k−1 where k is the number of values in each array."
   ]
  },
  {
   "cell_type": "markdown",
   "metadata": {},
   "source": [
    "We can calculate the expected frquency as follows:\n",
    "1. Compute the total number of passengers. It will be 500.\n",
    "2. We expect 30% of them prefer Vegan food, so the expected frequency for Vegan Food is = 0.3 * 500 = 150\n",
    "3. Similarly we can calculate the expected frequencies of the rest of them."
   ]
  },
  {
   "cell_type": "code",
   "execution_count": 78,
   "metadata": {},
   "outputs": [
    {
     "name": "stdout",
     "output_type": "stream",
     "text": [
      "At 5 % level of significance, the p-value is 0.0000449\n"
     ]
    }
   ],
   "source": [
    "import scipy.stats as stats\n",
    "import scipy\n",
    "\n",
    "observed_values    = scipy.array([190, 185, 90, 35])\n",
    "n                  = observed_values.sum()\n",
    "\n",
    "expected_values    = scipy.array([n*0.3, n*.45, n*0.2, n*0.05])\n",
    "\n",
    "chi_square_stat, p_value = stats.chisquare(observed_values, f_exp=expected_values)\n",
    "\n",
    "print('At 5 %s level of significance, the p-value is %1.7f' %('%', p_value))"
   ]
  },
  {
   "cell_type": "markdown",
   "metadata": {},
   "source": [
    "### Step 5: Decide to reject or accept null hypothesis"
   ]
  },
  {
   "cell_type": "markdown",
   "metadata": {},
   "source": [
    "### In this example, p value is 0.0000449 and < 0.05 so we reject the null hypothesis. \n",
    "### So, we conclude that Meal preference is not defined in the null hypothesis."
   ]
  },
  {
   "cell_type": "markdown",
   "metadata": {},
   "source": [
    "### Practice Exercise 3"
   ]
  },
  {
   "cell_type": "markdown",
   "metadata": {},
   "source": [
    "Refer to the above example 5. Here the operations manager changes his belief and now believes that 28% of their passengers prefer vegan food, 42% prefer vegetarian food , 25% prefer non-veg food 5% request for Jain food. \n",
    "\n",
    "At 5% level of significance, can you confirm that the meal preference is as per the belief of the operations manager?"
   ]
  },
  {
   "cell_type": "markdown",
   "metadata": {},
   "source": [
    "### Chi-square tests of independence"
   ]
  },
  {
   "cell_type": "markdown",
   "metadata": {},
   "source": [
    "Chi-square test of independence is a hypothesis test in which we test whether two or more groups are statistically independent or not."
   ]
  },
  {
   "cell_type": "markdown",
   "metadata": {},
   "source": [
    "| Hypothesis | Description |\n",
    "| --------------------- | ----------------------- |\n",
    "| Null Hypothesis | Two or more groups are independent |\n",
    "| Alternative Hypothesis | Two or more groups are dependent |"
   ]
  },
  {
   "cell_type": "markdown",
   "metadata": {},
   "source": [
    "$\\chi^2$ = $\\sum_{i=1}^{n}\\sum_{j=1}^{m}\\frac{({O_{ij}-E_{ij}})^2}{E_{ij}}$\n",
    "\n",
    "The corresponding degrees of freedom is (r - 1) * ( c  - 1) , where r is the number of rows and c is the number of columns in the contingency table. \n",
    "\n",
    "scipy.stats.chi2_contingency is the Chi-square test of independence of variables in a contingency table.\n",
    "\n",
    "This function computes the chi-square statistic and p-value for the hypothesis test of independence of the observed frequencies in the contingency table observed. The expected frequencies are computed based on the marginal sums under the assumption of independence."
   ]
  },
  {
   "cell_type": "markdown",
   "metadata": {},
   "source": [
    "### Example 6 \n",
    "\n",
    "The table below contains the number of perfect, satisfactory and defective products are manufactured by both male and female.\n",
    "\n",
    "| Gender  | Perfect | Satisfactory | Defective |\n",
    "| ------- | ---- | --------- | -------- |\n",
    "| Male    | 138 | 83 | 64 |\n",
    "| Female  | 64 | 67 | 84 |\n",
    "\n",
    "\n",
    "Do these data provide sufficient evidence at the 5% significance level to infer that there are differences in quality among genders (Male and Female)?"
   ]
  },
  {
   "cell_type": "markdown",
   "metadata": {},
   "source": [
    "### Step 1: State the null and alternative hypothesis:"
   ]
  },
  {
   "cell_type": "markdown",
   "metadata": {},
   "source": [
    "Null hypothesis: $H_0$: There is no difference in quality of the products manufactured by male and female\n",
    "                        \n",
    "Alternative hypothesis: $H_A$: There is a significant difference in quality of the products manufactured by male and female"
   ]
  },
  {
   "cell_type": "markdown",
   "metadata": {},
   "source": [
    "### Step 2: Decide the significance level"
   ]
  },
  {
   "cell_type": "markdown",
   "metadata": {},
   "source": [
    "Here we select α = 0.05"
   ]
  },
  {
   "cell_type": "markdown",
   "metadata": {},
   "source": [
    "### Step 3: Identify the test statistic"
   ]
  },
  {
   "cell_type": "markdown",
   "metadata": {},
   "source": [
    "We use the chi-square test of independence to find out the difference of categorical variables "
   ]
  },
  {
   "cell_type": "markdown",
   "metadata": {},
   "source": [
    "### Step 4: Calculate p value or chi-square statistic value"
   ]
  },
  {
   "cell_type": "code",
   "execution_count": 79,
   "metadata": {},
   "outputs": [
    {
     "name": "stdout",
     "output_type": "stream",
     "text": [
      "Chi-square statistic 22.15247 P value 0.000015 Degrees of freedom 2\n"
     ]
    }
   ],
   "source": [
    "import pandas      as pd\n",
    "import numpy       as np\n",
    "import scipy.stats as stats\n",
    "\n",
    "quality_array = np.array([[138, 83, 64],[64, 67, 84]])\n",
    "chi_sq_Stat, p_value, deg_freedom, exp_freq = stats.chi2_contingency(quality_array)\n",
    "\n",
    "print('Chi-square statistic %3.5f P value %1.6f Degrees of freedom %d' %(chi_sq_Stat, p_value,deg_freedom))"
   ]
  },
  {
   "cell_type": "markdown",
   "metadata": {},
   "source": [
    "### Step 5: Decide to reject or accept null hypothesis"
   ]
  },
  {
   "cell_type": "markdown",
   "metadata": {},
   "source": [
    "### In this example, p value is 0.000015 and < 0.05 so we reject the null hypothesis. \n",
    "### So, we conclude that there is a significant difference in quality of the products manufactured by male and female."
   ]
  },
  {
   "cell_type": "markdown",
   "metadata": {},
   "source": [
    "### Practice Exercise 4"
   ]
  },
  {
   "cell_type": "markdown",
   "metadata": {},
   "source": [
    "A Cable service provider company is interested in checking whether or not the customer churn depends on customer segment.  Use 5% as level of significance"
   ]
  },
  {
   "cell_type": "markdown",
   "metadata": {},
   "source": [
    "| Customer Segment | Churned | Retained |\n",
    "|  -------- | ----- | ---- |\n",
    "| S1 | 15 | 142 |\n",
    "| S2 | 24 | 400 |\n",
    "| S3 | 30 | 389 |\n"
   ]
  },
  {
   "cell_type": "markdown",
   "metadata": {},
   "source": [
    "#### Hint"
   ]
  },
  {
   "cell_type": "code",
   "execution_count": 80,
   "metadata": {},
   "outputs": [],
   "source": [
    "import numpy       as np\n",
    "import scipy.stats as stats\n",
    "\n",
    "churn_array = np.array([[15,142],[24, 400],[30, 389]])"
   ]
  },
  {
   "cell_type": "markdown",
   "metadata": {},
   "source": [
    "### Take Home Exercises"
   ]
  },
  {
   "cell_type": "markdown",
   "metadata": {},
   "source": [
    "** 1)  Is there any evidence that the stock return depends on sector like industrial or consumer or service?\n",
    "The following table shows the annual return of stocks under different sectors:**"
   ]
  },
  {
   "cell_type": "code",
   "execution_count": 81,
   "metadata": {},
   "outputs": [
    {
     "name": "stdout",
     "output_type": "stream",
     "text": [
      "Count, Mean and standard deviation of monthly income of members of Consumer Grp:  30, 0.082653 and 0.001010\n",
      "Count, Mean and standard deviation of monthly income of members of Service Grp:  30, 0.079823 and 0.003073\n",
      "Count, Mean and standard deviation of monthly income of members of Industrial Grp:  30, 0.060503 and 0.000963\n"
     ]
    },
    {
     "data": {
      "text/plain": [
       "<matplotlib.axes._subplots.AxesSubplot at 0xed71898>"
      ]
     },
     "execution_count": 81,
     "metadata": {},
     "output_type": "execute_result"
    },
    {
     "data": {
      "image/png": "[encoded data removed]",
      "text/plain": [
       "<Figure size 432x288 with 1 Axes>"
      ]
     },
     "metadata": {
      "needs_background": "light"
     },
     "output_type": "display_data"
    }
   ],
   "source": [
    "y_stock_consumer = [ 0.0632, 0.1473, 0.1195, 0.1236, 0.1028, 0.0381, 0.1015, 0.1106, 0.0629, 0.0515, 0.0844, 0.1428, 0.0889, 0.0598,\\\n",
    "                    0.0696, 0.1162, 0.0522, 0.0534, 0.0593, 0.0710, 0.1091, 0.0820, 0.1019, 0.0904, 0.0861, 0.0939, 0.0263, \\\n",
    "                    0.0277, 0.0476, 0.0960]\n",
    "\n",
    "X1                = np.array(y_stock_consumer)\n",
    "print('Count, Mean and standard deviation of monthly income of members of Consumer Grp: %3d, %3.6f and %3.6f' % (len(X1), X1.mean(),np.var(X1,ddof =1)))\n",
    "\n",
    "y_stock_service =  [ 0.1370, 0.0358, 0.0136, 0.1741, 0.1001, 0.1088, 0.1563, -0.0004, 0.1032, 0.0740, 0.1148, 0.0971, 0.1119, 0.0821,\\\n",
    "                    0.0164, 0.0145, 0.1012, 0.1385, -0.1027, 0.0526, 0.1205, 0.0447, 0.0871, 0.0559, 0.1002, 0.0765, 0.1003, 0.0787, 0.0659, 0.1360]\n",
    "\n",
    "X2                = np.array(y_stock_service)\n",
    "print('Count, Mean and standard deviation of monthly income of members of Service Grp: %3d, %3.6f and %3.6f' % (len(X2), X2.mean(),np.var(X2,ddof =1)))\n",
    "\n",
    "y_stock_indistrial = [ 0.0674, 0.0711, 0.0569, 0.0248, 0.0542, 0.0800, 0.0255, 0.0834, 0.0499, 0.0339, 0.0873, 0.1385, 0.0529, 0.0906, 0.0284,\\\n",
    "                       0.0582, 0.0766, 0.0412, 0.0910, 0.0876, 0.1077, 0.0148, 0.0471, 0.1066, 0.0044, 0.0294, 0.0655, 0.0284, 0.0390, 0.0728]\n",
    "\n",
    "X3                = np.array(y_stock_indistrial)\n",
    "print('Count, Mean and standard deviation of monthly income of members of Industrial Grp: %3d, %3.6f and %3.6f' % (len(X3), X3.mean(),np.var(X3,ddof =1)))\n",
    "\n",
    "\n",
    "sns.distplot(X1)\n",
    "sns.distplot(X2)\n",
    "sns.distplot(X3)\n"
   ]
  },
  {
   "cell_type": "code",
   "execution_count": 82,
   "metadata": {},
   "outputs": [
    {
     "data": {
      "image/png": "[encoded data removed]",
      "text/plain": [
       "<Figure size 432x288 with 1 Axes>"
      ]
     },
     "metadata": {
      "needs_background": "light"
     },
     "output_type": "display_data"
    }
   ],
   "source": [
    "import pandas as pd\n",
    "import numpy  as np\n",
    "\n",
    "df1     = pd.DataFrame({'Sector': 'Consumer',   'Stock_Return': y_stock_consumer})\n",
    "df2     = pd.DataFrame({'Sector': 'Service',    'Stock_Return': y_stock_service})\n",
    "df3     = pd.DataFrame({'Sector': 'Industrial', 'Stock_Return': y_stock_indistrial})\n",
    "\n",
    "y_stock_df  = pd.DataFrame()\n",
    "\n",
    "y_stock_df  = y_stock_df.append(df1) \n",
    "y_stock_df  = y_stock_df.append(df2) \n",
    "y_stock_df  = y_stock_df.append(df3) \n",
    "\n",
    "\n",
    "pd.DataFrame(y_stock_df.head())\n",
    "\n",
    "\n",
    "sns.boxplot(x = \"Sector\", y = \"Stock_Return\", data = y_stock_df)\n",
    "plt.title('Stock Life')\n",
    "plt.show()"
   ]
  },
  {
   "cell_type": "markdown",
   "metadata": {},
   "source": [
    "#### Hint: Try One-way ANOVA"
   ]
  },
  {
   "cell_type": "markdown",
   "metadata": {},
   "source": [
    "**2 The following table shows the quantity of soaps at different discount of different brands collected over 20 days.**"
   ]
  },
  {
   "cell_type": "code",
   "execution_count": 83,
   "metadata": {},
   "outputs": [
    {
     "name": "stdout",
     "output_type": "stream",
     "text": [
      "   Loc  Brand X  Brand Y  Brand Z\n",
      "0    1       20       28       32\n",
      "1    2       20       19       20\n",
      "2    1       16       23       29\n",
      "3    2       21       27       31\n",
      "4    1       24       25       28\n"
     ]
    }
   ],
   "source": [
    "table1  = [['Loc','Brand X','Brand Y','Brand Z'], [ 1, 20, 28, 32], [ 2, 20, 19, 20],\n",
    "  [ 1, 16, 23, 29 ],[ 2, 21, 27, 31 ],[ 1, 24, 25, 28 ],[ 2, 23, 23, 35 ],\n",
    "  [ 1, 20, 31, 27 ],[ 2, 19, 30, 25 ],[ 1, 19, 25, 30 ],[ 2, 25, 25, 31 ],\n",
    "  [ 1, 10, 24, 26 ],[ 2, 22, 21, 31 ],[ 1, 24, 28, 37 ],[ 2, 25, 33, 31 ],\n",
    "  [ 1, 16, 23, 33 ],[ 2, 21, 26, 23 ],[ 1, 25, 26, 27 ],[ 2, 26, 22, 22 ],\n",
    "  [ 1, 16, 25, 31 ],[ 2, 22, 28, 32 ],[ 1, 18, 22, 37 ],[ 2, 25, 24, 22 ],\n",
    "  [ 1, 20, 24, 28 ],[ 2, 23, 23, 29 ],[ 1, 17, 26, 25 ],[ 2, 23, 26, 25 ],\n",
    "  [ 1, 26, 28, 23 ],[ 2, 24, 16, 34 ],[ 1, 16, 21, 26 ],[ 2, 20, 30, 30 ],\n",
    "  [ 1, 21, 27, 33 ],[2, 23, 22, 25 ],[ 1, 24, 25, 28 ],[ 2, 18, 16, 39 ],\n",
    "  [ 1, 19, 20, 30 ],[ 2, 19, 25, 32 ],[ 1, 19, 26, 30 ],[ 2, 19, 34, 29 ],\n",
    "  [ 1, 21, 26, 26 ],[ 2, 30, 23, 22 ]]\n",
    "\n",
    "headers = table1.pop(0) #\n",
    "\n",
    "df1 = pd.DataFrame(table1, columns=headers)\n",
    "print(df1.head())"
   ]
  },
  {
   "cell_type": "markdown",
   "metadata": {},
   "source": [
    "This is a two-way ANOVA with replication since the data contains values for multiple locations."
   ]
  },
  {
   "cell_type": "markdown",
   "metadata": {},
   "source": [
    "Conduct a two-way ANOVA at $\\alpha$ = 5% to test the effects of Brands and location on sales."
   ]
  },
  {
   "cell_type": "markdown",
   "metadata": {},
   "source": [
    "** 3 Blood group of patients of the hospital is given below:**\n",
    "\n",
    "| Blood group | Count |\n",
    "| ------ | --- |\n",
    "| O | 44%|\n",
    "| A | 45% |\n",
    "| B | 8% |\n",
    "| AB | 3% |\n",
    "\n",
    "\n",
    "Observed frequency\n",
    "\n",
    "| Blood group | Count |\n",
    "| ----- | ----|\n",
    "| O | 67 |\n",
    "| A | 83 |\n",
    "| B | 29 |\n",
    "| C | 8 |\n",
    "\n",
    "At 5% level of significance do you have evidence to conclude that there are differences in the distribution of blood groups among patients that is expected as per our prior knowledge.\n",
    "\n"
   ]
  },
  {
   "cell_type": "markdown",
   "metadata": {},
   "source": [
    "**4. The shift quality data is given below:**\n",
    "\n",
    "| Shift | Perfect | Satisfactory | Defective |\n",
    "| ---- | ----- | ----- | ----- |\n",
    "| I | 106 | 124 | 1 | \n",
    "|II |  67 | 85 | 1 |\n",
    "| III | 37 | 72 | 3 |\n",
    "\n",
    "At 5% level of significance do you have evidence to conclude that there are differences in quality among the three shifts?\n"
   ]
  },
  {
   "cell_type": "markdown",
   "metadata": {},
   "source": [
    "## E N D  "
   ]
  },
  {
   "cell_type": "code",
   "execution_count": 84,
   "metadata": {},
   "outputs": [
    {
     "name": "stdout",
     "output_type": "stream",
     "text": [
      "            sum_sq    df        F    PR(>F)\n",
      "Sector    0.008719   2.0  2.59173  0.080664\n",
      "Residual  0.146340  87.0      NaN       NaN\n"
     ]
    }
   ],
   "source": [
    "import statsmodels.api         as     sm\n",
    "from   statsmodels.formula.api import ols\n",
    " \n",
    "mod = ols('Stock_Return ~ Sector', data = y_stock_df).fit()\n",
    "aov_table = sm.stats.anova_lm(mod, typ=2)\n",
    "print(aov_table)"
   ]
  },
  {
   "cell_type": "code",
   "execution_count": null,
   "metadata": {},
   "outputs": [],
   "source": []
  }
 ],
 "metadata": {
  "kernelspec": {
   "display_name": "Python 3",
   "language": "python",
   "name": "python3"
  },
  "language_info": {
   "codemirror_mode": {
    "name": "ipython",
    "version": 3
   },
   "file_extension": ".py",
   "mimetype": "text/x-python",
   "name": "python",
   "nbconvert_exporter": "python",
   "pygments_lexer": "ipython3",
   "version": "3.7.1"
  }
 },
 "nbformat": 4,
 "nbformat_minor": 2
}
