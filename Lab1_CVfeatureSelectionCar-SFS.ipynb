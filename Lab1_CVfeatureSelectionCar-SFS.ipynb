{
 "cells": [
  {
   "cell_type": "markdown",
   "metadata": {
    "colab_type": "text",
    "id": "uTOBSIPww5FC"
   },
   "source": [
    "# Attribute Information:\n",
    "\n",
    "1. mpg: continuous \n",
    "2. cylinders: multi-valued discrete \n",
    "3. displacement: continuous \n",
    "4. horsepower: continuous \n",
    "5. weight: continuous \n",
    "6. acceleration: continuous \n",
    "7. model year: multi-valued discrete \n",
    "8. origin: multi-valued discrete \n",
    "9. car name: string (unique for each instance)"
   ]
  },
  {
   "cell_type": "markdown",
   "metadata": {
    "colab_type": "text",
    "id": "DVhFtAe4w5FD"
   },
   "source": [
    "The data concerns city-cycle fuel consumption in miles per gallon, to be predicted in terms of 3 multivalued discrete and 5 continuous attributes."
   ]
  },
  {
   "cell_type": "code",
   "execution_count": 1,
   "metadata": {
    "colab": {},
    "colab_type": "code",
    "id": "9W0rdi2tw5FG"
   },
   "outputs": [],
   "source": [
    "import numpy as np\n",
    "import pandas as pd  \n",
    "from sklearn.linear_model import LinearRegression\n",
    "from sklearn.metrics import mean_squared_error\n",
    "import matplotlib.pyplot as plt   \n",
    "import seaborn as sns\n",
    "%matplotlib inline "
   ]
  },
  {
   "cell_type": "code",
   "execution_count": 2,
   "metadata": {
    "colab": {},
    "colab_type": "code",
    "id": "qlyU1wKMw5FJ"
   },
   "outputs": [],
   "source": [
    "import warnings\n",
    "warnings.filterwarnings('ignore')"
   ]
  },
  {
   "cell_type": "code",
   "execution_count": 3,
   "metadata": {
    "colab": {},
    "colab_type": "code",
    "id": "taKEcl7Jw5FO"
   },
   "outputs": [],
   "source": [
    "# reading the CSV file into pandas dataframe\n",
    "mpg_df = pd.read_csv(\"car-mpg.csv\")  "
   ]
  },
  {
   "cell_type": "code",
   "execution_count": 4,
   "metadata": {
    "colab": {},
    "colab_type": "code",
    "id": "aB85NfG0w5FU",
    "outputId": "6fd21f0d-f068-4204-b0e4-d1fdab2067f3"
   },
   "outputs": [
    {
     "data": {
      "text/html": [
       "<div>\n",
       "<style scoped>\n",
       "    .dataframe tbody tr th:only-of-type {\n",
       "        vertical-align: middle;\n",
       "    }\n",
       "\n",
       "    .dataframe tbody tr th {\n",
       "        vertical-align: top;\n",
       "    }\n",
       "\n",
       "    .dataframe thead th {\n",
       "        text-align: right;\n",
       "    }\n",
       "</style>\n",
       "<table border=\"1\" class=\"dataframe\">\n",
       "  <thead>\n",
       "    <tr style=\"text-align: right;\">\n",
       "      <th></th>\n",
       "      <th>mpg</th>\n",
       "      <th>cyl</th>\n",
       "      <th>disp</th>\n",
       "      <th>hp</th>\n",
       "      <th>wt</th>\n",
       "      <th>acc</th>\n",
       "      <th>yr</th>\n",
       "      <th>origin</th>\n",
       "      <th>car_type</th>\n",
       "      <th>car_name</th>\n",
       "    </tr>\n",
       "  </thead>\n",
       "  <tbody>\n",
       "    <tr>\n",
       "      <th>0</th>\n",
       "      <td>18.0</td>\n",
       "      <td>8</td>\n",
       "      <td>307.0</td>\n",
       "      <td>130</td>\n",
       "      <td>3504</td>\n",
       "      <td>12.0</td>\n",
       "      <td>70</td>\n",
       "      <td>1</td>\n",
       "      <td>0</td>\n",
       "      <td>chevrolet chevelle malibu</td>\n",
       "    </tr>\n",
       "    <tr>\n",
       "      <th>1</th>\n",
       "      <td>15.0</td>\n",
       "      <td>8</td>\n",
       "      <td>350.0</td>\n",
       "      <td>165</td>\n",
       "      <td>3693</td>\n",
       "      <td>11.5</td>\n",
       "      <td>70</td>\n",
       "      <td>1</td>\n",
       "      <td>0</td>\n",
       "      <td>buick skylark 320</td>\n",
       "    </tr>\n",
       "  </tbody>\n",
       "</table>\n",
       "</div>"
      ],
      "text/plain": [
       "    mpg  cyl   disp   hp    wt   acc  yr  origin  car_type  \\\n",
       "0  18.0    8  307.0  130  3504  12.0  70       1         0   \n",
       "1  15.0    8  350.0  165  3693  11.5  70       1         0   \n",
       "\n",
       "                    car_name  \n",
       "0  chevrolet chevelle malibu  \n",
       "1          buick skylark 320  "
      ]
     },
     "execution_count": 4,
     "metadata": {},
     "output_type": "execute_result"
    }
   ],
   "source": [
    "# Check top few records to get a feel of the data structure\n",
    "mpg_df.head(2)"
   ]
  },
  {
   "cell_type": "code",
   "execution_count": 5,
   "metadata": {
    "colab": {},
    "colab_type": "code",
    "id": "mVwiuI7bw5Fb"
   },
   "outputs": [],
   "source": [
    "# drop the car name and origin columns\n",
    "mpg_df = mpg_df.drop('car_name', axis=1)"
   ]
  },
  {
   "cell_type": "code",
   "execution_count": 6,
   "metadata": {
    "colab": {},
    "colab_type": "code",
    "id": "R2SsUHJ3w5Fh"
   },
   "outputs": [],
   "source": [
    "mpg_df = mpg_df.replace('?', np.nan)\n",
    "mpg_df = mpg_df.dropna()"
   ]
  },
  {
   "cell_type": "code",
   "execution_count": 7,
   "metadata": {
    "colab": {},
    "colab_type": "code",
    "id": "nVYuE01Dw5Fr",
    "outputId": "e46eef71-a1f1-4654-d391-c4050815b8c5"
   },
   "outputs": [
    {
     "name": "stdout",
     "output_type": "stream",
     "text": [
      "<class 'pandas.core.frame.DataFrame'>\n",
      "Int64Index: 392 entries, 0 to 397\n",
      "Data columns (total 9 columns):\n",
      "mpg         392 non-null float64\n",
      "cyl         392 non-null int64\n",
      "disp        392 non-null float64\n",
      "hp          392 non-null object\n",
      "wt          392 non-null int64\n",
      "acc         392 non-null float64\n",
      "yr          392 non-null int64\n",
      "origin      392 non-null int64\n",
      "car_type    392 non-null int64\n",
      "dtypes: float64(3), int64(5), object(1)\n",
      "memory usage: 30.6+ KB\n"
     ]
    }
   ],
   "source": [
    "mpg_df.info()"
   ]
  },
  {
   "cell_type": "code",
   "execution_count": 8,
   "metadata": {
    "colab": {},
    "colab_type": "code",
    "id": "aIOLk4Mgw5F0"
   },
   "outputs": [],
   "source": [
    "mpg_df['hp'] = mpg_df['hp'].astype('float64')"
   ]
  },
  {
   "cell_type": "code",
   "execution_count": 9,
   "metadata": {
    "colab": {},
    "colab_type": "code",
    "id": "1tN8hEJLw5F6",
    "outputId": "6148fa4e-a88e-42b4-dde5-9104b4ce47ca"
   },
   "outputs": [
    {
     "data": {
      "text/html": [
       "<div>\n",
       "<style scoped>\n",
       "    .dataframe tbody tr th:only-of-type {\n",
       "        vertical-align: middle;\n",
       "    }\n",
       "\n",
       "    .dataframe tbody tr th {\n",
       "        vertical-align: top;\n",
       "    }\n",
       "\n",
       "    .dataframe thead th {\n",
       "        text-align: right;\n",
       "    }\n",
       "</style>\n",
       "<table border=\"1\" class=\"dataframe\">\n",
       "  <thead>\n",
       "    <tr style=\"text-align: right;\">\n",
       "      <th></th>\n",
       "      <th>mpg</th>\n",
       "      <th>cyl</th>\n",
       "      <th>disp</th>\n",
       "      <th>hp</th>\n",
       "      <th>wt</th>\n",
       "      <th>acc</th>\n",
       "      <th>yr</th>\n",
       "      <th>origin</th>\n",
       "      <th>car_type</th>\n",
       "    </tr>\n",
       "  </thead>\n",
       "  <tbody>\n",
       "    <tr>\n",
       "      <th>count</th>\n",
       "      <td>392.000000</td>\n",
       "      <td>392.000000</td>\n",
       "      <td>392.000000</td>\n",
       "      <td>392.000000</td>\n",
       "      <td>392.000000</td>\n",
       "      <td>392.000000</td>\n",
       "      <td>392.000000</td>\n",
       "      <td>392.000000</td>\n",
       "      <td>392.000000</td>\n",
       "    </tr>\n",
       "    <tr>\n",
       "      <th>mean</th>\n",
       "      <td>23.445918</td>\n",
       "      <td>5.471939</td>\n",
       "      <td>194.411990</td>\n",
       "      <td>104.469388</td>\n",
       "      <td>2977.584184</td>\n",
       "      <td>15.541327</td>\n",
       "      <td>75.979592</td>\n",
       "      <td>1.576531</td>\n",
       "      <td>0.525510</td>\n",
       "    </tr>\n",
       "    <tr>\n",
       "      <th>std</th>\n",
       "      <td>7.805007</td>\n",
       "      <td>1.705783</td>\n",
       "      <td>104.644004</td>\n",
       "      <td>38.491160</td>\n",
       "      <td>849.402560</td>\n",
       "      <td>2.758864</td>\n",
       "      <td>3.683737</td>\n",
       "      <td>0.805518</td>\n",
       "      <td>0.499987</td>\n",
       "    </tr>\n",
       "    <tr>\n",
       "      <th>min</th>\n",
       "      <td>9.000000</td>\n",
       "      <td>3.000000</td>\n",
       "      <td>68.000000</td>\n",
       "      <td>46.000000</td>\n",
       "      <td>1613.000000</td>\n",
       "      <td>8.000000</td>\n",
       "      <td>70.000000</td>\n",
       "      <td>1.000000</td>\n",
       "      <td>0.000000</td>\n",
       "    </tr>\n",
       "    <tr>\n",
       "      <th>25%</th>\n",
       "      <td>17.000000</td>\n",
       "      <td>4.000000</td>\n",
       "      <td>105.000000</td>\n",
       "      <td>75.000000</td>\n",
       "      <td>2225.250000</td>\n",
       "      <td>13.775000</td>\n",
       "      <td>73.000000</td>\n",
       "      <td>1.000000</td>\n",
       "      <td>0.000000</td>\n",
       "    </tr>\n",
       "    <tr>\n",
       "      <th>50%</th>\n",
       "      <td>22.750000</td>\n",
       "      <td>4.000000</td>\n",
       "      <td>151.000000</td>\n",
       "      <td>93.500000</td>\n",
       "      <td>2803.500000</td>\n",
       "      <td>15.500000</td>\n",
       "      <td>76.000000</td>\n",
       "      <td>1.000000</td>\n",
       "      <td>1.000000</td>\n",
       "    </tr>\n",
       "    <tr>\n",
       "      <th>75%</th>\n",
       "      <td>29.000000</td>\n",
       "      <td>8.000000</td>\n",
       "      <td>275.750000</td>\n",
       "      <td>126.000000</td>\n",
       "      <td>3614.750000</td>\n",
       "      <td>17.025000</td>\n",
       "      <td>79.000000</td>\n",
       "      <td>2.000000</td>\n",
       "      <td>1.000000</td>\n",
       "    </tr>\n",
       "    <tr>\n",
       "      <th>max</th>\n",
       "      <td>46.600000</td>\n",
       "      <td>8.000000</td>\n",
       "      <td>455.000000</td>\n",
       "      <td>230.000000</td>\n",
       "      <td>5140.000000</td>\n",
       "      <td>24.800000</td>\n",
       "      <td>82.000000</td>\n",
       "      <td>3.000000</td>\n",
       "      <td>1.000000</td>\n",
       "    </tr>\n",
       "  </tbody>\n",
       "</table>\n",
       "</div>"
      ],
      "text/plain": [
       "              mpg         cyl        disp          hp           wt  \\\n",
       "count  392.000000  392.000000  392.000000  392.000000   392.000000   \n",
       "mean    23.445918    5.471939  194.411990  104.469388  2977.584184   \n",
       "std      7.805007    1.705783  104.644004   38.491160   849.402560   \n",
       "min      9.000000    3.000000   68.000000   46.000000  1613.000000   \n",
       "25%     17.000000    4.000000  105.000000   75.000000  2225.250000   \n",
       "50%     22.750000    4.000000  151.000000   93.500000  2803.500000   \n",
       "75%     29.000000    8.000000  275.750000  126.000000  3614.750000   \n",
       "max     46.600000    8.000000  455.000000  230.000000  5140.000000   \n",
       "\n",
       "              acc          yr      origin    car_type  \n",
       "count  392.000000  392.000000  392.000000  392.000000  \n",
       "mean    15.541327   75.979592    1.576531    0.525510  \n",
       "std      2.758864    3.683737    0.805518    0.499987  \n",
       "min      8.000000   70.000000    1.000000    0.000000  \n",
       "25%     13.775000   73.000000    1.000000    0.000000  \n",
       "50%     15.500000   76.000000    1.000000    1.000000  \n",
       "75%     17.025000   79.000000    2.000000    1.000000  \n",
       "max     24.800000   82.000000    3.000000    1.000000  "
      ]
     },
     "execution_count": 9,
     "metadata": {},
     "output_type": "execute_result"
    }
   ],
   "source": [
    "mpg_df.describe()"
   ]
  },
  {
   "cell_type": "code",
   "execution_count": 10,
   "metadata": {
    "colab": {},
    "colab_type": "code",
    "id": "GS0mkzoAw5F_",
    "outputId": "67a781fa-59cc-4a8a-bd1d-6f89feda1c28"
   },
   "outputs": [
    {
     "data": {
      "text/plain": [
       "Text(0,0.5,'mpg')"
      ]
     },
     "execution_count": 10,
     "metadata": {},
     "output_type": "execute_result"
    },
    {
     "data": {
      "image/png": "[encoded data removed]",
      "text/plain": [
       "<matplotlib.figure.Figure at 0x264c85783c8>"
      ]
     },
     "metadata": {},
     "output_type": "display_data"
    }
   ],
   "source": [
    "plt.scatter(mpg_df.hp, mpg_df.mpg, )\n",
    "plt.xlabel('horsePower')\n",
    "plt.ylabel('mpg')"
   ]
  },
  {
   "cell_type": "code",
   "execution_count": 11,
   "metadata": {
    "colab": {},
    "colab_type": "code",
    "id": "L23OrvCgw5GF"
   },
   "outputs": [],
   "source": [
    "x = mpg_df[['hp']]\n",
    "y = mpg_df['mpg']"
   ]
  },
  {
   "cell_type": "code",
   "execution_count": 12,
   "metadata": {
    "colab": {},
    "colab_type": "code",
    "id": "FCYxQ8oTw5GI"
   },
   "outputs": [],
   "source": [
    "# Split X and y into training and test set in 70:30 ratio\n",
    "from sklearn.model_selection import train_test_split\n",
    "x_train, x_test, y_train, y_test = train_test_split(x, y, test_size=0.30, random_state=1)"
   ]
  },
  {
   "cell_type": "code",
   "execution_count": 13,
   "metadata": {
    "colab": {},
    "colab_type": "code",
    "id": "nNJq5UnXw5GL",
    "outputId": "bdaf18e6-d50e-45c6-d630-556daf69c281"
   },
   "outputs": [
    {
     "data": {
      "text/plain": [
       "LinearRegression(copy_X=True, fit_intercept=True, n_jobs=None, normalize=False)"
      ]
     },
     "execution_count": 13,
     "metadata": {},
     "output_type": "execute_result"
    }
   ],
   "source": [
    "regression_model = LinearRegression()\n",
    "regression_model.fit(x_train, y_train)"
   ]
  },
  {
   "cell_type": "code",
   "execution_count": 14,
   "metadata": {
    "colab": {},
    "colab_type": "code",
    "id": "Q4jhh2d1w5GQ",
    "outputId": "ac59ee7e-9ef0-4459-92ab-6e566a5ccb41"
   },
   "outputs": [
    {
     "name": "stdout",
     "output_type": "stream",
     "text": [
      "0.6042048006827028\n"
     ]
    }
   ],
   "source": [
    "# Train R^2\n",
    "print(regression_model.score(x_train, y_train))"
   ]
  },
  {
   "cell_type": "code",
   "execution_count": 15,
   "metadata": {
    "colab": {},
    "colab_type": "code",
    "id": "M1_HJWuSw5Ge",
    "outputId": "089b7356-ee90-45f1-d649-04e2e63bb669"
   },
   "outputs": [
    {
     "name": "stdout",
     "output_type": "stream",
     "text": [
      "0.6059927446641065\n"
     ]
    }
   ],
   "source": [
    "# Test R^2\n",
    "print(regression_model.score(x_test, y_test))"
   ]
  },
  {
   "cell_type": "code",
   "execution_count": 16,
   "metadata": {
    "colab": {},
    "colab_type": "code",
    "id": "JkAYPUS1w5Gk",
    "outputId": "1d6e7e6f-816d-4bec-ec88-98679912c837"
   },
   "outputs": [
    {
     "name": "stdout",
     "output_type": "stream",
     "text": [
      "23.073137254420594\n"
     ]
    }
   ],
   "source": [
    "# Train MSE\n",
    "predictedMpg = regression_model.predict(x_train)\n",
    "print(mean_squared_error(predictedMpg, y_train))"
   ]
  },
  {
   "cell_type": "code",
   "execution_count": 17,
   "metadata": {
    "colab": {},
    "colab_type": "code",
    "id": "502XFbBUw5Gy",
    "outputId": "af9ef1f2-19aa-4c78-b8e8-af27c5e15ebf"
   },
   "outputs": [
    {
     "name": "stdout",
     "output_type": "stream",
     "text": [
      "26.194975304568533\n"
     ]
    }
   ],
   "source": [
    "# Test MSE\n",
    "predictedMpg = regression_model.predict(x_test)\n",
    "print(mean_squared_error(predictedMpg, y_test))"
   ]
  },
  {
   "cell_type": "code",
   "execution_count": 18,
   "metadata": {
    "colab": {},
    "colab_type": "code",
    "id": "KY42yYDzw5G_",
    "outputId": "2516e37c-c3de-457b-910d-d884fd997ad5"
   },
   "outputs": [
    {
     "data": {
      "text/plain": [
       "array([[  88., 7744.],\n",
       "       [  82., 6724.]])"
      ]
     },
     "execution_count": 18,
     "metadata": {},
     "output_type": "execute_result"
    }
   ],
   "source": [
    "from sklearn.preprocessing import PolynomialFeatures \n",
    "poly = PolynomialFeatures( degree = 2, include_bias = False) \n",
    "xPoly_train = poly.fit_transform(x_train)\n",
    "xPoly_train[0:2]"
   ]
  },
  {
   "cell_type": "code",
   "execution_count": 19,
   "metadata": {
    "colab": {},
    "colab_type": "code",
    "id": "hPFVmjfGw5HK",
    "outputId": "a9fc453a-2a59-4c17-8134-2ea2a5d45963"
   },
   "outputs": [
    {
     "data": {
      "text/html": [
       "<div>\n",
       "<style scoped>\n",
       "    .dataframe tbody tr th:only-of-type {\n",
       "        vertical-align: middle;\n",
       "    }\n",
       "\n",
       "    .dataframe tbody tr th {\n",
       "        vertical-align: top;\n",
       "    }\n",
       "\n",
       "    .dataframe thead th {\n",
       "        text-align: right;\n",
       "    }\n",
       "</style>\n",
       "<table border=\"1\" class=\"dataframe\">\n",
       "  <thead>\n",
       "    <tr style=\"text-align: right;\">\n",
       "      <th></th>\n",
       "      <th>hp</th>\n",
       "    </tr>\n",
       "  </thead>\n",
       "  <tbody>\n",
       "    <tr>\n",
       "      <th>335</th>\n",
       "      <td>88.0</td>\n",
       "    </tr>\n",
       "    <tr>\n",
       "      <th>397</th>\n",
       "      <td>82.0</td>\n",
       "    </tr>\n",
       "  </tbody>\n",
       "</table>\n",
       "</div>"
      ],
      "text/plain": [
       "       hp\n",
       "335  88.0\n",
       "397  82.0"
      ]
     },
     "execution_count": 19,
     "metadata": {},
     "output_type": "execute_result"
    }
   ],
   "source": [
    "x_train.head(2)"
   ]
  },
  {
   "cell_type": "code",
   "execution_count": 20,
   "metadata": {
    "colab": {},
    "colab_type": "code",
    "id": "SN6CSQ0Pw5HP"
   },
   "outputs": [],
   "source": [
    "regression_modelP2 = regression_model.fit(xPoly_train, y_train)"
   ]
  },
  {
   "cell_type": "code",
   "execution_count": 21,
   "metadata": {
    "colab": {},
    "colab_type": "code",
    "id": "Eo4LN1BPw5HW",
    "outputId": "77cc932c-d903-4ed3-b0c2-056409f01ec1"
   },
   "outputs": [
    {
     "name": "stdout",
     "output_type": "stream",
     "text": [
      "0.6771788501604865\n"
     ]
    }
   ],
   "source": [
    "# Train R^2\n",
    "print(regression_modelP2.score(xPoly_train, y_train))"
   ]
  },
  {
   "cell_type": "code",
   "execution_count": 22,
   "metadata": {
    "colab": {},
    "colab_type": "code",
    "id": "s2U8mStCw5Hc",
    "outputId": "3fc0e8c7-3d42-431c-cbe7-fa720a4868fc"
   },
   "outputs": [
    {
     "name": "stdout",
     "output_type": "stream",
     "text": [
      "0.6776172907002116\n"
     ]
    }
   ],
   "source": [
    "poly = PolynomialFeatures( degree = 3, include_bias = False) \n",
    "xPoly_train = poly.fit_transform(x_train)\n",
    "regression_modelPnew = regression_model.fit(xPoly_train, y_train)\n",
    "# Train R^2\n",
    "print(regression_modelPnew.score(xPoly_train, y_train))"
   ]
  },
  {
   "cell_type": "markdown",
   "metadata": {
    "colab_type": "text",
    "collapsed": true,
    "id": "N1H4mfuqw5Hx"
   },
   "source": [
    "# Features selection"
   ]
  },
  {
   "cell_type": "code",
   "execution_count": 23,
   "metadata": {
    "colab": {},
    "colab_type": "code",
    "id": "5e7xKz6ww5Hy"
   },
   "outputs": [],
   "source": [
    "from mlxtend.feature_selection import SequentialFeatureSelector as sfs"
   ]
  },
  {
   "cell_type": "code",
   "execution_count": 24,
   "metadata": {
    "colab": {},
    "colab_type": "code",
    "id": "hIHIfbUsw5H3"
   },
   "outputs": [],
   "source": [
    "x = mpg_df.drop('mpg', axis = 1)\n",
    "y = mpg_df['mpg']"
   ]
  },
  {
   "cell_type": "code",
   "execution_count": 25,
   "metadata": {
    "colab": {},
    "colab_type": "code",
    "id": "IV6w4TX9w5H7"
   },
   "outputs": [],
   "source": [
    "x_train, x_test, y_train, y_test = train_test_split(x, y, test_size=0.30, random_state=1)"
   ]
  },
  {
   "cell_type": "code",
   "execution_count": 26,
   "metadata": {
    "colab": {},
    "colab_type": "code",
    "id": "0GNoM_tDw5ID",
    "outputId": "47c7ecf9-14fc-4e0e-a9eb-186a5dd7c569"
   },
   "outputs": [
    {
     "name": "stdout",
     "output_type": "stream",
     "text": [
      "Training dataset shape: (274, 8) (274,)\n",
      "Testing dataset shape: (118, 8) (118,)\n"
     ]
    }
   ],
   "source": [
    "print('Training dataset shape:', x_train.shape, y_train.shape)\n",
    "print('Testing dataset shape:', x_test.shape, y_test.shape)"
   ]
  },
  {
   "cell_type": "code",
   "execution_count": 27,
   "metadata": {
    "colab": {},
    "colab_type": "code",
    "id": "9j_7_-MNw5IP"
   },
   "outputs": [],
   "source": [
    "# Build Lin Reg  to use in feature selection\n",
    "linR = LinearRegression()"
   ]
  },
  {
   "cell_type": "code",
   "execution_count": 28,
   "metadata": {
    "colab": {},
    "colab_type": "code",
    "id": "35FRz-5Iw5IT"
   },
   "outputs": [],
   "source": [
    "# Build step forward feature selection\n",
    "sfs1 = sfs(linR, k_features=5, forward=True, scoring='r2', cv=5)"
   ]
  },
  {
   "cell_type": "code",
   "execution_count": 29,
   "metadata": {
    "colab": {},
    "colab_type": "code",
    "id": "L7JqfJ9ww5IZ"
   },
   "outputs": [],
   "source": [
    "# Perform SFFS\n",
    "sfs1 = sfs1.fit(x_train.values, y_train.values)"
   ]
  },
  {
   "cell_type": "code",
   "execution_count": 30,
   "metadata": {
    "colab": {},
    "colab_type": "code",
    "id": "1gRjpxkUw5Id",
    "outputId": "5a764a9b-e4cd-48fb-8291-51172cc0372b"
   },
   "outputs": [
    {
     "data": {
      "text/plain": [
       "{1: {'avg_score': 0.6807942791247162,\n",
       "  'ci_bound': 0.12351348849845521,\n",
       "  'cv_scores': array([0.54362205, 0.63041291, 0.67296379, 0.72523906, 0.83173358]),\n",
       "  'feature_idx': (3,),\n",
       "  'feature_names': ('3',),\n",
       "  'std_dev': 0.09609769021095478,\n",
       "  'std_err': 0.04804884510547739},\n",
       " 2: {'avg_score': 0.7943587984415492,\n",
       "  'ci_bound': 0.028616668110338285,\n",
       "  'cv_scores': array([0.76226899, 0.77835551, 0.81740483, 0.79369266, 0.820072  ]),\n",
       "  'feature_idx': (3, 5),\n",
       "  'feature_names': ('3', '5'),\n",
       "  'std_dev': 0.02226473999211343,\n",
       "  'std_err': 0.011132369996056712},\n",
       " 3: {'avg_score': 0.8060381308667253,\n",
       "  'ci_bound': 0.030394105814325306,\n",
       "  'cv_scores': array([0.77658548, 0.77907703, 0.82930666, 0.81516195, 0.83005954]),\n",
       "  'feature_idx': (3, 5, 7),\n",
       "  'feature_names': ('3', '5', '7'),\n",
       "  'std_dev': 0.02364764691121605,\n",
       "  'std_err': 0.011823823455608022},\n",
       " 4: {'avg_score': 0.8182024052178217,\n",
       "  'ci_bound': 0.03238380367418996,\n",
       "  'cv_scores': array([0.79164192, 0.79408855, 0.81163837, 0.83667329, 0.8569699 ]),\n",
       "  'feature_idx': (0, 3, 5, 7),\n",
       "  'feature_names': ('0', '3', '5', '7'),\n",
       "  'std_dev': 0.025195699442766593,\n",
       "  'std_err': 0.012597849721383295},\n",
       " 5: {'avg_score': 0.8214580408428468,\n",
       "  'ci_bound': 0.04451629943631785,\n",
       "  'cv_scores': array([0.76869742, 0.79957735, 0.82480163, 0.84754988, 0.86666392]),\n",
       "  'feature_idx': (0, 3, 5, 6, 7),\n",
       "  'feature_names': ('0', '3', '5', '6', '7'),\n",
       "  'std_dev': 0.03463519332645906,\n",
       "  'std_err': 0.01731759666322953}}"
      ]
     },
     "execution_count": 30,
     "metadata": {},
     "output_type": "execute_result"
    }
   ],
   "source": [
    "sfs1.get_metric_dict()"
   ]
  },
  {
   "cell_type": "code",
   "execution_count": 31,
   "metadata": {
    "colab": {},
    "colab_type": "code",
    "id": "8rLNfGK-w5If"
   },
   "outputs": [],
   "source": [
    "from mlxtend.plotting import plot_sequential_feature_selection as plot_sfs\n",
    "import matplotlib.pyplot as plt"
   ]
  },
  {
   "cell_type": "code",
   "execution_count": 32,
   "metadata": {
    "colab": {},
    "colab_type": "code",
    "id": "cM5vsYLWw5Ih",
    "outputId": "bb1fc3a3-4feb-4ebf-e6f7-d47c6e64c961"
   },
   "outputs": [
    {
     "data": {
      "image/png": "[encoded data removed]",
      "text/plain": [
       "<matplotlib.figure.Figure at 0x264ca9e8eb8>"
      ]
     },
     "metadata": {},
     "output_type": "display_data"
    }
   ],
   "source": [
    "fig = plot_sfs(sfs1.get_metric_dict())\n",
    "\n",
    "plt.title('Sequential Forward Selection (w. R^2)')\n",
    "plt.grid()\n",
    "plt.show()"
   ]
  },
  {
   "cell_type": "code",
   "execution_count": 33,
   "metadata": {
    "colab": {},
    "colab_type": "code",
    "id": "m9jD4qbow5Im",
    "outputId": "31e81873-db26-4c69-af95-e9669058131a"
   },
   "outputs": [
    {
     "name": "stdout",
     "output_type": "stream",
     "text": [
      "[0, 3, 5, 6, 7]\n"
     ]
    }
   ],
   "source": [
    "# Which features?\n",
    "columnList = list(x_train.columns)\n",
    "feat_cols = list(sfs1.k_feature_idx_)\n",
    "print(feat_cols)"
   ]
  },
  {
   "cell_type": "code",
   "execution_count": 34,
   "metadata": {
    "colab": {},
    "colab_type": "code",
    "id": "4r9kPmYzw5Io",
    "outputId": "ebfa4076-eaee-461a-c554-f0e8d2fa58d7"
   },
   "outputs": [
    {
     "name": "stdout",
     "output_type": "stream",
     "text": [
      "['cyl', 'wt', 'yr', 'origin', 'car_type']\n"
     ]
    }
   ],
   "source": [
    "subsetColumnList = [columnList[i] for i in feat_cols] \n",
    "print(subsetColumnList)"
   ]
  },
  {
   "cell_type": "markdown",
   "metadata": {
    "colab_type": "text",
    "id": "TSBFZB31w5Ir"
   },
   "source": [
    "# Build full model with selected features"
   ]
  },
  {
   "cell_type": "code",
   "execution_count": 35,
   "metadata": {
    "colab": {},
    "colab_type": "code",
    "id": "EMNJPhRBw5It",
    "outputId": "5f3747d5-fe9c-45ee-93be-f72038cf8126"
   },
   "outputs": [
    {
     "data": {
      "text/plain": [
       "LinearRegression(copy_X=True, fit_intercept=True, n_jobs=None, normalize=False)"
      ]
     },
     "execution_count": 35,
     "metadata": {},
     "output_type": "execute_result"
    }
   ],
   "source": [
    "linR = LinearRegression()\n",
    "linR.fit(x_train[subsetColumnList], y_train)"
   ]
  },
  {
   "cell_type": "code",
   "execution_count": 36,
   "metadata": {
    "colab": {},
    "colab_type": "code",
    "id": "Xwy1mHUEw5Iw",
    "outputId": "ea9143fa-81d6-41ed-d062-a6239808bf31"
   },
   "outputs": [
    {
     "name": "stdout",
     "output_type": "stream",
     "text": [
      "Training accuracy on selected features: 0.830\n"
     ]
    }
   ],
   "source": [
    "y_train_pred = linR.predict(x_train[subsetColumnList])\n",
    "print('Training accuracy on selected features: %.3f' % linR.score(x_train[subsetColumnList], y_train))"
   ]
  },
  {
   "cell_type": "code",
   "execution_count": 37,
   "metadata": {
    "colab": {},
    "colab_type": "code",
    "id": "X_NPLns9w5Iz",
    "outputId": "dbfe41b2-2147-45e3-a977-31b90c1bb693"
   },
   "outputs": [
    {
     "name": "stdout",
     "output_type": "stream",
     "text": [
      "Testing accuracy on selected features: 0.837\n"
     ]
    }
   ],
   "source": [
    "y_test_pred = linR.predict(x_test[subsetColumnList])\n",
    "print('Testing accuracy on selected features: %.3f' % linR.score(x_test[subsetColumnList], y_test))"
   ]
  },
  {
   "cell_type": "markdown",
   "metadata": {
    "colab_type": "text",
    "id": "ExTUCVPlw5I4"
   },
   "source": [
    "# Build full model on ALL features, for comparison"
   ]
  },
  {
   "cell_type": "code",
   "execution_count": 38,
   "metadata": {
    "colab": {},
    "colab_type": "code",
    "id": "0RtfmYL-w5I4",
    "outputId": "b1f413ec-5c4f-473d-fd1f-f247d4b51085"
   },
   "outputs": [
    {
     "data": {
      "text/plain": [
       "LinearRegression(copy_X=True, fit_intercept=True, n_jobs=None, normalize=False)"
      ]
     },
     "execution_count": 38,
     "metadata": {},
     "output_type": "execute_result"
    }
   ],
   "source": [
    "linR = LinearRegression()\n",
    "linR.fit(x_train, y_train)"
   ]
  },
  {
   "cell_type": "code",
   "execution_count": 39,
   "metadata": {
    "colab": {},
    "colab_type": "code",
    "id": "8ktp0D5Bw5I9",
    "outputId": "4189ec58-eb04-4f99-8025-a8ba41688278"
   },
   "outputs": [
    {
     "name": "stdout",
     "output_type": "stream",
     "text": [
      "Training accuracy on selected features: 0.841\n"
     ]
    }
   ],
   "source": [
    "y_train_pred = linR.predict(x_train)\n",
    "print('Training accuracy on selected features: %.3f' % linR.score(x_train, y_train))"
   ]
  },
  {
   "cell_type": "code",
   "execution_count": 40,
   "metadata": {
    "colab": {},
    "colab_type": "code",
    "id": "Nh07SI_Nw5I_",
    "outputId": "0ae4aa1f-14e0-4306-c27b-f93f8be056dc"
   },
   "outputs": [
    {
     "name": "stdout",
     "output_type": "stream",
     "text": [
      "Testing accuracy on selected features: 0.835\n"
     ]
    }
   ],
   "source": [
    "y_test_pred = linR.predict(x_test)\n",
    "print('Testing accuracy on selected features: %.3f' % linR.score(x_test, y_test))"
   ]
  },
  {
   "cell_type": "markdown",
   "metadata": {
    "colab_type": "text",
    "id": "yt1lIdiew5JD"
   },
   "source": [
    "# API: SequentialFeatureSelector(estimator, k_features=1, forward=True, floating=False, verbose=0, scoring=None, cv=5, n_jobs=1, pre_dispatch='2n_jobs', clone_estimator=True)\n",
    "\n",
    "Sequential Feature Selection for Classification and Regression"
   ]
  },
  {
   "cell_type": "markdown",
   "metadata": {
    "colab_type": "text",
    "id": "XmrI34z1w5JE"
   },
   "source": [
    "### Parameters\n",
    "\n",
    "1. estimator : scikit-learn classifier or regressor\n",
    "\n",
    "2. k_features : int or tuple or str (default: 1)\n",
    "\n",
    "Number of features to select, where k_features < the full feature set. New in 0.4.2: A tuple containing a min and max value can be provided, and the SFS will consider return any feature combination between min and max that scored highest in cross-validtion. For example, the tuple (1, 4) will return any combination from 1 up to 4 features instead of a fixed number of features k. New in 0.8.0: A string argument \"best\" or \"parsimonious\". If \"best\" is provided, the feature selector will return the feature subset with the best cross-validation performance. If \"parsimonious\" is provided as an argument, the smallest feature subset that is within one standard error of the cross-validation performance will be selected.\n",
    "\n",
    "3. forward : bool (default: True)\n",
    "\n",
    "Forward selection if True, backward selection otherwise\n",
    "\n",
    "4. floating : bool (default: False)\n",
    "\n",
    "Adds a conditional exclusion/inclusion if True.\n",
    "\n",
    "5. verbose : int (default: 0), level of verbosity to use in logging.\n",
    "\n",
    "If 0, no output, if 1 number of features in current set, if 2 detailed logging i ncluding timestamp and cv scores at step.\n",
    "\n",
    "6. scoring : str, callable, or None (default: None)\n",
    "\n",
    "If None (default), uses 'accuracy' for sklearn classifiers and 'r2' for sklearn regressors. If str, uses a sklearn scoring metric string identifier, for example {accuracy, f1, precision, recall, roc_auc} for classifiers, {'mean_absolute_error', 'mean_squared_error'/'neg_mean_squared_error', 'median_absolute_error', 'r2'} for regressors. If a callable object or function is provided, it has to be conform with sklearn's signature scorer(estimator, X, y); see http://scikit-learn.org/stable/modules/generated/sklearn.metrics.make_scorer.html for more information.\n",
    "\n",
    "7. cv : int (default: 5)\n",
    "\n",
    "Integer or iterable yielding train, test splits. If cv is an integer and estimator is a classifier (or y consists of integer class labels) stratified k-fold. Otherwise regular k-fold cross-validation is performed. No cross-validation if cv is None, False, or 0.\n",
    "\n",
    "8. n_jobs : int (default: 1)\n",
    "\n",
    "The number of CPUs to use for evaluating different feature subsets in parallel. -1 means 'all CPUs'.\n",
    "\n",
    "pre_dispatch : int, or string (default: '2*n_jobs')\n",
    "\n",
    "Controls the number of jobs that get dispatched during parallel execution if n_jobs > 1 or n_jobs=-1. Reducing this number can be useful to avoid an explosion of memory consumption when more jobs get dispatched than CPUs can process. This parameter can be: None, in which case all the jobs are immediately created and spawned. Use this for lightweight and fast-running jobs, to avoid delays due to on-demand spawning of the jobs An int, giving the exact number of total jobs that are spawned A string, giving an expression as a function of n_jobs, as in 2*n_jobs\n",
    "\n",
    "9. clone_estimator : bool (default: True)\n",
    "\n",
    "Clones estimator if True; works with the original estimator instance if False. Set to False if the estimator doesn't implement scikit-learn's set_params and get_params methods. In addition, it is required to set cv=0, and n_jobs=1.\n",
    "\n",
    "### Attributes\n",
    "\n",
    "1. k_feature_idx_ : array-like, shape = [n_predictions]\n",
    "\n",
    "2. Feature Indices of the selected feature subsets.\n",
    "\n",
    "3. k_feature_names_ : array-like, shape = [n_predictions]\n",
    "\n",
    "Feature names of the selected feature subsets. If pandas DataFrames are used in the fit method, the feature names correspond to the column names. Otherwise, the feature names are string representation of the feature array indices. New in v 0.13.0.\n",
    "\n",
    "4. k_score_ : float\n",
    "\n",
    "Cross validation average score of the selected subset.\n",
    "\n",
    "5. subsets_ : dict\n",
    "\n",
    "A dictionary of selected feature subsets during the sequential selection, where the dictionary keys are the lengths k of these feature subsets. The dictionary values are dictionaries themselves with the following keys: 'feature_idx' (tuple of indices of the feature subset) 'feature_names' (tuple of feature names of the feat. subset) 'cv_scores' (list individual cross-validation scores) 'avg_score' (average cross-validation score) Note that if pandas DataFrames are used in the fit method, the 'feature_names' correspond to the column names. Otherwise, the feature names are string representation of the feature array indices."
   ]
  }
 ],
 "metadata": {
  "colab": {
   "collapsed_sections": [
    "XmrI34z1w5JE"
   ],
   "name": "Lab1_CVfeatureSelectionCar-SFS.ipynb",
   "provenance": []
  },
  "kernelspec": {
   "display_name": "Python 3",
   "language": "python",
   "name": "python3"
  },
  "language_info": {
   "codemirror_mode": {
    "name": "ipython",
    "version": 3
   },
   "file_extension": ".py",
   "mimetype": "text/x-python",
   "name": "python",
   "nbconvert_exporter": "python",
   "pygments_lexer": "ipython3",
   "version": "3.7.4"
  }
 },
 "nbformat": 4,
 "nbformat_minor": 1
}
