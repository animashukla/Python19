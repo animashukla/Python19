{
 "cells": [
  {
   "cell_type": "code",
   "execution_count": 1,
   "metadata": {},
   "outputs": [
    {
     "name": "stdout",
     "output_type": "stream",
     "text": [
      "Train_data -> [50, 10, 20, 70, 50, 90, 60, 80, 20, 90]   Test_data -> [ 30  40 100]\n",
      "Train_data -> [70, 90, 50, 30, 50, 10, 60, 60, 50, 50]   Test_data -> [ 20  40  80 100]\n",
      "Train_data -> [50, 90, 20, 100, 50, 90, 50, 80, 10, 30]   Test_data -> [40 60 70]\n",
      "Train_data -> [60, 60, 70, 30, 30, 30, 90, 100, 60, 70]   Test_data -> [10 20 40 50 80]\n",
      "Train_data -> [10, 20, 10, 30, 60, 10, 40, 20, 70, 90]   Test_data -> [ 50  80 100]\n",
      "Train_data -> [90, 60, 20, 60, 50, 90, 30, 40, 30, 70]   Test_data -> [ 10  80 100]\n",
      "Train_data -> [80, 100, 50, 30, 20, 80, 40, 10, 70, 90]   Test_data -> [60]\n",
      "Train_data -> [30, 60, 50, 50, 100, 30, 60, 90, 60, 80]   Test_data -> [10 20 40 70]\n",
      "Train_data -> [10, 80, 10, 60, 100, 90, 70, 40, 80, 90]   Test_data -> [20 30 50]\n",
      "Train_data -> [90, 10, 50, 40, 80, 100, 70, 90, 10, 30]   Test_data -> [20 60]\n",
      "Train_data -> [10, 100, 20, 30, 20, 70, 40, 10, 70, 20]   Test_data -> [50 60 80 90]\n",
      "Train_data -> [50, 30, 60, 70, 100, 40, 80, 90, 80, 90]   Test_data -> [10 20]\n",
      "Train_data -> [10, 20, 30, 80, 90, 60, 30, 80, 50, 50]   Test_data -> [ 40  70 100]\n",
      "Train_data -> [40, 70, 90, 10, 40, 70, 10, 40, 30, 100]   Test_data -> [20 50 60 80]\n",
      "Train_data -> [20, 100, 40, 30, 50, 40, 10, 30, 10, 40]   Test_data -> [60 70 80 90]\n",
      "Train_data -> [80, 10, 90, 70, 70, 50, 70, 20, 80, 20]   Test_data -> [ 30  40  60 100]\n",
      "Train_data -> [20, 90, 90, 90, 40, 10, 20, 70, 80, 90]   Test_data -> [ 30  50  60 100]\n",
      "Train_data -> [20, 10, 90, 10, 60, 90, 60, 30, 90, 100]   Test_data -> [40 50 70 80]\n",
      "Train_data -> [30, 70, 40, 80, 20, 20, 90, 90, 90, 60]   Test_data -> [ 10  50 100]\n",
      "Train_data -> [90, 80, 50, 10, 10, 100, 30, 60, 100, 50]   Test_data -> [20 40 70]\n",
      "Train_data -> [90, 20, 70, 50, 60, 50, 50, 70, 10, 40]   Test_data -> [ 30  80 100]\n",
      "Train_data -> [100, 70, 100, 60, 90, 90, 40, 30, 100, 50]   Test_data -> [10 20 80]\n",
      "Train_data -> [80, 30, 70, 50, 30, 100, 80, 40, 10, 40]   Test_data -> [20 60 90]\n",
      "Train_data -> [90, 70, 20, 90, 40, 40, 10, 80, 10, 10]   Test_data -> [ 30  50  60 100]\n",
      "Train_data -> [40, 90, 50, 10, 40, 70, 70, 70, 10, 80]   Test_data -> [ 20  30  60 100]\n",
      "Train_data -> [60, 40, 100, 80, 50, 90, 50, 10, 70, 60]   Test_data -> [20 30]\n",
      "Train_data -> [70, 100, 20, 100, 60, 100, 30, 20, 80, 80]   Test_data -> [10 40 50 90]\n",
      "Train_data -> [10, 70, 90, 40, 50, 40, 50, 50, 70, 50]   Test_data -> [ 20  30  60  80 100]\n",
      "Train_data -> [20, 70, 100, 60, 10, 60, 50, 10, 90, 90]   Test_data -> [30 40 80]\n",
      "Train_data -> [10, 10, 100, 20, 30, 30, 30, 10, 20, 80]   Test_data -> [40 50 60 70 90]\n",
      "Train_data -> [40, 10, 50, 60, 20, 100, 100, 20, 60, 40]   Test_data -> [30 70 80 90]\n",
      "Train_data -> [70, 80, 40, 30, 30, 50, 40, 10, 100, 20]   Test_data -> [60 90]\n",
      "Train_data -> [100, 90, 100, 10, 20, 10, 40, 100, 30, 60]   Test_data -> [50 70 80]\n",
      "Train_data -> [10, 50, 60, 50, 10, 90, 90, 30, 40, 10]   Test_data -> [ 20  70  80 100]\n",
      "Train_data -> [100, 40, 40, 30, 50, 10, 80, 70, 50, 100]   Test_data -> [20 60 90]\n",
      "Train_data -> [30, 10, 10, 80, 100, 50, 60, 90, 10, 10]   Test_data -> [20 40 70]\n",
      "Train_data -> [30, 80, 20, 50, 50, 20, 70, 60, 80, 10]   Test_data -> [ 40  90 100]\n",
      "Train_data -> [20, 60, 100, 50, 70, 10, 20, 20, 100, 90]   Test_data -> [30 40 80]\n",
      "Train_data -> [90, 50, 40, 10, 60, 20, 50, 50, 40, 100]   Test_data -> [30 70 80]\n",
      "Train_data -> [30, 30, 10, 80, 30, 70, 90, 40, 90, 40]   Test_data -> [ 20  50  60 100]\n",
      "Train_data -> [40, 30, 40, 100, 90, 60, 70, 60, 30, 50]   Test_data -> [10 20 80]\n",
      "Train_data -> [20, 40, 30, 30, 10, 100, 70, 50, 90, 100]   Test_data -> [60 80]\n",
      "Train_data -> [80, 10, 20, 90, 40, 60, 100, 100, 60, 70]   Test_data -> [30 50]\n",
      "Train_data -> [90, 80, 80, 90, 70, 50, 60, 90, 20, 60]   Test_data -> [ 10  30  40 100]\n",
      "Train_data -> [100, 70, 10, 60, 80, 10, 10, 60, 10, 40]   Test_data -> [20 30 50 90]\n",
      "Train_data -> [50, 60, 40, 30, 60, 40, 30, 10, 70, 10]   Test_data -> [ 20  80  90 100]\n",
      "Train_data -> [70, 60, 90, 50, 10, 60, 50, 50, 100, 40]   Test_data -> [20 30 80]\n",
      "Train_data -> [90, 100, 100, 20, 30, 90, 60, 80, 80, 100]   Test_data -> [10 40 50 70]\n",
      "Train_data -> [10, 60, 10, 80, 100, 50, 90, 80, 30, 30]   Test_data -> [20 40 70]\n",
      "Train_data -> [60, 100, 100, 20, 10, 50, 90, 90, 20, 50]   Test_data -> [30 40 70 80]\n"
     ]
    }
   ],
   "source": [
    "from sklearn.utils import resample\n",
    "import numpy as np\n",
    "\n",
    "# load dataset\n",
    "data = [10,20,30,40,50,60,70,80,90,100]   # original data with 10 data points\n",
    "\n",
    "# configure bootstrap\n",
    "n_iterations = 50              # picking only 50 % of the given data in every bootstrap sample\n",
    "n_size = int(len(data) * 1)    # Number of bootstrap samples to create = 10\n",
    "\n",
    "# run bootstrap\n",
    "stats = list()\n",
    "for i in range(n_iterations):\n",
    "\t# prepare train and test sets\n",
    "\ttrain = resample(data, n_samples=n_size)  # Sampling with replacement \n",
    "\ttest = np.array([x for x in data if x not in train])  # picking rest of the data not considered in sample\n",
    "\tprint(\"Train_data ->\", train, \" \" , \"Test_data ->\", test)\n",
    "#test data left aside"
   ]
  },
  {
   "cell_type": "code",
   "execution_count": null,
   "metadata": {},
   "outputs": [],
   "source": [
    "from sklearn.ensemble import BaggingClassifier\n",
    "bgcl"
   ]
  },
  {
   "cell_type": "code",
   "execution_count": null,
   "metadata": {},
   "outputs": [],
   "source": []
  }
 ],
 "metadata": {
  "kernelspec": {
   "display_name": "Python 3",
   "language": "python",
   "name": "python3"
  },
  "language_info": {
   "codemirror_mode": {
    "name": "ipython",
    "version": 3
   },
   "file_extension": ".py",
   "mimetype": "text/x-python",
   "name": "python",
   "nbconvert_exporter": "python",
   "pygments_lexer": "ipython3",
   "version": "3.7.1"
  }
 },
 "nbformat": 4,
 "nbformat_minor": 2
}
