{
 "cells": [
  {
   "cell_type": "code",
   "execution_count": 1,
   "metadata": {
    "colab": {},
    "colab_type": "code",
    "id": "N0jA_ShkTfIW"
   },
   "outputs": [],
   "source": [
    "%matplotlib inline\n",
    "import numpy as np\n",
    "import pandas as pd\n",
    "from sklearn.utils import resample\n",
    "from sklearn.tree import DecisionTreeClassifier\n",
    "from sklearn.ensemble import RandomForestClassifier\n",
    "from sklearn.linear_model import LogisticRegression\n",
    "from sklearn.naive_bayes import GaussianNB\n",
    "from sklearn.preprocessing import StandardScaler\n",
    "from sklearn.neighbors import KNeighborsClassifier\n",
    "from sklearn import model_selection\n",
    "from sklearn import metrics\n",
    "from sklearn.decomposition import PCA\n",
    "from scipy.stats import zscore\n",
    "import matplotlib.pyplot as plt "
   ]
  },
  {
   "cell_type": "code",
   "execution_count": 4,
   "metadata": {
    "colab": {},
    "colab_type": "code",
    "id": "reYPLWJXTfIs"
   },
   "outputs": [],
   "source": [
    "colnames = ['preg', 'glu', 'bp', 'sft', 'ins', 'bmi', 'dpf', 'age', 'outcome']\n",
    "prima_df = pd.read_csv(\"pima-indians-diabetes.csv\",names=colnames)"
   ]
  },
  {
   "cell_type": "code",
   "execution_count": 5,
   "metadata": {
    "colab": {},
    "colab_type": "code",
    "id": "UHHqZTLYTfI5"
   },
   "outputs": [],
   "source": [
    "X=prima_df[['preg', 'glu', 'bp', 'sft', 'ins', 'bmi', 'dpf', 'age']]\n",
    "Y=prima_df['outcome']"
   ]
  },
  {
   "cell_type": "code",
   "execution_count": 6,
   "metadata": {
    "colab": {
     "base_uri": "https://localhost:8080/",
     "height": 34
    },
    "colab_type": "code",
    "executionInfo": {
     "elapsed": 810,
     "status": "ok",
     "timestamp": 1559122129818,
     "user": {
      "displayName": "Mahesh Anand",
      "photoUrl": "https://lh3.googleusercontent.com/-qzo_AFAl02k/AAAAAAAAAAI/AAAAAAAAABY/Ywj2vXZmRw4/s64/photo.jpg",
      "userId": "06788086636039591358"
     },
     "user_tz": -330
    },
    "id": "FyM-osn76yDs",
    "outputId": "d0c6041a-7cba-46c6-816f-9186fab0b175"
   },
   "outputs": [
    {
     "data": {
      "text/plain": [
       "pandas.core.frame.DataFrame"
      ]
     },
     "execution_count": 6,
     "metadata": {},
     "output_type": "execute_result"
    }
   ],
   "source": [
    "type(X)"
   ]
  },
  {
   "cell_type": "code",
   "execution_count": 7,
   "metadata": {
    "colab": {},
    "colab_type": "code",
    "id": "kEVvZIsZwiY_"
   },
   "outputs": [],
   "source": [
    "sc=StandardScaler()\n",
    "X=sc.fit_transform(X)"
   ]
  },
  {
   "cell_type": "code",
   "execution_count": 8,
   "metadata": {
    "colab": {
     "base_uri": "https://localhost:8080/",
     "height": 301
    },
    "colab_type": "code",
    "executionInfo": {
     "elapsed": 5497,
     "status": "ok",
     "timestamp": 1559113621214,
     "user": {
      "displayName": "Mahesh Anand",
      "photoUrl": "https://lh3.googleusercontent.com/-qzo_AFAl02k/AAAAAAAAAAI/AAAAAAAAABY/Ywj2vXZmRw4/s64/photo.jpg",
      "userId": "06788086636039591358"
     },
     "user_tz": -330
    },
    "id": "FsZLALhoZMm8",
    "outputId": "f810bd9d-0a4c-4292-8fd7-9f464eb52d93"
   },
   "outputs": [
    {
     "name": "stderr",
     "output_type": "stream",
     "text": [
      "C:\\Users\\hp\\Anaconda3\\lib\\site-packages\\sklearn\\model_selection\\_search.py:814: DeprecationWarning: The default of the `iid` parameter will change from True to False in version 0.22 and will be removed in 0.24. This will change numeric results when test-set sizes are unequal.\n",
      "  DeprecationWarning)\n"
     ]
    },
    {
     "data": {
      "text/plain": [
       "GridSearchCV(cv=5, error_score='raise-deprecating',\n",
       "             estimator=KNeighborsClassifier(algorithm='auto', leaf_size=30,\n",
       "                                            metric='minkowski',\n",
       "                                            metric_params=None, n_jobs=None,\n",
       "                                            n_neighbors=5, p=2,\n",
       "                                            weights='uniform'),\n",
       "             iid='warn', n_jobs=None,\n",
       "             param_grid={'n_neighbors': array([ 1,  2,  3,  4,  5,  6,  7,  8,  9, 10, 11, 12, 13, 14, 15, 16, 17,\n",
       "       18, 19, 20, 21, 22, 23, 24, 25, 26, 27, 28, 29, 30, 31, 32, 33, 34,\n",
       "       35, 36, 37, 38, 39, 40, 41, 42, 43, 44, 45, 46, 47, 48, 49]),\n",
       "                         'weights': ['uniform', 'distance']},\n",
       "             pre_dispatch='2*n_jobs', refit=True, return_train_score=False,\n",
       "             scoring='recall', verbose=0)"
      ]
     },
     "execution_count": 8,
     "metadata": {},
     "output_type": "execute_result"
    }
   ],
   "source": [
    "from sklearn.model_selection import GridSearchCV\n",
    "knn=KNeighborsClassifier()\n",
    "param={'n_neighbors':np.arange(1,50),'weights':['uniform','distance']}\n",
    "GS=GridSearchCV(knn,param,cv=5,scoring='recall')\n",
    "GS.fit(X,Y)"
   ]
  },
  {
   "cell_type": "code",
   "execution_count": 9,
   "metadata": {
    "colab": {
     "base_uri": "https://localhost:8080/",
     "height": 294
    },
    "colab_type": "code",
    "executionInfo": {
     "elapsed": 3674,
     "status": "ok",
     "timestamp": 1559125057061,
     "user": {
      "displayName": "Mahesh Anand",
      "photoUrl": "https://lh3.googleusercontent.com/-qzo_AFAl02k/AAAAAAAAAAI/AAAAAAAAABY/Ywj2vXZmRw4/s64/photo.jpg",
      "userId": "06788086636039591358"
     },
     "user_tz": -330
    },
    "id": "YUvtjCR4aRBQ",
    "outputId": "674f5232-c477-4011-dabe-451d5bcaa51d"
   },
   "outputs": [
    {
     "ename": "NameError",
     "evalue": "name 'NB_bag' is not defined",
     "output_type": "error",
     "traceback": [
      "\u001b[1;31m---------------------------------------------------------------------------\u001b[0m",
      "\u001b[1;31mNameError\u001b[0m                                 Traceback (most recent call last)",
      "\u001b[1;32m<ipython-input-9-947652dcea1b>\u001b[0m in \u001b[0;36m<module>\u001b[1;34m\u001b[0m\n\u001b[0;32m      2\u001b[0m \u001b[0mkf\u001b[0m\u001b[1;33m=\u001b[0m\u001b[0mKFold\u001b[0m\u001b[1;33m(\u001b[0m\u001b[0mn_splits\u001b[0m\u001b[1;33m=\u001b[0m\u001b[1;36m5\u001b[0m\u001b[1;33m,\u001b[0m\u001b[0mshuffle\u001b[0m\u001b[1;33m=\u001b[0m\u001b[1;32mTrue\u001b[0m\u001b[1;33m,\u001b[0m\u001b[0mrandom_state\u001b[0m\u001b[1;33m=\u001b[0m\u001b[1;36m0\u001b[0m\u001b[1;33m)\u001b[0m\u001b[1;33m\u001b[0m\u001b[1;33m\u001b[0m\u001b[0m\n\u001b[0;32m      3\u001b[0m \u001b[0mparam2\u001b[0m\u001b[1;33m=\u001b[0m\u001b[1;33m{\u001b[0m\u001b[1;34m'n_estimators'\u001b[0m\u001b[1;33m:\u001b[0m\u001b[0mnp\u001b[0m\u001b[1;33m.\u001b[0m\u001b[0marange\u001b[0m\u001b[1;33m(\u001b[0m\u001b[1;36m1\u001b[0m\u001b[1;33m,\u001b[0m\u001b[1;36m25\u001b[0m\u001b[1;33m)\u001b[0m\u001b[1;33m}\u001b[0m\u001b[1;33m\u001b[0m\u001b[1;33m\u001b[0m\u001b[0m\n\u001b[1;32m----> 4\u001b[1;33m \u001b[0mGS2\u001b[0m\u001b[1;33m=\u001b[0m\u001b[0mGridSearchCV\u001b[0m\u001b[1;33m(\u001b[0m\u001b[0mNB_bag\u001b[0m\u001b[1;33m,\u001b[0m\u001b[0mparam2\u001b[0m\u001b[1;33m,\u001b[0m\u001b[0mcv\u001b[0m\u001b[1;33m=\u001b[0m\u001b[0mkf\u001b[0m\u001b[1;33m,\u001b[0m\u001b[0mscoring\u001b[0m\u001b[1;33m=\u001b[0m\u001b[1;34m'roc_auc'\u001b[0m\u001b[1;33m)\u001b[0m\u001b[1;33m\u001b[0m\u001b[1;33m\u001b[0m\u001b[0m\n\u001b[0m\u001b[0;32m      5\u001b[0m \u001b[0mGS2\u001b[0m\u001b[1;33m.\u001b[0m\u001b[0mfit\u001b[0m\u001b[1;33m(\u001b[0m\u001b[0mX\u001b[0m\u001b[1;33m,\u001b[0m\u001b[0mY\u001b[0m\u001b[1;33m)\u001b[0m\u001b[1;33m\u001b[0m\u001b[1;33m\u001b[0m\u001b[0m\n",
      "\u001b[1;31mNameError\u001b[0m: name 'NB_bag' is not defined"
     ]
    }
   ],
   "source": [
    "from sklearn.model_selection import KFold\n",
    "kf=KFold(n_splits=5,shuffle=True,random_state=0)\n",
    "param2={'n_estimators':np.arange(1,25)}\n",
    "GS2=GridSearchCV(NB_bag,param2,cv=kf,scoring='roc_auc')\n",
    "GS2.fit(X,Y)"
   ]
  },
  {
   "cell_type": "code",
   "execution_count": 10,
   "metadata": {
    "colab": {
     "base_uri": "https://localhost:8080/",
     "height": 34
    },
    "colab_type": "code",
    "executionInfo": {
     "elapsed": 823,
     "status": "ok",
     "timestamp": 1559125076159,
     "user": {
      "displayName": "Mahesh Anand",
      "photoUrl": "https://lh3.googleusercontent.com/-qzo_AFAl02k/AAAAAAAAAAI/AAAAAAAAABY/Ywj2vXZmRw4/s64/photo.jpg",
      "userId": "06788086636039591358"
     },
     "user_tz": -330
    },
    "id": "tCwEDm-OGHWD",
    "outputId": "3d2bbae9-8ae6-4e43-fb6b-1ee79cb9a835"
   },
   "outputs": [
    {
     "ename": "NameError",
     "evalue": "name 'GS2' is not defined",
     "output_type": "error",
     "traceback": [
      "\u001b[1;31m---------------------------------------------------------------------------\u001b[0m",
      "\u001b[1;31mNameError\u001b[0m                                 Traceback (most recent call last)",
      "\u001b[1;32m<ipython-input-10-b81f3a872bfc>\u001b[0m in \u001b[0;36m<module>\u001b[1;34m\u001b[0m\n\u001b[1;32m----> 1\u001b[1;33m \u001b[0mGS2\u001b[0m\u001b[1;33m.\u001b[0m\u001b[0mbest_params_\u001b[0m\u001b[1;33m\u001b[0m\u001b[1;33m\u001b[0m\u001b[0m\n\u001b[0m",
      "\u001b[1;31mNameError\u001b[0m: name 'GS2' is not defined"
     ]
    }
   ],
   "source": [
    "GS2.best_params_"
   ]
  },
  {
   "cell_type": "code",
   "execution_count": 11,
   "metadata": {
    "colab": {},
    "colab_type": "code",
    "id": "4Em9uJOiixNO"
   },
   "outputs": [],
   "source": [
    "LR=LogisticRegression()\n",
    "NB=GaussianNB()\n",
    "#update and redifine your knn model\n",
    "KNN=KNeighborsClassifier(n_neighbors=12, weights='distance')"
   ]
  },
  {
   "cell_type": "code",
   "execution_count": 15,
   "metadata": {
    "colab": {},
    "colab_type": "code",
    "id": "SPl6xYAjZMsM"
   },
   "outputs": [],
   "source": [
    "from sklearn.ensemble import BaggingClassifier\n",
    "from sklearn.ensemble import AdaBoostClassifier\n",
    "from sklearn.ensemble import GradientBoostingClassifier\n",
    "from sklearn.ensemble import VotingClassifier\n",
    "LR_bag=BaggingClassifier(base_estimator=LR,n_estimators=25,random_state=0)\n",
    "NB_bag=BaggingClassifier(base_estimator=NB,n_estimators=24,random_state=0)\n",
    "KNN_bag=BaggingClassifier(base_estimator=KNN,n_estimators=80,random_state=0)\n",
    "DT_reg=DecisionTreeClassifier(max_depth=4,criterion='entropy',random_state=0)\n",
    "DT_bag=BaggingClassifier(n_estimators=10,random_state=0)\n",
    "RF=RandomForestClassifier(n_estimators=130,criterion='entropy',random_state=0)\n",
    "#Boosting models\n",
    "LR_boost=AdaBoostClassifier(base_estimator=LR,n_estimators=170)\n",
    "NB_boost=AdaBoostClassifier(base_estimator=NB,n_estimators=350)\n",
    "RF_boost=AdaBoostClassifier(base_estimator=RF,n_estimators=100)\n",
    "DT_boost=AdaBoostClassifier(n_estimators=100)\n",
    "GB_boost=GradientBoostingClassifier(n_estimators=100)\n",
    "#Stacked Model\n",
    "stacked = VotingClassifier(estimators = [('Bagged_LR',LR_bag),('BoostedRF', RF_boost), ('GBoost', GB_boost)],voting='soft')"
   ]
  },
  {
   "cell_type": "code",
   "execution_count": 16,
   "metadata": {
    "colab": {},
    "colab_type": "code",
    "id": "lOJptu1BTfKt"
   },
   "outputs": [],
   "source": [
    "import warnings\n",
    "warnings.filterwarnings(\"ignore\", category=FutureWarning)"
   ]
  },
  {
   "cell_type": "code",
   "execution_count": 17,
   "metadata": {
    "colab": {},
    "colab_type": "code",
    "id": "5f9W2rdrTfK4",
    "outputId": "e5f1b8a0-0e9c-49ae-b7ca-019038aa044a"
   },
   "outputs": [
    {
     "ename": "NameError",
     "evalue": "name 'boost_LR' is not defined",
     "output_type": "error",
     "traceback": [
      "\u001b[1;31m---------------------------------------------------------------------------\u001b[0m",
      "\u001b[1;31mNameError\u001b[0m                                 Traceback (most recent call last)",
      "\u001b[1;32m<ipython-input-17-312657114fa1>\u001b[0m in \u001b[0;36m<module>\u001b[1;34m\u001b[0m\n\u001b[0;32m      1\u001b[0m \u001b[1;32mfrom\u001b[0m \u001b[0msklearn\u001b[0m\u001b[1;33m.\u001b[0m\u001b[0mmodel_selection\u001b[0m \u001b[1;32mimport\u001b[0m \u001b[0mKFold\u001b[0m\u001b[1;33m\u001b[0m\u001b[1;33m\u001b[0m\u001b[0m\n\u001b[0;32m      2\u001b[0m \u001b[0mkf\u001b[0m\u001b[1;33m=\u001b[0m\u001b[0mKFold\u001b[0m\u001b[1;33m(\u001b[0m\u001b[0mn_splits\u001b[0m\u001b[1;33m=\u001b[0m\u001b[1;36m5\u001b[0m\u001b[1;33m,\u001b[0m\u001b[0mshuffle\u001b[0m\u001b[1;33m=\u001b[0m\u001b[1;32mTrue\u001b[0m\u001b[1;33m,\u001b[0m\u001b[0mrandom_state\u001b[0m\u001b[1;33m=\u001b[0m\u001b[1;36m2\u001b[0m\u001b[1;33m)\u001b[0m\u001b[1;33m\u001b[0m\u001b[1;33m\u001b[0m\u001b[0m\n\u001b[1;32m----> 3\u001b[1;33m \u001b[1;32mfor\u001b[0m \u001b[0mmodel\u001b[0m\u001b[1;33m,\u001b[0m \u001b[0mname\u001b[0m \u001b[1;32min\u001b[0m \u001b[0mzip\u001b[0m\u001b[1;33m(\u001b[0m\u001b[1;33m[\u001b[0m\u001b[0mboost_LR\u001b[0m\u001b[1;33m,\u001b[0m\u001b[0mbase_rf\u001b[0m\u001b[1;33m,\u001b[0m\u001b[0mboost_dt\u001b[0m\u001b[1;33m,\u001b[0m\u001b[0mgb_model\u001b[0m\u001b[1;33m,\u001b[0m\u001b[0mstacked\u001b[0m\u001b[1;33m]\u001b[0m\u001b[1;33m,\u001b[0m \u001b[1;33m[\u001b[0m\u001b[1;34m'BoostLR'\u001b[0m\u001b[1;33m,\u001b[0m\u001b[1;34m'RF'\u001b[0m\u001b[1;33m,\u001b[0m\u001b[1;34m'BoostedDT'\u001b[0m\u001b[1;33m,\u001b[0m\u001b[1;34m'GradientBoost'\u001b[0m\u001b[1;33m,\u001b[0m\u001b[1;34m'stacked'\u001b[0m\u001b[1;33m]\u001b[0m\u001b[1;33m)\u001b[0m\u001b[1;33m:\u001b[0m\u001b[1;33m\u001b[0m\u001b[1;33m\u001b[0m\u001b[0m\n\u001b[0m\u001b[0;32m      4\u001b[0m     \u001b[0mk\u001b[0m\u001b[1;33m=\u001b[0m\u001b[1;36m0\u001b[0m\u001b[1;33m\u001b[0m\u001b[1;33m\u001b[0m\u001b[0m\n\u001b[0;32m      5\u001b[0m     \u001b[0mrecall\u001b[0m\u001b[1;33m=\u001b[0m\u001b[0mnp\u001b[0m\u001b[1;33m.\u001b[0m\u001b[0mzeros\u001b[0m\u001b[1;33m(\u001b[0m\u001b[1;33m(\u001b[0m\u001b[1;36m2\u001b[0m\u001b[1;33m,\u001b[0m\u001b[1;36m5\u001b[0m\u001b[1;33m)\u001b[0m\u001b[1;33m)\u001b[0m\u001b[1;33m\u001b[0m\u001b[1;33m\u001b[0m\u001b[0m\n",
      "\u001b[1;31mNameError\u001b[0m: name 'boost_LR' is not defined"
     ]
    }
   ],
   "source": [
    "from sklearn.model_selection import KFold\n",
    "kf=KFold(n_splits=5,shuffle=True,random_state=2)\n",
    "for model, name in zip([boost_LR,base_rf,boost_dt,gb_model,stacked], ['BoostLR','RF','BoostedDT','GradientBoost','stacked']):\n",
    "    k=0\n",
    "    recall=np.zeros((2,5))\n",
    "    prec=np.zeros((2,5))\n",
    "    fscore=np.zeros((2,5))\n",
    "    for train,test in kf.split(X,Y):\n",
    "        Xtrain,Xtest=X[train,:],X[test,:]\n",
    "        Ytrain,Ytest=Y[train],Y[test]\n",
    "        model.fit(Xtrain,Ytrain)\n",
    "        Y_predict=model.predict(Xtest)\n",
    "        cm=metrics.confusion_matrix(Ytest,Y_predict)\n",
    "        for i in np.arange(0,2):\n",
    "            recall[i,k]=cm[i,i]/cm[i,:].sum()\n",
    "        for i in np.arange(0,2):\n",
    "            prec[i,k]=cm[i,i]/cm[:,i].sum()\n",
    "        k=k+1\n",
    "    for row in np.arange(0,2):\n",
    "        for col in np.arange(0,5):\n",
    "            fscore[row,col]=2*(recall[row,col]*prec[row,col])/(recall[row,col]+prec[row,col])\n",
    "    print(\"f1_weighted for Healthy: %0.02f (+/- %0.5f) [%s]\" % (np.mean(fscore[0,:]), np.var(fscore[0,:],ddof=1), name ))   \n",
    "    print(\"f1_weighted for Diabetic: %0.02f (+/- %0.5f) [%s]\" % (np.mean(fscore[1,:]), np.var(fscore[1,:],ddof=1), name ))   \n",
    "    "
   ]
  },
  {
   "cell_type": "code",
   "execution_count": null,
   "metadata": {
    "colab": {
     "base_uri": "https://localhost:8080/",
     "height": 211
    },
    "colab_type": "code",
    "executionInfo": {
     "elapsed": 8717,
     "status": "ok",
     "timestamp": 1559205850697,
     "user": {
      "displayName": "Mahesh Anand",
      "photoUrl": "https://lh3.googleusercontent.com/-qzo_AFAl02k/AAAAAAAAAAI/AAAAAAAAABY/Ywj2vXZmRw4/s64/photo.jpg",
      "userId": "06788086636039591358"
     },
     "user_tz": -330
    },
    "id": "IhcO--lkTfLF",
    "outputId": "2e4a730e-7699-4b9b-ec72-d2339207ec18"
   },
   "outputs": [],
   "source": [
    "from sklearn.model_selection import KFold\n",
    "from sklearn.metrics import roc_curve, auc\n",
    "kf=KFold(n_splits=5,shuffle=True,random_state=0)\n",
    "for model, name in zip([LR,LR_bag,NB,NB_bag,KNN,KNN_bag,DT_reg,DT_bag,RF,RF_boost,stacked], \n",
    "      ['LR','BaggedLR','NB','BaggedNB','KNN','BaggedKNN','DT_Reg','BaggedDT','RF','RF_boost','Stacked']):\n",
    "    roc_auc=[]\n",
    "    for train,test in kf.split(X,Y):\n",
    "        Xtrain,Xtest=X.iloc[train,:],X.iloc[test,:]\n",
    "        Ytrain,Ytest=Y.iloc[train],Y.iloc[test]\n",
    "        model.fit(Xtrain,Ytrain)\n",
    "        Y_predict=model.predict(Xtest)\n",
    "        #cm=metrics.confusion_matrix(Ytest,Y_predict)\n",
    "        fpr,tpr, _ = roc_curve(Ytest,Y_predict)\n",
    "        roc_auc.append(auc(fpr, tpr))\n",
    "    print(\"AUC scores: %0.02f (+/- %0.5f) [%s]\" % (np.mean(roc_auc),\n",
    "                                    np.var(roc_auc,ddof=1), name ))   \n",
    "    "
   ]
  },
  {
   "cell_type": "code",
   "execution_count": null,
   "metadata": {
    "colab": {},
    "colab_type": "code",
    "id": "C9vz44gSoHxo"
   },
   "outputs": [],
   "source": [
    "import warnings\n",
    "warnings.filterwarnings(\"ignore\", category=FutureWarning)"
   ]
  },
  {
   "cell_type": "code",
   "execution_count": null,
   "metadata": {
    "colab": {
     "base_uri": "https://localhost:8080/",
     "height": 175
    },
    "colab_type": "code",
    "executionInfo": {
     "elapsed": 12527,
     "status": "ok",
     "timestamp": 1559206271495,
     "user": {
      "displayName": "Mahesh Anand",
      "photoUrl": "https://lh3.googleusercontent.com/-qzo_AFAl02k/AAAAAAAAAAI/AAAAAAAAABY/Ywj2vXZmRw4/s64/photo.jpg",
      "userId": "06788086636039591358"
     },
     "user_tz": -330
    },
    "id": "tthzzi63m1v1",
    "outputId": "2ceef03d-83ec-4b71-d909-54d06fa58870"
   },
   "outputs": [],
   "source": [
    "from sklearn.model_selection import KFold\n",
    "from sklearn.metrics import roc_curve, auc\n",
    "kf=KFold(n_splits=5,shuffle=True,random_state=0)\n",
    "for model, name in zip([LR,LR_boost,NB,NB_boost,DT_boost,RF,RF_boost,GB_boost,stacked], \n",
    "      ['LR','BoostedLR','NB','BoostedNB','BoostedDT','RF','BoostedRF','GradientBoost','stacked']):\n",
    "    roc_auc=[]\n",
    "    for train,test in kf.split(X,Y):\n",
    "        Xtrain,Xtest=X.iloc[train,:],X.iloc[test,:]\n",
    "        Ytrain,Ytest=Y.iloc[train],Y.iloc[test]\n",
    "        model.fit(Xtrain,Ytrain)\n",
    "        Y_predict=model.predict(Xtest)\n",
    "        #cm=metrics.confusion_matrix(Ytest,Y_predict)\n",
    "        fpr,tpr, _ = roc_curve(Ytest,Y_predict)\n",
    "        roc_auc.append(auc(fpr, tpr))\n",
    "    print(\"AUC scores: %0.02f (+/- %0.5f) [%s]\" % (np.mean(roc_auc),\n",
    "                                    np.var(roc_auc,ddof=1), name ))   \n",
    "    "
   ]
  },
  {
   "cell_type": "code",
   "execution_count": null,
   "metadata": {
    "colab": {
     "base_uri": "https://localhost:8080/",
     "height": 34
    },
    "colab_type": "code",
    "executionInfo": {
     "elapsed": 1177,
     "status": "ok",
     "timestamp": 1559122965051,
     "user": {
      "displayName": "Mahesh Anand",
      "photoUrl": "https://lh3.googleusercontent.com/-qzo_AFAl02k/AAAAAAAAAAI/AAAAAAAAABY/Ywj2vXZmRw4/s64/photo.jpg",
      "userId": "06788086636039591358"
     },
     "user_tz": -330
    },
    "id": "ck32BvipTfLT",
    "outputId": "f405a1ee-c0ad-4843-803b-fb87af659eef"
   },
   "outputs": [],
   "source": [
    "\n",
    "(0.72-0.71)/0.72\n"
   ]
  },
  {
   "cell_type": "code",
   "execution_count": null,
   "metadata": {
    "colab": {
     "base_uri": "https://localhost:8080/",
     "height": 34
    },
    "colab_type": "code",
    "executionInfo": {
     "elapsed": 1173,
     "status": "ok",
     "timestamp": 1559123010072,
     "user": {
      "displayName": "Mahesh Anand",
      "photoUrl": "https://lh3.googleusercontent.com/-qzo_AFAl02k/AAAAAAAAAAI/AAAAAAAAABY/Ywj2vXZmRw4/s64/photo.jpg",
      "userId": "06788086636039591358"
     },
     "user_tz": -330
    },
    "id": "Jkboh4yMTfLi",
    "outputId": "3a4d02f3-2841-4756-c305-35c06be79ec0"
   },
   "outputs": [],
   "source": [
    "(0.00088-0.00073)/0.00088"
   ]
  },
  {
   "cell_type": "code",
   "execution_count": null,
   "metadata": {
    "colab": {},
    "colab_type": "code",
    "id": "TBvF89tXTfLv"
   },
   "outputs": [],
   "source": []
  }
 ],
 "metadata": {
  "colab": {
   "collapsed_sections": [],
   "name": "Bagging_Boosting_models_for_Diabetes_data_with_AUC_metric.ipynb",
   "provenance": [],
   "version": "0.3.2"
  },
  "kernelspec": {
   "display_name": "Python 3",
   "language": "python",
   "name": "python3"
  },
  "language_info": {
   "codemirror_mode": {
    "name": "ipython",
    "version": 3
   },
   "file_extension": ".py",
   "mimetype": "text/x-python",
   "name": "python",
   "nbconvert_exporter": "python",
   "pygments_lexer": "ipython3",
   "version": "3.7.4"
  }
 },
 "nbformat": 4,
 "nbformat_minor": 1
}
