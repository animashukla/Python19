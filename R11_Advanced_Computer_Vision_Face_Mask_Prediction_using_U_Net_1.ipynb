{
  "nbformat": 4,
  "nbformat_minor": 0,
  "metadata": {
    "accelerator": "GPU",
    "colab": {
      "name": "R11_Advanced Computer Vision - Face Mask Prediction using U-Net-1.ipynb",
      "provenance": [],
      "collapsed_sections": []
    },
    "kernelspec": {
      "display_name": "Python 3",
      "language": "python",
      "name": "python3"
    },
    "language_info": {
      "codemirror_mode": {
        "name": "ipython",
        "version": 3
      },
      "file_extension": ".py",
      "mimetype": "text/x-python",
      "name": "python",
      "nbconvert_exporter": "python",
      "pygments_lexer": "ipython3",
      "version": "3.7.4"
    }
  },
  "cells": [
    {
      "cell_type": "markdown",
      "metadata": {
        "id": "q24VEuL2PbvT"
      },
      "source": [
        "![alt text](https://drive.google.com/uc?export=view&id=1UXScsVx_Wni_JuDdB8LeTnM6jsPfIwkW)\n",
        "\n",
        "Proprietary content. © Great Learning. All Rights Reserved. Unauthorized use or distribution prohibited."
      ]
    },
    {
      "cell_type": "markdown",
      "metadata": {
        "id": "NgR0j5310qqC"
      },
      "source": [
        "# Face Mask Prediction using U-Net\n",
        "Task is to predict the mask around the face in a given image."
      ]
    },
    {
      "cell_type": "markdown",
      "metadata": {
        "id": "VvWl3ebqzCc1"
      },
      "source": [
        "# Instructions\n",
        "- Some part of the code is already done for you\n",
        "- You need to execute all the cells\n",
        "- You need to add the code where ever you see `\"#### Add your code here ####\"`\n",
        "- Marks are mentioned along with the cells"
      ]
    },
    {
      "cell_type": "markdown",
      "metadata": {
        "id": "Aa0jyJzw091I"
      },
      "source": [
        "## Dataset\n",
        "Faces in images marked with bounding boxes. Have around 409 images with around 1000 faces manually tagged via bounding box.\n",
        "- Data file name: images.npy"
      ]
    },
    {
      "cell_type": "markdown",
      "metadata": {
        "id": "CjRTlPkp1LC2"
      },
      "source": [
        "### Mount Google drive if you are using google colab\n",
        "- We recommend using Google Colab as you can face memory issues and longer runtimes while running on local"
      ]
    },
    {
      "cell_type": "code",
      "metadata": {
        "id": "sBWMoTJ9cf3Z"
      },
      "source": [
        "#### Add your code here ####\r\n",
        "import csv\r\n",
        "import math\r\n",
        "import cv2\r\n",
        "from google.colab import drive\r\n",
        "import os\r\n",
        "import datetime\r\n",
        "\r\n",
        "import numpy as np\r\n",
        "import tensorflow as tf\r\n",
        "from PIL import Image\r\n",
        "from tensorflow.keras import Model\r\n",
        "from tensorflow.keras.applications.mobilenet import MobileNet, preprocess_input\r\n",
        "from tensorflow.keras.callbacks import ModelCheckpoint, EarlyStopping, ReduceLROnPlateau\r\n",
        "from tensorflow.keras.layers import Concatenate, Conv2D, UpSampling2D, Reshape\r\n",
        "from tensorflow.keras.utils import Sequence\r\n",
        "from tensorflow.keras.optimizers import Adam\r\n",
        "from tensorflow.keras.losses import binary_crossentropy"
      ],
      "execution_count": 11,
      "outputs": []
    },
    {
      "cell_type": "code",
      "metadata": {
        "colab": {
          "base_uri": "https://localhost:8080/"
        },
        "id": "V_kUOSld-H2c",
        "outputId": "ba84b2b2-45c7-4b93-b214-91e5067036db"
      },
      "source": [
        "drive.mount('/content/drive')"
      ],
      "execution_count": 3,
      "outputs": [
        {
          "output_type": "stream",
          "text": [
            "Mounted at /content/drive\n"
          ],
          "name": "stdout"
        }
      ]
    },
    {
      "cell_type": "code",
      "metadata": {
        "colab": {
          "base_uri": "https://localhost:8080/",
          "height": 35
        },
        "id": "nbMjIldp-Hzu",
        "outputId": "06f7c66f-2725-4572-fbf6-2225f0518263"
      },
      "source": [
        "os.getcwd()"
      ],
      "execution_count": 6,
      "outputs": [
        {
          "output_type": "execute_result",
          "data": {
            "application/vnd.google.colaboratory.intrinsic+json": {
              "type": "string"
            },
            "text/plain": [
              "'/content'"
            ]
          },
          "metadata": {
            "tags": []
          },
          "execution_count": 6
        }
      ]
    },
    {
      "cell_type": "code",
      "metadata": {
        "id": "j5qgWWG4KcUD"
      },
      "source": [
        "os.chdir('/content/drive/MyDrive/ACC/')"
      ],
      "execution_count": 7,
      "outputs": []
    },
    {
      "cell_type": "code",
      "metadata": {
        "colab": {
          "base_uri": "https://localhost:8080/",
          "height": 35
        },
        "id": "oRWffWFMKcQk",
        "outputId": "80e6b7f2-5dd3-4a2e-a3a6-6f36b3ad022b"
      },
      "source": [
        "os.getcwd()"
      ],
      "execution_count": 8,
      "outputs": [
        {
          "output_type": "execute_result",
          "data": {
            "application/vnd.google.colaboratory.intrinsic+json": {
              "type": "string"
            },
            "text/plain": [
              "'/content/drive/MyDrive/ACC'"
            ]
          },
          "metadata": {
            "tags": []
          },
          "execution_count": 8
        }
      ]
    },
    {
      "cell_type": "markdown",
      "metadata": {
        "id": "3srplE-FEpKa"
      },
      "source": [
        "### Load the \"images.npy\" file (2 marks)\n",
        "- This file contains images with details of bounding boxes"
      ]
    },
    {
      "cell_type": "code",
      "metadata": {
        "id": "EFols5YsKcM8"
      },
      "source": [
        "data = np.load('images.npy', allow_pickle=True)"
      ],
      "execution_count": 9,
      "outputs": []
    },
    {
      "cell_type": "markdown",
      "metadata": {
        "id": "_SMP8zliFT7R"
      },
      "source": [
        "### Check one sample from the loaded \"images.npy\" file  (2 marks)\n",
        "- Hint: print data[10][1] "
      ]
    },
    {
      "cell_type": "code",
      "metadata": {
        "id": "MqFE_tZDf0sM",
        "colab": {
          "base_uri": "https://localhost:8080/"
        },
        "outputId": "818fb532-79dd-4128-e052-937d0bc03008"
      },
      "source": [
        "for key in data:\r\n",
        "    print (key)\r\n",
        "    print (data[10][1])\r\n",
        "    break"
      ],
      "execution_count": 10,
      "outputs": [
        {
          "output_type": "stream",
          "text": [
            "[array([[[42, 37, 34],\n",
            "        [56, 51, 48],\n",
            "        [71, 66, 63],\n",
            "        ...,\n",
            "        [23, 33, 34],\n",
            "        [26, 36, 37],\n",
            "        [28, 38, 39]],\n",
            "\n",
            "       [[40, 35, 32],\n",
            "        [51, 46, 43],\n",
            "        [64, 59, 56],\n",
            "        ...,\n",
            "        [27, 36, 35],\n",
            "        [24, 33, 32],\n",
            "        [26, 35, 34]],\n",
            "\n",
            "       [[43, 38, 35],\n",
            "        [51, 46, 43],\n",
            "        [61, 56, 53],\n",
            "        ...,\n",
            "        [28, 30, 27],\n",
            "        [33, 35, 32],\n",
            "        [35, 37, 34]],\n",
            "\n",
            "       ...,\n",
            "\n",
            "       [[56, 47, 40],\n",
            "        [57, 48, 41],\n",
            "        [61, 52, 45],\n",
            "        ...,\n",
            "        [67, 48, 42],\n",
            "        [55, 35, 28],\n",
            "        [60, 40, 33]],\n",
            "\n",
            "       [[53, 44, 37],\n",
            "        [54, 45, 38],\n",
            "        [57, 48, 41],\n",
            "        ...,\n",
            "        [59, 40, 34],\n",
            "        [60, 40, 33],\n",
            "        [54, 34, 27]],\n",
            "\n",
            "       [[53, 44, 37],\n",
            "        [54, 45, 38],\n",
            "        [57, 48, 41],\n",
            "        ...,\n",
            "        [59, 40, 34],\n",
            "        [70, 50, 43],\n",
            "        [64, 44, 37]]], dtype=uint8)\n",
            " list([{'label': ['Face'], 'notes': '', 'points': [{'x': 0.08615384615384615, 'y': 0.3063063063063063}, {'x': 0.1723076923076923, 'y': 0.45345345345345345}], 'imageWidth': 650, 'imageHeight': 333}, {'label': ['Face'], 'notes': '', 'points': [{'x': 0.583076923076923, 'y': 0.2912912912912913}, {'x': 0.6584615384615384, 'y': 0.46846846846846846}], 'imageWidth': 650, 'imageHeight': 333}])]\n",
            "[{'label': ['Face'], 'notes': '', 'points': [{'x': 0.48, 'y': 0.10385756676557864}, {'x': 0.7716666666666666, 'y': 0.6795252225519288}], 'imageWidth': 600, 'imageHeight': 337}]\n"
          ],
          "name": "stdout"
        }
      ]
    },
    {
      "cell_type": "markdown",
      "metadata": {
        "id": "m94G4p3CE5Cj"
      },
      "source": [
        "### Set image dimensions   (1 mark)\n",
        "- Initialize image height, image width with value: 224 "
      ]
    },
    {
      "cell_type": "code",
      "metadata": {
        "id": "kuZmtOASevDo"
      },
      "source": [
        "#### Add your code here ####\r\n",
        "IMAGE_HEIGHT = 224\r\n",
        "IMAGE_WIDTH = 224"
      ],
      "execution_count": 12,
      "outputs": []
    },
    {
      "cell_type": "markdown",
      "metadata": {
        "id": "wY6FEsCjG47s"
      },
      "source": [
        "### Create features and labels\n",
        "- Here feature is the image\n",
        "- The label is the mask\n",
        "- Images will be stored in \"X\" array\n",
        "- Masks will be stored in \"masks\" array"
      ]
    },
    {
      "cell_type": "code",
      "metadata": {
        "id": "XjCT9EVTgAvr"
      },
      "source": [
        "import cv2\n",
        "from tensorflow.keras.applications.mobilenet import preprocess_input\n",
        "\n",
        "masks = np.zeros((int(data.shape[0]), IMAGE_HEIGHT, IMAGE_WIDTH))\n",
        "X = np.zeros((int(data.shape[0]), IMAGE_HEIGHT, IMAGE_WIDTH, 3))\n",
        "for index in range(data.shape[0]):\n",
        "    img = data[index][0]\n",
        "    img = cv2.resize(img, dsize=(IMAGE_HEIGHT, IMAGE_WIDTH), interpolation=cv2.INTER_CUBIC)\n",
        "    try:\n",
        "      img = img[:, :, :3]\n",
        "    except:\n",
        "      continue\n",
        "    X[index] = preprocess_input(np.array(img, dtype=np.float32))\n",
        "    for i in data[index][1]:\n",
        "        x1 = int(i[\"points\"][0]['x'] * IMAGE_WIDTH)\n",
        "        x2 = int(i[\"points\"][1]['x'] * IMAGE_WIDTH)\n",
        "        y1 = int(i[\"points\"][0]['y'] * IMAGE_HEIGHT)\n",
        "        y2 = int(i[\"points\"][1]['y'] * IMAGE_HEIGHT)\n",
        "        masks[index][y1:y2, x1:x2] = 1"
      ],
      "execution_count": 13,
      "outputs": []
    },
    {
      "cell_type": "code",
      "metadata": {
        "colab": {
          "base_uri": "https://localhost:8080/"
        },
        "id": "m386SpfgOYo6",
        "outputId": "31e15d36-bf38-491a-82d9-5baa7afcc825"
      },
      "source": [
        "print ('Shape of X  : ',X.shape)"
      ],
      "execution_count": 14,
      "outputs": [
        {
          "output_type": "stream",
          "text": [
            "Shape of X  :  (409, 224, 224, 3)\n"
          ],
          "name": "stdout"
        }
      ]
    },
    {
      "cell_type": "code",
      "metadata": {
        "colab": {
          "base_uri": "https://localhost:8080/"
        },
        "id": "D7VQSt3LOYlf",
        "outputId": "c32b278f-7ca7-4292-f4ff-d17187de5fc3"
      },
      "source": [
        "print ('Shape of masks  : ',masks.shape)"
      ],
      "execution_count": 15,
      "outputs": [
        {
          "output_type": "stream",
          "text": [
            "Shape of masks  :  (409, 224, 224)\n"
          ],
          "name": "stdout"
        }
      ]
    },
    {
      "cell_type": "markdown",
      "metadata": {
        "id": "N3AYbP79bFtJ"
      },
      "source": [
        "### Split the data into training and testing (2 marks)\n",
        "- 400 images in training\n",
        "- 9 images in testing data"
      ]
    },
    {
      "cell_type": "markdown",
      "metadata": {
        "id": "-Uc0NmqXQtPK"
      },
      "source": [
        "Training data"
      ]
    },
    {
      "cell_type": "code",
      "metadata": {
        "colab": {
          "base_uri": "https://localhost:8080/"
        },
        "id": "tqjrcCA3mNag",
        "outputId": "335f4ad6-d038-41be-e6d5-8ebb43de2ba3"
      },
      "source": [
        "train_size = int(len(X)) - 9\r\n",
        "print(train_size)"
      ],
      "execution_count": 16,
      "outputs": [
        {
          "output_type": "stream",
          "text": [
            "400\n"
          ],
          "name": "stdout"
        }
      ]
    },
    {
      "cell_type": "code",
      "metadata": {
        "colab": {
          "base_uri": "https://localhost:8080/"
        },
        "id": "sCquxPVEm2qA",
        "outputId": "d80cfb85-085d-466f-b33b-d525cab74b6e"
      },
      "source": [
        "X_train = X[:400]#### Add your code here ####\r\n",
        "y_train = masks[:400]#### Add your code here ####\r\n",
        "print ('Shape of X_Train  : ',X_train.shape)\r\n",
        "print ('Shape of y_Train  : ',y_train.shape)"
      ],
      "execution_count": 17,
      "outputs": [
        {
          "output_type": "stream",
          "text": [
            "Shape of X_Train  :  (400, 224, 224, 3)\n",
            "Shape of y_Train  :  (400, 224, 224)\n"
          ],
          "name": "stdout"
        }
      ]
    },
    {
      "cell_type": "code",
      "metadata": {
        "id": "3PIRaEdWIjDa"
      },
      "source": [
        ""
      ],
      "execution_count": null,
      "outputs": []
    },
    {
      "cell_type": "markdown",
      "metadata": {
        "id": "7ybyn6QnQ4ID"
      },
      "source": [
        "Testing data"
      ]
    },
    {
      "cell_type": "code",
      "metadata": {
        "id": "Gw6uH5DxgI_r",
        "colab": {
          "base_uri": "https://localhost:8080/"
        },
        "outputId": "f0d76c1b-9816-4cda-baca-5c165164c3ae"
      },
      "source": [
        "X_test = X[-9:]    #### Add your code here ####\n",
        "y_test = masks[-9:]  #### Add your code here ####\n",
        "print ('Shape of X_Test  : ',X_test.shape)\n",
        "print ('Shape of y_Test  : ',y_test.shape)"
      ],
      "execution_count": 18,
      "outputs": [
        {
          "output_type": "stream",
          "text": [
            "Shape of X_Test  :  (9, 224, 224, 3)\n",
            "Shape of y_Test  :  (9, 224, 224)\n"
          ],
          "name": "stdout"
        }
      ]
    },
    {
      "cell_type": "code",
      "metadata": {
        "id": "YRvUY0ZQJnYN"
      },
      "source": [
        ""
      ],
      "execution_count": null,
      "outputs": []
    },
    {
      "cell_type": "markdown",
      "metadata": {
        "id": "R4wgkWq1bk5F"
      },
      "source": [
        "### Print a sample training image, image array and its mask (2 marks)"
      ]
    },
    {
      "cell_type": "markdown",
      "metadata": {
        "id": "gfqobMQoRCW-"
      },
      "source": [
        "Print the image and image array"
      ]
    },
    {
      "cell_type": "code",
      "metadata": {
        "id": "qfRZjQufj0N9",
        "colab": {
          "base_uri": "https://localhost:8080/",
          "height": 1000
        },
        "outputId": "36ea23f0-9c0b-4aa2-9ef6-11fca3d2cd77"
      },
      "source": [
        "#### Add your code here ####\r\n",
        "from matplotlib import pyplot\r\n",
        "n = 10\r\n",
        "print(X_train[n])\r\n",
        "pyplot.imshow(X_train[n])"
      ],
      "execution_count": 19,
      "outputs": [
        {
          "output_type": "stream",
          "text": [
            "Clipping input data to the valid range for imshow with RGB data ([0..1] for floats or [0..255] for integers).\n"
          ],
          "name": "stderr"
        },
        {
          "output_type": "stream",
          "text": [
            "[[[-0.98431373 -0.98431373 -0.98431373]\n",
            "  [-0.98431373 -0.98431373 -0.98431373]\n",
            "  [-0.98431373 -0.98431373 -0.98431373]\n",
            "  ...\n",
            "  [-1.         -1.         -1.        ]\n",
            "  [-1.         -1.         -1.        ]\n",
            "  [-1.         -1.         -1.        ]]\n",
            "\n",
            " [[-0.98431373 -0.98431373 -0.98431373]\n",
            "  [-0.98431373 -0.98431373 -0.98431373]\n",
            "  [-0.98431373 -0.98431373 -0.98431373]\n",
            "  ...\n",
            "  [-1.         -1.         -1.        ]\n",
            "  [-1.         -1.         -1.        ]\n",
            "  [-1.         -1.         -1.        ]]\n",
            "\n",
            " [[-0.98431373 -0.98431373 -0.98431373]\n",
            "  [-0.98431373 -0.98431373 -0.98431373]\n",
            "  [-0.98431373 -0.98431373 -0.98431373]\n",
            "  ...\n",
            "  [-1.         -1.         -1.        ]\n",
            "  [-1.         -1.         -1.        ]\n",
            "  [-1.         -1.         -1.        ]]\n",
            "\n",
            " ...\n",
            "\n",
            " [[-1.         -1.         -1.        ]\n",
            "  [-1.         -1.         -1.        ]\n",
            "  [-1.         -1.         -1.        ]\n",
            "  ...\n",
            "  [-0.96862745 -0.96862745 -0.96862745]\n",
            "  [-0.96078432 -0.96078432 -0.96078432]\n",
            "  [-0.96078432 -0.96078432 -0.96078432]]\n",
            "\n",
            " [[-1.         -1.         -1.        ]\n",
            "  [-1.         -1.         -1.        ]\n",
            "  [-1.         -1.         -1.        ]\n",
            "  ...\n",
            "  [-0.96862745 -0.96862745 -0.96862745]\n",
            "  [-0.96078432 -0.96078432 -0.96078432]\n",
            "  [-0.95294118 -0.95294118 -0.95294118]]\n",
            "\n",
            " [[-1.         -1.         -1.        ]\n",
            "  [-1.         -1.         -1.        ]\n",
            "  [-1.         -1.         -1.        ]\n",
            "  ...\n",
            "  [-0.97647059 -0.97647059 -0.97647059]\n",
            "  [-0.96862745 -0.96862745 -0.96862745]\n",
            "  [-0.96078432 -0.96078432 -0.96078432]]]\n"
          ],
          "name": "stdout"
        },
        {
          "output_type": "execute_result",
          "data": {
            "text/plain": [
              "<matplotlib.image.AxesImage at 0x7fa64f89c080>"
            ]
          },
          "metadata": {
            "tags": []
          },
          "execution_count": 19
        },
        {
          "output_type": "display_data",
          "data": {
            "image/png": "[encoded data removed]",
            "text/plain": [
              "<Figure size 432x288 with 1 Axes>"
            ]
          },
          "metadata": {
            "tags": [],
            "needs_background": "light"
          }
        }
      ]
    },
    {
      "cell_type": "markdown",
      "metadata": {
        "id": "cctmS46hJKnL"
      },
      "source": [
        "Print the mask"
      ]
    },
    {
      "cell_type": "code",
      "metadata": {
        "id": "983gGKcwlSe8",
        "colab": {
          "base_uri": "https://localhost:8080/",
          "height": 286
        },
        "outputId": "44fee350-1d83-486d-9b33-32e250fb3b85"
      },
      "source": [
        "#### Add your code here ####\r\n",
        "pyplot.imshow(y_train[n])"
      ],
      "execution_count": 20,
      "outputs": [
        {
          "output_type": "execute_result",
          "data": {
            "text/plain": [
              "<matplotlib.image.AxesImage at 0x7fa64f3dbbe0>"
            ]
          },
          "metadata": {
            "tags": []
          },
          "execution_count": 20
        },
        {
          "output_type": "display_data",
          "data": {
            "image/png": "[encoded data removed]",
            "text/plain": [
              "<Figure size 432x288 with 1 Axes>"
            ]
          },
          "metadata": {
            "tags": [],
            "needs_background": "light"
          }
        }
      ]
    },
    {
      "cell_type": "code",
      "metadata": {
        "colab": {
          "base_uri": "https://localhost:8080/"
        },
        "id": "H1hKYQ6gPYE_",
        "outputId": "678112e0-65ce-44bd-b787-e1d08d300bcc"
      },
      "source": [
        "ab = np.reshape(y_train[n], y_train[n].shape + (1,))\r\n",
        "ab.shape"
      ],
      "execution_count": 22,
      "outputs": [
        {
          "output_type": "execute_result",
          "data": {
            "text/plain": [
              "(224, 224, 1)"
            ]
          },
          "metadata": {
            "tags": []
          },
          "execution_count": 22
        }
      ]
    },
    {
      "cell_type": "markdown",
      "metadata": {
        "id": "Z0Qa1UOue9TE"
      },
      "source": [
        "## Create the model (5 marks)\n",
        "- Add MobileNet as model with below parameter values\n",
        "  - input_shape: IMAGE_HEIGHT, IMAGE_WIDTH, 3\n",
        "  - include_top: False\n",
        "  - alpha: 1.0\n",
        "  - weights: \"imagenet\"\n",
        "- Add UNET architecture layers\n",
        "  - This is the trickiest part of the project, you need to research and implement it correctly"
      ]
    },
    {
      "cell_type": "code",
      "metadata": {
        "id": "BTVYOvANrUVx"
      },
      "source": [
        ""
      ],
      "execution_count": 23,
      "outputs": []
    },
    {
      "cell_type": "code",
      "metadata": {
        "id": "TgsGZ4gAPlse"
      },
      "source": [
        "def create_model(trainable=True):\r\n",
        "    model =MobileNet(input_shape=(IMAGE_HEIGHT, IMAGE_WIDTH, 3), include_top=False, alpha=1, weights=\"imagenet\")\r\n",
        "    for layer in model.layers:\r\n",
        "        layer.trainable = trainable\r\n",
        "    #### Add your code here ####\r\n",
        "    # Add all the UNET layers here\r\n",
        "    \r\n",
        "    block1 = model.get_layer(\"conv_pw_5_relu\").output #28\r\n",
        "    block2 = model.get_layer(\"conv_pw_11_relu\").output #14\r\n",
        "    block3 = model.get_layer(\"conv_pw_13_relu\").output #7\r\n",
        "    block4 = model.get_layer(\"conv_pw_3_relu\").output #56\r\n",
        "    block5 = model.get_layer(\"conv_pw_1_relu\").output #112\r\n",
        "    \r\n",
        "    x = Concatenate()([UpSampling2D()(block3), block2])\r\n",
        "    x = Concatenate()([UpSampling2D()(x), block1])\r\n",
        "    x = Concatenate()([UpSampling2D()(x), block4])\r\n",
        "    x = Concatenate()([UpSampling2D()(x), block5])\r\n",
        "    # Upsampling is done to match the output size with the size of the lables 224 by 224 in this case.\r\n",
        "    x = UpSampling2D()(x)\r\n",
        "    x = Conv2D(1, kernel_size=1, activation=\"relu\")(x)\r\n",
        "\r\n",
        "    x = Conv2D(1, kernel_size=1, activation=\"sigmoid\")(x)\r\n",
        "    x = Reshape((IMAGE_HEIGHT, IMAGE_WIDTH))(x)\r\n",
        "\r\n",
        "    return Model(inputs=model.input, outputs=x)"
      ],
      "execution_count": 25,
      "outputs": []
    },
    {
      "cell_type": "markdown",
      "metadata": {
        "id": "_snZ9o0ZBAiv"
      },
      "source": [
        "### Call the create_model function (1 mark)\n",
        "- Give trainable=False as argument, if you want to freeze lower layers for fast training (but low accuracy)"
      ]
    },
    {
      "cell_type": "code",
      "metadata": {
        "id": "9TfSSP51uPoO",
        "colab": {
          "base_uri": "https://localhost:8080/"
        },
        "outputId": "4839ca0c-e466-4506-b421-deac7facd8c6"
      },
      "source": [
        "#### Add your code here ####\r\n",
        "model = create_model()"
      ],
      "execution_count": 26,
      "outputs": [
        {
          "output_type": "stream",
          "text": [
            "Downloading data from https://storage.googleapis.com/tensorflow/keras-applications/mobilenet/mobilenet_1_0_224_tf_no_top.h5\n",
            "17227776/17225924 [==============================] - 0s 0us/step\n",
            "Model: \"model\"\n",
            "__________________________________________________________________________________________________\n",
            "Layer (type)                    Output Shape         Param #     Connected to                     \n",
            "==================================================================================================\n",
            "input_1 (InputLayer)            [(None, 224, 224, 3) 0                                            \n",
            "__________________________________________________________________________________________________\n",
            "conv1 (Conv2D)                  (None, 112, 112, 32) 864         input_1[0][0]                    \n",
            "__________________________________________________________________________________________________\n",
            "conv1_bn (BatchNormalization)   (None, 112, 112, 32) 128         conv1[0][0]                      \n",
            "__________________________________________________________________________________________________\n",
            "conv1_relu (ReLU)               (None, 112, 112, 32) 0           conv1_bn[0][0]                   \n",
            "__________________________________________________________________________________________________\n",
            "conv_dw_1 (DepthwiseConv2D)     (None, 112, 112, 32) 288         conv1_relu[0][0]                 \n",
            "__________________________________________________________________________________________________\n",
            "conv_dw_1_bn (BatchNormalizatio (None, 112, 112, 32) 128         conv_dw_1[0][0]                  \n",
            "__________________________________________________________________________________________________\n",
            "conv_dw_1_relu (ReLU)           (None, 112, 112, 32) 0           conv_dw_1_bn[0][0]               \n",
            "__________________________________________________________________________________________________\n",
            "conv_pw_1 (Conv2D)              (None, 112, 112, 64) 2048        conv_dw_1_relu[0][0]             \n",
            "__________________________________________________________________________________________________\n",
            "conv_pw_1_bn (BatchNormalizatio (None, 112, 112, 64) 256         conv_pw_1[0][0]                  \n",
            "__________________________________________________________________________________________________\n",
            "conv_pw_1_relu (ReLU)           (None, 112, 112, 64) 0           conv_pw_1_bn[0][0]               \n",
            "__________________________________________________________________________________________________\n",
            "conv_pad_2 (ZeroPadding2D)      (None, 113, 113, 64) 0           conv_pw_1_relu[0][0]             \n",
            "__________________________________________________________________________________________________\n",
            "conv_dw_2 (DepthwiseConv2D)     (None, 56, 56, 64)   576         conv_pad_2[0][0]                 \n",
            "__________________________________________________________________________________________________\n",
            "conv_dw_2_bn (BatchNormalizatio (None, 56, 56, 64)   256         conv_dw_2[0][0]                  \n",
            "__________________________________________________________________________________________________\n",
            "conv_dw_2_relu (ReLU)           (None, 56, 56, 64)   0           conv_dw_2_bn[0][0]               \n",
            "__________________________________________________________________________________________________\n",
            "conv_pw_2 (Conv2D)              (None, 56, 56, 128)  8192        conv_dw_2_relu[0][0]             \n",
            "__________________________________________________________________________________________________\n",
            "conv_pw_2_bn (BatchNormalizatio (None, 56, 56, 128)  512         conv_pw_2[0][0]                  \n",
            "__________________________________________________________________________________________________\n",
            "conv_pw_2_relu (ReLU)           (None, 56, 56, 128)  0           conv_pw_2_bn[0][0]               \n",
            "__________________________________________________________________________________________________\n",
            "conv_dw_3 (DepthwiseConv2D)     (None, 56, 56, 128)  1152        conv_pw_2_relu[0][0]             \n",
            "__________________________________________________________________________________________________\n",
            "conv_dw_3_bn (BatchNormalizatio (None, 56, 56, 128)  512         conv_dw_3[0][0]                  \n",
            "__________________________________________________________________________________________________\n",
            "conv_dw_3_relu (ReLU)           (None, 56, 56, 128)  0           conv_dw_3_bn[0][0]               \n",
            "__________________________________________________________________________________________________\n",
            "conv_pw_3 (Conv2D)              (None, 56, 56, 128)  16384       conv_dw_3_relu[0][0]             \n",
            "__________________________________________________________________________________________________\n",
            "conv_pw_3_bn (BatchNormalizatio (None, 56, 56, 128)  512         conv_pw_3[0][0]                  \n",
            "__________________________________________________________________________________________________\n",
            "conv_pw_3_relu (ReLU)           (None, 56, 56, 128)  0           conv_pw_3_bn[0][0]               \n",
            "__________________________________________________________________________________________________\n",
            "conv_pad_4 (ZeroPadding2D)      (None, 57, 57, 128)  0           conv_pw_3_relu[0][0]             \n",
            "__________________________________________________________________________________________________\n",
            "conv_dw_4 (DepthwiseConv2D)     (None, 28, 28, 128)  1152        conv_pad_4[0][0]                 \n",
            "__________________________________________________________________________________________________\n",
            "conv_dw_4_bn (BatchNormalizatio (None, 28, 28, 128)  512         conv_dw_4[0][0]                  \n",
            "__________________________________________________________________________________________________\n",
            "conv_dw_4_relu (ReLU)           (None, 28, 28, 128)  0           conv_dw_4_bn[0][0]               \n",
            "__________________________________________________________________________________________________\n",
            "conv_pw_4 (Conv2D)              (None, 28, 28, 256)  32768       conv_dw_4_relu[0][0]             \n",
            "__________________________________________________________________________________________________\n",
            "conv_pw_4_bn (BatchNormalizatio (None, 28, 28, 256)  1024        conv_pw_4[0][0]                  \n",
            "__________________________________________________________________________________________________\n",
            "conv_pw_4_relu (ReLU)           (None, 28, 28, 256)  0           conv_pw_4_bn[0][0]               \n",
            "__________________________________________________________________________________________________\n",
            "conv_dw_5 (DepthwiseConv2D)     (None, 28, 28, 256)  2304        conv_pw_4_relu[0][0]             \n",
            "__________________________________________________________________________________________________\n",
            "conv_dw_5_bn (BatchNormalizatio (None, 28, 28, 256)  1024        conv_dw_5[0][0]                  \n",
            "__________________________________________________________________________________________________\n",
            "conv_dw_5_relu (ReLU)           (None, 28, 28, 256)  0           conv_dw_5_bn[0][0]               \n",
            "__________________________________________________________________________________________________\n",
            "conv_pw_5 (Conv2D)              (None, 28, 28, 256)  65536       conv_dw_5_relu[0][0]             \n",
            "__________________________________________________________________________________________________\n",
            "conv_pw_5_bn (BatchNormalizatio (None, 28, 28, 256)  1024        conv_pw_5[0][0]                  \n",
            "__________________________________________________________________________________________________\n",
            "conv_pw_5_relu (ReLU)           (None, 28, 28, 256)  0           conv_pw_5_bn[0][0]               \n",
            "__________________________________________________________________________________________________\n",
            "conv_pad_6 (ZeroPadding2D)      (None, 29, 29, 256)  0           conv_pw_5_relu[0][0]             \n",
            "__________________________________________________________________________________________________\n",
            "conv_dw_6 (DepthwiseConv2D)     (None, 14, 14, 256)  2304        conv_pad_6[0][0]                 \n",
            "__________________________________________________________________________________________________\n",
            "conv_dw_6_bn (BatchNormalizatio (None, 14, 14, 256)  1024        conv_dw_6[0][0]                  \n",
            "__________________________________________________________________________________________________\n",
            "conv_dw_6_relu (ReLU)           (None, 14, 14, 256)  0           conv_dw_6_bn[0][0]               \n",
            "__________________________________________________________________________________________________\n",
            "conv_pw_6 (Conv2D)              (None, 14, 14, 512)  131072      conv_dw_6_relu[0][0]             \n",
            "__________________________________________________________________________________________________\n",
            "conv_pw_6_bn (BatchNormalizatio (None, 14, 14, 512)  2048        conv_pw_6[0][0]                  \n",
            "__________________________________________________________________________________________________\n",
            "conv_pw_6_relu (ReLU)           (None, 14, 14, 512)  0           conv_pw_6_bn[0][0]               \n",
            "__________________________________________________________________________________________________\n",
            "conv_dw_7 (DepthwiseConv2D)     (None, 14, 14, 512)  4608        conv_pw_6_relu[0][0]             \n",
            "__________________________________________________________________________________________________\n",
            "conv_dw_7_bn (BatchNormalizatio (None, 14, 14, 512)  2048        conv_dw_7[0][0]                  \n",
            "__________________________________________________________________________________________________\n",
            "conv_dw_7_relu (ReLU)           (None, 14, 14, 512)  0           conv_dw_7_bn[0][0]               \n",
            "__________________________________________________________________________________________________\n",
            "conv_pw_7 (Conv2D)              (None, 14, 14, 512)  262144      conv_dw_7_relu[0][0]             \n",
            "__________________________________________________________________________________________________\n",
            "conv_pw_7_bn (BatchNormalizatio (None, 14, 14, 512)  2048        conv_pw_7[0][0]                  \n",
            "__________________________________________________________________________________________________\n",
            "conv_pw_7_relu (ReLU)           (None, 14, 14, 512)  0           conv_pw_7_bn[0][0]               \n",
            "__________________________________________________________________________________________________\n",
            "conv_dw_8 (DepthwiseConv2D)     (None, 14, 14, 512)  4608        conv_pw_7_relu[0][0]             \n",
            "__________________________________________________________________________________________________\n",
            "conv_dw_8_bn (BatchNormalizatio (None, 14, 14, 512)  2048        conv_dw_8[0][0]                  \n",
            "__________________________________________________________________________________________________\n",
            "conv_dw_8_relu (ReLU)           (None, 14, 14, 512)  0           conv_dw_8_bn[0][0]               \n",
            "__________________________________________________________________________________________________\n",
            "conv_pw_8 (Conv2D)              (None, 14, 14, 512)  262144      conv_dw_8_relu[0][0]             \n",
            "__________________________________________________________________________________________________\n",
            "conv_pw_8_bn (BatchNormalizatio (None, 14, 14, 512)  2048        conv_pw_8[0][0]                  \n",
            "__________________________________________________________________________________________________\n",
            "conv_pw_8_relu (ReLU)           (None, 14, 14, 512)  0           conv_pw_8_bn[0][0]               \n",
            "__________________________________________________________________________________________________\n",
            "conv_dw_9 (DepthwiseConv2D)     (None, 14, 14, 512)  4608        conv_pw_8_relu[0][0]             \n",
            "__________________________________________________________________________________________________\n",
            "conv_dw_9_bn (BatchNormalizatio (None, 14, 14, 512)  2048        conv_dw_9[0][0]                  \n",
            "__________________________________________________________________________________________________\n",
            "conv_dw_9_relu (ReLU)           (None, 14, 14, 512)  0           conv_dw_9_bn[0][0]               \n",
            "__________________________________________________________________________________________________\n",
            "conv_pw_9 (Conv2D)              (None, 14, 14, 512)  262144      conv_dw_9_relu[0][0]             \n",
            "__________________________________________________________________________________________________\n",
            "conv_pw_9_bn (BatchNormalizatio (None, 14, 14, 512)  2048        conv_pw_9[0][0]                  \n",
            "__________________________________________________________________________________________________\n",
            "conv_pw_9_relu (ReLU)           (None, 14, 14, 512)  0           conv_pw_9_bn[0][0]               \n",
            "__________________________________________________________________________________________________\n",
            "conv_dw_10 (DepthwiseConv2D)    (None, 14, 14, 512)  4608        conv_pw_9_relu[0][0]             \n",
            "__________________________________________________________________________________________________\n",
            "conv_dw_10_bn (BatchNormalizati (None, 14, 14, 512)  2048        conv_dw_10[0][0]                 \n",
            "__________________________________________________________________________________________________\n",
            "conv_dw_10_relu (ReLU)          (None, 14, 14, 512)  0           conv_dw_10_bn[0][0]              \n",
            "__________________________________________________________________________________________________\n",
            "conv_pw_10 (Conv2D)             (None, 14, 14, 512)  262144      conv_dw_10_relu[0][0]            \n",
            "__________________________________________________________________________________________________\n",
            "conv_pw_10_bn (BatchNormalizati (None, 14, 14, 512)  2048        conv_pw_10[0][0]                 \n",
            "__________________________________________________________________________________________________\n",
            "conv_pw_10_relu (ReLU)          (None, 14, 14, 512)  0           conv_pw_10_bn[0][0]              \n",
            "__________________________________________________________________________________________________\n",
            "conv_dw_11 (DepthwiseConv2D)    (None, 14, 14, 512)  4608        conv_pw_10_relu[0][0]            \n",
            "__________________________________________________________________________________________________\n",
            "conv_dw_11_bn (BatchNormalizati (None, 14, 14, 512)  2048        conv_dw_11[0][0]                 \n",
            "__________________________________________________________________________________________________\n",
            "conv_dw_11_relu (ReLU)          (None, 14, 14, 512)  0           conv_dw_11_bn[0][0]              \n",
            "__________________________________________________________________________________________________\n",
            "conv_pw_11 (Conv2D)             (None, 14, 14, 512)  262144      conv_dw_11_relu[0][0]            \n",
            "__________________________________________________________________________________________________\n",
            "conv_pw_11_bn (BatchNormalizati (None, 14, 14, 512)  2048        conv_pw_11[0][0]                 \n",
            "__________________________________________________________________________________________________\n",
            "conv_pw_11_relu (ReLU)          (None, 14, 14, 512)  0           conv_pw_11_bn[0][0]              \n",
            "__________________________________________________________________________________________________\n",
            "conv_pad_12 (ZeroPadding2D)     (None, 15, 15, 512)  0           conv_pw_11_relu[0][0]            \n",
            "__________________________________________________________________________________________________\n",
            "conv_dw_12 (DepthwiseConv2D)    (None, 7, 7, 512)    4608        conv_pad_12[0][0]                \n",
            "__________________________________________________________________________________________________\n",
            "conv_dw_12_bn (BatchNormalizati (None, 7, 7, 512)    2048        conv_dw_12[0][0]                 \n",
            "__________________________________________________________________________________________________\n",
            "conv_dw_12_relu (ReLU)          (None, 7, 7, 512)    0           conv_dw_12_bn[0][0]              \n",
            "__________________________________________________________________________________________________\n",
            "conv_pw_12 (Conv2D)             (None, 7, 7, 1024)   524288      conv_dw_12_relu[0][0]            \n",
            "__________________________________________________________________________________________________\n",
            "conv_pw_12_bn (BatchNormalizati (None, 7, 7, 1024)   4096        conv_pw_12[0][0]                 \n",
            "__________________________________________________________________________________________________\n",
            "conv_pw_12_relu (ReLU)          (None, 7, 7, 1024)   0           conv_pw_12_bn[0][0]              \n",
            "__________________________________________________________________________________________________\n",
            "conv_dw_13 (DepthwiseConv2D)    (None, 7, 7, 1024)   9216        conv_pw_12_relu[0][0]            \n",
            "__________________________________________________________________________________________________\n",
            "conv_dw_13_bn (BatchNormalizati (None, 7, 7, 1024)   4096        conv_dw_13[0][0]                 \n",
            "__________________________________________________________________________________________________\n",
            "conv_dw_13_relu (ReLU)          (None, 7, 7, 1024)   0           conv_dw_13_bn[0][0]              \n",
            "__________________________________________________________________________________________________\n",
            "conv_pw_13 (Conv2D)             (None, 7, 7, 1024)   1048576     conv_dw_13_relu[0][0]            \n",
            "__________________________________________________________________________________________________\n",
            "conv_pw_13_bn (BatchNormalizati (None, 7, 7, 1024)   4096        conv_pw_13[0][0]                 \n",
            "__________________________________________________________________________________________________\n",
            "conv_pw_13_relu (ReLU)          (None, 7, 7, 1024)   0           conv_pw_13_bn[0][0]              \n",
            "__________________________________________________________________________________________________\n",
            "up_sampling2d (UpSampling2D)    (None, 14, 14, 1024) 0           conv_pw_13_relu[0][0]            \n",
            "__________________________________________________________________________________________________\n",
            "concatenate (Concatenate)       (None, 14, 14, 1536) 0           up_sampling2d[0][0]              \n",
            "                                                                 conv_pw_11_relu[0][0]            \n",
            "__________________________________________________________________________________________________\n",
            "up_sampling2d_1 (UpSampling2D)  (None, 28, 28, 1536) 0           concatenate[0][0]                \n",
            "__________________________________________________________________________________________________\n",
            "concatenate_1 (Concatenate)     (None, 28, 28, 1792) 0           up_sampling2d_1[0][0]            \n",
            "                                                                 conv_pw_5_relu[0][0]             \n",
            "__________________________________________________________________________________________________\n",
            "up_sampling2d_2 (UpSampling2D)  (None, 56, 56, 1792) 0           concatenate_1[0][0]              \n",
            "__________________________________________________________________________________________________\n",
            "concatenate_2 (Concatenate)     (None, 56, 56, 1920) 0           up_sampling2d_2[0][0]            \n",
            "                                                                 conv_pw_3_relu[0][0]             \n",
            "__________________________________________________________________________________________________\n",
            "up_sampling2d_3 (UpSampling2D)  (None, 112, 112, 192 0           concatenate_2[0][0]              \n",
            "__________________________________________________________________________________________________\n",
            "concatenate_3 (Concatenate)     (None, 112, 112, 198 0           up_sampling2d_3[0][0]            \n",
            "                                                                 conv_pw_1_relu[0][0]             \n",
            "__________________________________________________________________________________________________\n",
            "up_sampling2d_4 (UpSampling2D)  (None, 224, 224, 198 0           concatenate_3[0][0]              \n",
            "__________________________________________________________________________________________________\n",
            "conv2d (Conv2D)                 (None, 224, 224, 1)  1985        up_sampling2d_4[0][0]            \n",
            "__________________________________________________________________________________________________\n",
            "conv2d_1 (Conv2D)               (None, 224, 224, 1)  2           conv2d[0][0]                     \n",
            "__________________________________________________________________________________________________\n",
            "reshape (Reshape)               (None, 224, 224)     0           conv2d_1[0][0]                   \n",
            "==================================================================================================\n",
            "Total params: 3,230,851\n",
            "Trainable params: 3,208,963\n",
            "Non-trainable params: 21,888\n",
            "__________________________________________________________________________________________________\n"
          ],
          "name": "stdout"
        }
      ]
    },
    {
      "cell_type": "markdown",
      "metadata": {
        "id": "lUr_ZSHkKb5G"
      },
      "source": [
        "### Print model summary (1 mark)"
      ]
    },
    {
      "cell_type": "code",
      "metadata": {
        "id": "xXCbBt78KfT-",
        "colab": {
          "base_uri": "https://localhost:8080/"
        },
        "outputId": "4701fe7f-f76c-4f35-fba6-fe1e12f13115"
      },
      "source": [
        "#### Add your code here ####\r\n",
        "model.summary()"
      ],
      "execution_count": 27,
      "outputs": [
        {
          "output_type": "stream",
          "text": [
            "Model: \"model\"\n",
            "__________________________________________________________________________________________________\n",
            "Layer (type)                    Output Shape         Param #     Connected to                     \n",
            "==================================================================================================\n",
            "input_1 (InputLayer)            [(None, 224, 224, 3) 0                                            \n",
            "__________________________________________________________________________________________________\n",
            "conv1 (Conv2D)                  (None, 112, 112, 32) 864         input_1[0][0]                    \n",
            "__________________________________________________________________________________________________\n",
            "conv1_bn (BatchNormalization)   (None, 112, 112, 32) 128         conv1[0][0]                      \n",
            "__________________________________________________________________________________________________\n",
            "conv1_relu (ReLU)               (None, 112, 112, 32) 0           conv1_bn[0][0]                   \n",
            "__________________________________________________________________________________________________\n",
            "conv_dw_1 (DepthwiseConv2D)     (None, 112, 112, 32) 288         conv1_relu[0][0]                 \n",
            "__________________________________________________________________________________________________\n",
            "conv_dw_1_bn (BatchNormalizatio (None, 112, 112, 32) 128         conv_dw_1[0][0]                  \n",
            "__________________________________________________________________________________________________\n",
            "conv_dw_1_relu (ReLU)           (None, 112, 112, 32) 0           conv_dw_1_bn[0][0]               \n",
            "__________________________________________________________________________________________________\n",
            "conv_pw_1 (Conv2D)              (None, 112, 112, 64) 2048        conv_dw_1_relu[0][0]             \n",
            "__________________________________________________________________________________________________\n",
            "conv_pw_1_bn (BatchNormalizatio (None, 112, 112, 64) 256         conv_pw_1[0][0]                  \n",
            "__________________________________________________________________________________________________\n",
            "conv_pw_1_relu (ReLU)           (None, 112, 112, 64) 0           conv_pw_1_bn[0][0]               \n",
            "__________________________________________________________________________________________________\n",
            "conv_pad_2 (ZeroPadding2D)      (None, 113, 113, 64) 0           conv_pw_1_relu[0][0]             \n",
            "__________________________________________________________________________________________________\n",
            "conv_dw_2 (DepthwiseConv2D)     (None, 56, 56, 64)   576         conv_pad_2[0][0]                 \n",
            "__________________________________________________________________________________________________\n",
            "conv_dw_2_bn (BatchNormalizatio (None, 56, 56, 64)   256         conv_dw_2[0][0]                  \n",
            "__________________________________________________________________________________________________\n",
            "conv_dw_2_relu (ReLU)           (None, 56, 56, 64)   0           conv_dw_2_bn[0][0]               \n",
            "__________________________________________________________________________________________________\n",
            "conv_pw_2 (Conv2D)              (None, 56, 56, 128)  8192        conv_dw_2_relu[0][0]             \n",
            "__________________________________________________________________________________________________\n",
            "conv_pw_2_bn (BatchNormalizatio (None, 56, 56, 128)  512         conv_pw_2[0][0]                  \n",
            "__________________________________________________________________________________________________\n",
            "conv_pw_2_relu (ReLU)           (None, 56, 56, 128)  0           conv_pw_2_bn[0][0]               \n",
            "__________________________________________________________________________________________________\n",
            "conv_dw_3 (DepthwiseConv2D)     (None, 56, 56, 128)  1152        conv_pw_2_relu[0][0]             \n",
            "__________________________________________________________________________________________________\n",
            "conv_dw_3_bn (BatchNormalizatio (None, 56, 56, 128)  512         conv_dw_3[0][0]                  \n",
            "__________________________________________________________________________________________________\n",
            "conv_dw_3_relu (ReLU)           (None, 56, 56, 128)  0           conv_dw_3_bn[0][0]               \n",
            "__________________________________________________________________________________________________\n",
            "conv_pw_3 (Conv2D)              (None, 56, 56, 128)  16384       conv_dw_3_relu[0][0]             \n",
            "__________________________________________________________________________________________________\n",
            "conv_pw_3_bn (BatchNormalizatio (None, 56, 56, 128)  512         conv_pw_3[0][0]                  \n",
            "__________________________________________________________________________________________________\n",
            "conv_pw_3_relu (ReLU)           (None, 56, 56, 128)  0           conv_pw_3_bn[0][0]               \n",
            "__________________________________________________________________________________________________\n",
            "conv_pad_4 (ZeroPadding2D)      (None, 57, 57, 128)  0           conv_pw_3_relu[0][0]             \n",
            "__________________________________________________________________________________________________\n",
            "conv_dw_4 (DepthwiseConv2D)     (None, 28, 28, 128)  1152        conv_pad_4[0][0]                 \n",
            "__________________________________________________________________________________________________\n",
            "conv_dw_4_bn (BatchNormalizatio (None, 28, 28, 128)  512         conv_dw_4[0][0]                  \n",
            "__________________________________________________________________________________________________\n",
            "conv_dw_4_relu (ReLU)           (None, 28, 28, 128)  0           conv_dw_4_bn[0][0]               \n",
            "__________________________________________________________________________________________________\n",
            "conv_pw_4 (Conv2D)              (None, 28, 28, 256)  32768       conv_dw_4_relu[0][0]             \n",
            "__________________________________________________________________________________________________\n",
            "conv_pw_4_bn (BatchNormalizatio (None, 28, 28, 256)  1024        conv_pw_4[0][0]                  \n",
            "__________________________________________________________________________________________________\n",
            "conv_pw_4_relu (ReLU)           (None, 28, 28, 256)  0           conv_pw_4_bn[0][0]               \n",
            "__________________________________________________________________________________________________\n",
            "conv_dw_5 (DepthwiseConv2D)     (None, 28, 28, 256)  2304        conv_pw_4_relu[0][0]             \n",
            "__________________________________________________________________________________________________\n",
            "conv_dw_5_bn (BatchNormalizatio (None, 28, 28, 256)  1024        conv_dw_5[0][0]                  \n",
            "__________________________________________________________________________________________________\n",
            "conv_dw_5_relu (ReLU)           (None, 28, 28, 256)  0           conv_dw_5_bn[0][0]               \n",
            "__________________________________________________________________________________________________\n",
            "conv_pw_5 (Conv2D)              (None, 28, 28, 256)  65536       conv_dw_5_relu[0][0]             \n",
            "__________________________________________________________________________________________________\n",
            "conv_pw_5_bn (BatchNormalizatio (None, 28, 28, 256)  1024        conv_pw_5[0][0]                  \n",
            "__________________________________________________________________________________________________\n",
            "conv_pw_5_relu (ReLU)           (None, 28, 28, 256)  0           conv_pw_5_bn[0][0]               \n",
            "__________________________________________________________________________________________________\n",
            "conv_pad_6 (ZeroPadding2D)      (None, 29, 29, 256)  0           conv_pw_5_relu[0][0]             \n",
            "__________________________________________________________________________________________________\n",
            "conv_dw_6 (DepthwiseConv2D)     (None, 14, 14, 256)  2304        conv_pad_6[0][0]                 \n",
            "__________________________________________________________________________________________________\n",
            "conv_dw_6_bn (BatchNormalizatio (None, 14, 14, 256)  1024        conv_dw_6[0][0]                  \n",
            "__________________________________________________________________________________________________\n",
            "conv_dw_6_relu (ReLU)           (None, 14, 14, 256)  0           conv_dw_6_bn[0][0]               \n",
            "__________________________________________________________________________________________________\n",
            "conv_pw_6 (Conv2D)              (None, 14, 14, 512)  131072      conv_dw_6_relu[0][0]             \n",
            "__________________________________________________________________________________________________\n",
            "conv_pw_6_bn (BatchNormalizatio (None, 14, 14, 512)  2048        conv_pw_6[0][0]                  \n",
            "__________________________________________________________________________________________________\n",
            "conv_pw_6_relu (ReLU)           (None, 14, 14, 512)  0           conv_pw_6_bn[0][0]               \n",
            "__________________________________________________________________________________________________\n",
            "conv_dw_7 (DepthwiseConv2D)     (None, 14, 14, 512)  4608        conv_pw_6_relu[0][0]             \n",
            "__________________________________________________________________________________________________\n",
            "conv_dw_7_bn (BatchNormalizatio (None, 14, 14, 512)  2048        conv_dw_7[0][0]                  \n",
            "__________________________________________________________________________________________________\n",
            "conv_dw_7_relu (ReLU)           (None, 14, 14, 512)  0           conv_dw_7_bn[0][0]               \n",
            "__________________________________________________________________________________________________\n",
            "conv_pw_7 (Conv2D)              (None, 14, 14, 512)  262144      conv_dw_7_relu[0][0]             \n",
            "__________________________________________________________________________________________________\n",
            "conv_pw_7_bn (BatchNormalizatio (None, 14, 14, 512)  2048        conv_pw_7[0][0]                  \n",
            "__________________________________________________________________________________________________\n",
            "conv_pw_7_relu (ReLU)           (None, 14, 14, 512)  0           conv_pw_7_bn[0][0]               \n",
            "__________________________________________________________________________________________________\n",
            "conv_dw_8 (DepthwiseConv2D)     (None, 14, 14, 512)  4608        conv_pw_7_relu[0][0]             \n",
            "__________________________________________________________________________________________________\n",
            "conv_dw_8_bn (BatchNormalizatio (None, 14, 14, 512)  2048        conv_dw_8[0][0]                  \n",
            "__________________________________________________________________________________________________\n",
            "conv_dw_8_relu (ReLU)           (None, 14, 14, 512)  0           conv_dw_8_bn[0][0]               \n",
            "__________________________________________________________________________________________________\n",
            "conv_pw_8 (Conv2D)              (None, 14, 14, 512)  262144      conv_dw_8_relu[0][0]             \n",
            "__________________________________________________________________________________________________\n",
            "conv_pw_8_bn (BatchNormalizatio (None, 14, 14, 512)  2048        conv_pw_8[0][0]                  \n",
            "__________________________________________________________________________________________________\n",
            "conv_pw_8_relu (ReLU)           (None, 14, 14, 512)  0           conv_pw_8_bn[0][0]               \n",
            "__________________________________________________________________________________________________\n",
            "conv_dw_9 (DepthwiseConv2D)     (None, 14, 14, 512)  4608        conv_pw_8_relu[0][0]             \n",
            "__________________________________________________________________________________________________\n",
            "conv_dw_9_bn (BatchNormalizatio (None, 14, 14, 512)  2048        conv_dw_9[0][0]                  \n",
            "__________________________________________________________________________________________________\n",
            "conv_dw_9_relu (ReLU)           (None, 14, 14, 512)  0           conv_dw_9_bn[0][0]               \n",
            "__________________________________________________________________________________________________\n",
            "conv_pw_9 (Conv2D)              (None, 14, 14, 512)  262144      conv_dw_9_relu[0][0]             \n",
            "__________________________________________________________________________________________________\n",
            "conv_pw_9_bn (BatchNormalizatio (None, 14, 14, 512)  2048        conv_pw_9[0][0]                  \n",
            "__________________________________________________________________________________________________\n",
            "conv_pw_9_relu (ReLU)           (None, 14, 14, 512)  0           conv_pw_9_bn[0][0]               \n",
            "__________________________________________________________________________________________________\n",
            "conv_dw_10 (DepthwiseConv2D)    (None, 14, 14, 512)  4608        conv_pw_9_relu[0][0]             \n",
            "__________________________________________________________________________________________________\n",
            "conv_dw_10_bn (BatchNormalizati (None, 14, 14, 512)  2048        conv_dw_10[0][0]                 \n",
            "__________________________________________________________________________________________________\n",
            "conv_dw_10_relu (ReLU)          (None, 14, 14, 512)  0           conv_dw_10_bn[0][0]              \n",
            "__________________________________________________________________________________________________\n",
            "conv_pw_10 (Conv2D)             (None, 14, 14, 512)  262144      conv_dw_10_relu[0][0]            \n",
            "__________________________________________________________________________________________________\n",
            "conv_pw_10_bn (BatchNormalizati (None, 14, 14, 512)  2048        conv_pw_10[0][0]                 \n",
            "__________________________________________________________________________________________________\n",
            "conv_pw_10_relu (ReLU)          (None, 14, 14, 512)  0           conv_pw_10_bn[0][0]              \n",
            "__________________________________________________________________________________________________\n",
            "conv_dw_11 (DepthwiseConv2D)    (None, 14, 14, 512)  4608        conv_pw_10_relu[0][0]            \n",
            "__________________________________________________________________________________________________\n",
            "conv_dw_11_bn (BatchNormalizati (None, 14, 14, 512)  2048        conv_dw_11[0][0]                 \n",
            "__________________________________________________________________________________________________\n",
            "conv_dw_11_relu (ReLU)          (None, 14, 14, 512)  0           conv_dw_11_bn[0][0]              \n",
            "__________________________________________________________________________________________________\n",
            "conv_pw_11 (Conv2D)             (None, 14, 14, 512)  262144      conv_dw_11_relu[0][0]            \n",
            "__________________________________________________________________________________________________\n",
            "conv_pw_11_bn (BatchNormalizati (None, 14, 14, 512)  2048        conv_pw_11[0][0]                 \n",
            "__________________________________________________________________________________________________\n",
            "conv_pw_11_relu (ReLU)          (None, 14, 14, 512)  0           conv_pw_11_bn[0][0]              \n",
            "__________________________________________________________________________________________________\n",
            "conv_pad_12 (ZeroPadding2D)     (None, 15, 15, 512)  0           conv_pw_11_relu[0][0]            \n",
            "__________________________________________________________________________________________________\n",
            "conv_dw_12 (DepthwiseConv2D)    (None, 7, 7, 512)    4608        conv_pad_12[0][0]                \n",
            "__________________________________________________________________________________________________\n",
            "conv_dw_12_bn (BatchNormalizati (None, 7, 7, 512)    2048        conv_dw_12[0][0]                 \n",
            "__________________________________________________________________________________________________\n",
            "conv_dw_12_relu (ReLU)          (None, 7, 7, 512)    0           conv_dw_12_bn[0][0]              \n",
            "__________________________________________________________________________________________________\n",
            "conv_pw_12 (Conv2D)             (None, 7, 7, 1024)   524288      conv_dw_12_relu[0][0]            \n",
            "__________________________________________________________________________________________________\n",
            "conv_pw_12_bn (BatchNormalizati (None, 7, 7, 1024)   4096        conv_pw_12[0][0]                 \n",
            "__________________________________________________________________________________________________\n",
            "conv_pw_12_relu (ReLU)          (None, 7, 7, 1024)   0           conv_pw_12_bn[0][0]              \n",
            "__________________________________________________________________________________________________\n",
            "conv_dw_13 (DepthwiseConv2D)    (None, 7, 7, 1024)   9216        conv_pw_12_relu[0][0]            \n",
            "__________________________________________________________________________________________________\n",
            "conv_dw_13_bn (BatchNormalizati (None, 7, 7, 1024)   4096        conv_dw_13[0][0]                 \n",
            "__________________________________________________________________________________________________\n",
            "conv_dw_13_relu (ReLU)          (None, 7, 7, 1024)   0           conv_dw_13_bn[0][0]              \n",
            "__________________________________________________________________________________________________\n",
            "conv_pw_13 (Conv2D)             (None, 7, 7, 1024)   1048576     conv_dw_13_relu[0][0]            \n",
            "__________________________________________________________________________________________________\n",
            "conv_pw_13_bn (BatchNormalizati (None, 7, 7, 1024)   4096        conv_pw_13[0][0]                 \n",
            "__________________________________________________________________________________________________\n",
            "conv_pw_13_relu (ReLU)          (None, 7, 7, 1024)   0           conv_pw_13_bn[0][0]              \n",
            "__________________________________________________________________________________________________\n",
            "up_sampling2d (UpSampling2D)    (None, 14, 14, 1024) 0           conv_pw_13_relu[0][0]            \n",
            "__________________________________________________________________________________________________\n",
            "concatenate (Concatenate)       (None, 14, 14, 1536) 0           up_sampling2d[0][0]              \n",
            "                                                                 conv_pw_11_relu[0][0]            \n",
            "__________________________________________________________________________________________________\n",
            "up_sampling2d_1 (UpSampling2D)  (None, 28, 28, 1536) 0           concatenate[0][0]                \n",
            "__________________________________________________________________________________________________\n",
            "concatenate_1 (Concatenate)     (None, 28, 28, 1792) 0           up_sampling2d_1[0][0]            \n",
            "                                                                 conv_pw_5_relu[0][0]             \n",
            "__________________________________________________________________________________________________\n",
            "up_sampling2d_2 (UpSampling2D)  (None, 56, 56, 1792) 0           concatenate_1[0][0]              \n",
            "__________________________________________________________________________________________________\n",
            "concatenate_2 (Concatenate)     (None, 56, 56, 1920) 0           up_sampling2d_2[0][0]            \n",
            "                                                                 conv_pw_3_relu[0][0]             \n",
            "__________________________________________________________________________________________________\n",
            "up_sampling2d_3 (UpSampling2D)  (None, 112, 112, 192 0           concatenate_2[0][0]              \n",
            "__________________________________________________________________________________________________\n",
            "concatenate_3 (Concatenate)     (None, 112, 112, 198 0           up_sampling2d_3[0][0]            \n",
            "                                                                 conv_pw_1_relu[0][0]             \n",
            "__________________________________________________________________________________________________\n",
            "up_sampling2d_4 (UpSampling2D)  (None, 224, 224, 198 0           concatenate_3[0][0]              \n",
            "__________________________________________________________________________________________________\n",
            "conv2d (Conv2D)                 (None, 224, 224, 1)  1985        up_sampling2d_4[0][0]            \n",
            "__________________________________________________________________________________________________\n",
            "conv2d_1 (Conv2D)               (None, 224, 224, 1)  2           conv2d[0][0]                     \n",
            "__________________________________________________________________________________________________\n",
            "reshape (Reshape)               (None, 224, 224)     0           conv2d_1[0][0]                   \n",
            "==================================================================================================\n",
            "Total params: 3,230,851\n",
            "Trainable params: 3,208,963\n",
            "Non-trainable params: 21,888\n",
            "__________________________________________________________________________________________________\n"
          ],
          "name": "stdout"
        }
      ]
    },
    {
      "cell_type": "markdown",
      "metadata": {
        "id": "2spcE4TvfEZw"
      },
      "source": [
        "### Define dice coefficient function (2 marks)\n",
        "- Create a function to calculate dice coefficient\n"
      ]
    },
    {
      "cell_type": "code",
      "metadata": {
        "id": "8H8aViXZuWz1"
      },
      "source": [
        "#### Add your code here ####\r\n",
        "\r\n",
        "#### Add your code here ####\r\n",
        "def dice_coefficient(y_true, y_pred):\r\n",
        "    numerator = 2 * tf.reduce_sum(y_true * y_pred)\r\n",
        "    denominator = tf.reduce_sum(y_true + y_pred)\r\n",
        "\r\n",
        "    return numerator / (denominator + tf.keras.backend.epsilon())"
      ],
      "execution_count": 28,
      "outputs": []
    },
    {
      "cell_type": "markdown",
      "metadata": {
        "id": "Nkp5SDM1fIu2"
      },
      "source": [
        "### Define loss function (2 marks)"
      ]
    },
    {
      "cell_type": "code",
      "metadata": {
        "id": "FEOVfs19KVLv"
      },
      "source": [
        "#### Add your code here ####\r\n",
        "from tensorflow.keras.losses import binary_crossentropy\r\n",
        "from tensorflow.keras.backend import log, epsilon\r\n",
        "def loss(y_true, y_pred):\r\n",
        "    return binary_crossentropy(y_true, y_pred) - log(dice_coefficient(y_true, y_pred) + epsilon())"
      ],
      "execution_count": 29,
      "outputs": []
    },
    {
      "cell_type": "markdown",
      "metadata": {
        "id": "Thltv_akfOMS"
      },
      "source": [
        "### Compile the model (2 marks)\n",
        "- Complie the model using below parameters\n",
        "  - loss: use the loss function defined above\n",
        "  - optimizers: use Adam optimizer\n",
        "  - metrics: use dice_coefficient function defined above"
      ]
    },
    {
      "cell_type": "code",
      "metadata": {
        "id": "atPb8xm2qkK5"
      },
      "source": [
        "#### Add your code here ####\r\n",
        "from tensorflow.keras.optimizers import Adam\r\n",
        "\r\n",
        "optimizer = Adam(lr=1e-4, beta_1=0.9, beta_2=0.999, epsilon=None, decay=0.0, amsgrad=False)\r\n",
        "model.compile(loss=loss, optimizer=optimizer, metrics=[dice_coefficient])"
      ],
      "execution_count": 30,
      "outputs": []
    },
    {
      "cell_type": "markdown",
      "metadata": {
        "id": "VTumZyg0fuVy"
      },
      "source": [
        "### Define callbacks (2 marks)\n",
        "- Use ModelCheckpoint\n",
        "- Use EarlyStopping\n",
        "- Use ReduceLROnPlateau"
      ]
    },
    {
      "cell_type": "code",
      "metadata": {
        "id": "QNlQHt8DMy7h",
        "colab": {
          "base_uri": "https://localhost:8080/"
        },
        "outputId": "5dcef5c3-77ea-4f19-96df-99aa253e764a"
      },
      "source": [
        "#### Add your code here ####\r\n",
        "from tensorflow.keras.callbacks import ModelCheckpoint, EarlyStopping, ReduceLROnPlateau\r\n",
        "checkpoint = ModelCheckpoint(\"model-{loss:.2f}.h5\", monitor=\"loss\", verbose=1, save_best_only=True,\r\n",
        "                             save_weights_only=True, mode=\"min\", period=1)\r\n",
        "stop = EarlyStopping(monitor=\"loss\", patience=5, mode=\"min\")\r\n",
        "reduce_lr = ReduceLROnPlateau(monitor=\"loss\", factor=0.2, patience=5, min_lr=1e-6, verbose=1, mode=\"min\")"
      ],
      "execution_count": 31,
      "outputs": [
        {
          "output_type": "stream",
          "text": [
            "WARNING:tensorflow:`period` argument is deprecated. Please use `save_freq` to specify the frequency in number of batches seen.\n"
          ],
          "name": "stdout"
        }
      ]
    },
    {
      "cell_type": "markdown",
      "metadata": {
        "id": "LxxbwvXEf07e"
      },
      "source": [
        "### Fit the model (2 marks)\n",
        "- Fit the model using below parameters\n",
        "  - epochs: you can decide\n",
        "  - batch_size: 1\n",
        "  - callbacks: use the callbacks defined above"
      ]
    },
    {
      "cell_type": "code",
      "metadata": {
        "id": "guFfKsEmq58j",
        "colab": {
          "base_uri": "https://localhost:8080/"
        },
        "outputId": "3a9b819e-99ce-43d0-f534-c82b240a5c94"
      },
      "source": [
        "#### Add your code here ####\r\n",
        "model.fit(X_train,y_train,\r\n",
        "                    epochs=200,\r\n",
        "                    callbacks=[checkpoint, reduce_lr, stop],\r\n",
        "                    workers=1,batch_size=1,\r\n",
        "                    use_multiprocessing=False,\r\n",
        "                    shuffle=True,\r\n",
        "                    verbose=1)"
      ],
      "execution_count": 32,
      "outputs": [
        {
          "output_type": "stream",
          "text": [
            "Epoch 1/200\n",
            "400/400 [==============================] - 28s 45ms/step - loss: 1.8047 - dice_coefficient: 0.2830\n",
            "\n",
            "Epoch 00001: loss improved from inf to 1.59050, saving model to model-1.59.h5\n",
            "Epoch 2/200\n",
            "400/400 [==============================] - 18s 46ms/step - loss: 1.2226 - dice_coefficient: 0.4031\n",
            "\n",
            "Epoch 00002: loss improved from 1.59050 to 1.20403, saving model to model-1.20.h5\n",
            "Epoch 3/200\n",
            "400/400 [==============================] - 18s 46ms/step - loss: 0.9955 - dice_coefficient: 0.4713\n",
            "\n",
            "Epoch 00003: loss improved from 1.20403 to 1.04176, saving model to model-1.04.h5\n",
            "Epoch 4/200\n",
            "400/400 [==============================] - 18s 46ms/step - loss: 0.9365 - dice_coefficient: 0.4875\n",
            "\n",
            "Epoch 00004: loss improved from 1.04176 to 0.94207, saving model to model-0.94.h5\n",
            "Epoch 5/200\n",
            "400/400 [==============================] - 18s 46ms/step - loss: 0.8931 - dice_coefficient: 0.5100\n",
            "\n",
            "Epoch 00005: loss improved from 0.94207 to 0.88587, saving model to model-0.89.h5\n",
            "Epoch 6/200\n",
            "400/400 [==============================] - 19s 47ms/step - loss: 0.8895 - dice_coefficient: 0.5217\n",
            "\n",
            "Epoch 00006: loss improved from 0.88587 to 0.84758, saving model to model-0.85.h5\n",
            "Epoch 7/200\n",
            "400/400 [==============================] - 19s 47ms/step - loss: 0.7955 - dice_coefficient: 0.5385\n",
            "\n",
            "Epoch 00007: loss improved from 0.84758 to 0.80650, saving model to model-0.81.h5\n",
            "Epoch 8/200\n",
            "400/400 [==============================] - 19s 47ms/step - loss: 0.7419 - dice_coefficient: 0.5519\n",
            "\n",
            "Epoch 00008: loss improved from 0.80650 to 0.78303, saving model to model-0.78.h5\n",
            "Epoch 9/200\n",
            "400/400 [==============================] - 19s 47ms/step - loss: 0.7517 - dice_coefficient: 0.5602\n",
            "\n",
            "Epoch 00009: loss improved from 0.78303 to 0.76403, saving model to model-0.76.h5\n",
            "Epoch 10/200\n",
            "400/400 [==============================] - 19s 47ms/step - loss: 0.7200 - dice_coefficient: 0.5770\n",
            "\n",
            "Epoch 00010: loss improved from 0.76403 to 0.73324, saving model to model-0.73.h5\n",
            "Epoch 11/200\n",
            "400/400 [==============================] - 19s 47ms/step - loss: 0.7037 - dice_coefficient: 0.5829\n",
            "\n",
            "Epoch 00011: loss improved from 0.73324 to 0.71597, saving model to model-0.72.h5\n",
            "Epoch 12/200\n",
            "400/400 [==============================] - 19s 47ms/step - loss: 0.6794 - dice_coefficient: 0.5962\n",
            "\n",
            "Epoch 00012: loss improved from 0.71597 to 0.69129, saving model to model-0.69.h5\n",
            "Epoch 13/200\n",
            "400/400 [==============================] - 19s 47ms/step - loss: 0.6675 - dice_coefficient: 0.6017\n",
            "\n",
            "Epoch 00013: loss improved from 0.69129 to 0.67317, saving model to model-0.67.h5\n",
            "Epoch 14/200\n",
            "400/400 [==============================] - 19s 47ms/step - loss: 0.6713 - dice_coefficient: 0.6128\n",
            "\n",
            "Epoch 00014: loss improved from 0.67317 to 0.65664, saving model to model-0.66.h5\n",
            "Epoch 15/200\n",
            "400/400 [==============================] - 19s 47ms/step - loss: 0.6083 - dice_coefficient: 0.6194\n",
            "\n",
            "Epoch 00015: loss improved from 0.65664 to 0.64078, saving model to model-0.64.h5\n",
            "Epoch 16/200\n",
            "400/400 [==============================] - 19s 48ms/step - loss: 0.6111 - dice_coefficient: 0.6256\n",
            "\n",
            "Epoch 00016: loss improved from 0.64078 to 0.62841, saving model to model-0.63.h5\n",
            "Epoch 17/200\n",
            "400/400 [==============================] - 19s 48ms/step - loss: 0.6078 - dice_coefficient: 0.6345\n",
            "\n",
            "Epoch 00017: loss improved from 0.62841 to 0.61743, saving model to model-0.62.h5\n",
            "Epoch 18/200\n",
            "400/400 [==============================] - 19s 48ms/step - loss: 0.6326 - dice_coefficient: 0.6365\n",
            "\n",
            "Epoch 00018: loss improved from 0.61743 to 0.59994, saving model to model-0.60.h5\n",
            "Epoch 19/200\n",
            "400/400 [==============================] - 19s 48ms/step - loss: 0.5787 - dice_coefficient: 0.6428\n",
            "\n",
            "Epoch 00019: loss improved from 0.59994 to 0.58972, saving model to model-0.59.h5\n",
            "Epoch 20/200\n",
            "400/400 [==============================] - 19s 48ms/step - loss: 0.5518 - dice_coefficient: 0.6511\n",
            "\n",
            "Epoch 00020: loss improved from 0.58972 to 0.57488, saving model to model-0.57.h5\n",
            "Epoch 21/200\n",
            "400/400 [==============================] - 19s 48ms/step - loss: 0.5352 - dice_coefficient: 0.6606\n",
            "\n",
            "Epoch 00021: loss improved from 0.57488 to 0.56352, saving model to model-0.56.h5\n",
            "Epoch 22/200\n",
            "400/400 [==============================] - 19s 48ms/step - loss: 0.5338 - dice_coefficient: 0.6616\n",
            "\n",
            "Epoch 00022: loss improved from 0.56352 to 0.55154, saving model to model-0.55.h5\n",
            "Epoch 23/200\n",
            "400/400 [==============================] - 19s 48ms/step - loss: 0.5226 - dice_coefficient: 0.6797\n",
            "\n",
            "Epoch 00023: loss improved from 0.55154 to 0.54084, saving model to model-0.54.h5\n",
            "Epoch 24/200\n",
            "400/400 [==============================] - 19s 48ms/step - loss: 0.5216 - dice_coefficient: 0.6790\n",
            "\n",
            "Epoch 00024: loss did not improve from 0.54084\n",
            "Epoch 25/200\n",
            "400/400 [==============================] - 19s 48ms/step - loss: 0.5838 - dice_coefficient: 0.6789\n",
            "\n",
            "Epoch 00025: loss improved from 0.54084 to 0.52890, saving model to model-0.53.h5\n",
            "Epoch 26/200\n",
            "400/400 [==============================] - 19s 48ms/step - loss: 0.5601 - dice_coefficient: 0.6896\n",
            "\n",
            "Epoch 00026: loss improved from 0.52890 to 0.50630, saving model to model-0.51.h5\n",
            "Epoch 27/200\n",
            "400/400 [==============================] - 19s 48ms/step - loss: 0.4839 - dice_coefficient: 0.6975\n",
            "\n",
            "Epoch 00027: loss improved from 0.50630 to 0.49138, saving model to model-0.49.h5\n",
            "Epoch 28/200\n",
            "400/400 [==============================] - 19s 48ms/step - loss: 0.4618 - dice_coefficient: 0.7064\n",
            "\n",
            "Epoch 00028: loss improved from 0.49138 to 0.47949, saving model to model-0.48.h5\n",
            "Epoch 29/200\n",
            "400/400 [==============================] - 19s 48ms/step - loss: 0.4724 - dice_coefficient: 0.7148\n",
            "\n",
            "Epoch 00029: loss improved from 0.47949 to 0.47061, saving model to model-0.47.h5\n",
            "Epoch 30/200\n",
            "400/400 [==============================] - 19s 48ms/step - loss: 0.4687 - dice_coefficient: 0.7266\n",
            "\n",
            "Epoch 00030: loss improved from 0.47061 to 0.46285, saving model to model-0.46.h5\n",
            "Epoch 31/200\n",
            "400/400 [==============================] - 19s 48ms/step - loss: 0.4671 - dice_coefficient: 0.7266\n",
            "\n",
            "Epoch 00031: loss improved from 0.46285 to 0.45494, saving model to model-0.45.h5\n",
            "Epoch 32/200\n",
            "400/400 [==============================] - 19s 48ms/step - loss: 0.4239 - dice_coefficient: 0.7282\n",
            "\n",
            "Epoch 00032: loss improved from 0.45494 to 0.44804, saving model to model-0.45.h5\n",
            "Epoch 33/200\n",
            "400/400 [==============================] - 19s 48ms/step - loss: 0.4792 - dice_coefficient: 0.7333\n",
            "\n",
            "Epoch 00033: loss improved from 0.44804 to 0.44026, saving model to model-0.44.h5\n",
            "Epoch 34/200\n",
            "400/400 [==============================] - 19s 48ms/step - loss: 0.4612 - dice_coefficient: 0.7334\n",
            "\n",
            "Epoch 00034: loss improved from 0.44026 to 0.43386, saving model to model-0.43.h5\n",
            "Epoch 35/200\n",
            "400/400 [==============================] - 19s 48ms/step - loss: 0.4250 - dice_coefficient: 0.7436\n",
            "\n",
            "Epoch 00035: loss did not improve from 0.43386\n",
            "Epoch 36/200\n",
            "400/400 [==============================] - 19s 48ms/step - loss: 0.3967 - dice_coefficient: 0.7455\n",
            "\n",
            "Epoch 00036: loss improved from 0.43386 to 0.43090, saving model to model-0.43.h5\n",
            "Epoch 37/200\n",
            "400/400 [==============================] - 19s 48ms/step - loss: 0.3831 - dice_coefficient: 0.7532\n",
            "\n",
            "Epoch 00037: loss improved from 0.43090 to 0.40997, saving model to model-0.41.h5\n",
            "Epoch 38/200\n",
            "400/400 [==============================] - 19s 48ms/step - loss: 0.6239 - dice_coefficient: 0.7445\n",
            "\n",
            "Epoch 00038: loss improved from 0.40997 to 0.39503, saving model to model-0.40.h5\n",
            "Epoch 39/200\n",
            "400/400 [==============================] - 19s 48ms/step - loss: 0.3610 - dice_coefficient: 0.7662\n",
            "\n",
            "Epoch 00039: loss improved from 0.39503 to 0.38895, saving model to model-0.39.h5\n",
            "Epoch 40/200\n",
            "400/400 [==============================] - 19s 48ms/step - loss: 0.4399 - dice_coefficient: 0.7638\n",
            "\n",
            "Epoch 00040: loss improved from 0.38895 to 0.38524, saving model to model-0.39.h5\n",
            "Epoch 41/200\n",
            "400/400 [==============================] - 19s 48ms/step - loss: 0.4253 - dice_coefficient: 0.7662\n",
            "\n",
            "Epoch 00041: loss improved from 0.38524 to 0.37941, saving model to model-0.38.h5\n",
            "Epoch 42/200\n",
            "400/400 [==============================] - 19s 48ms/step - loss: 0.3773 - dice_coefficient: 0.7715\n",
            "\n",
            "Epoch 00042: loss improved from 0.37941 to 0.37374, saving model to model-0.37.h5\n",
            "Epoch 43/200\n",
            "400/400 [==============================] - 19s 48ms/step - loss: 0.3715 - dice_coefficient: 0.7812\n",
            "\n",
            "Epoch 00043: loss improved from 0.37374 to 0.37031, saving model to model-0.37.h5\n",
            "Epoch 44/200\n",
            "400/400 [==============================] - 19s 48ms/step - loss: 0.4364 - dice_coefficient: 0.7764\n",
            "\n",
            "Epoch 00044: loss improved from 0.37031 to 0.36600, saving model to model-0.37.h5\n",
            "Epoch 45/200\n",
            "400/400 [==============================] - 19s 48ms/step - loss: 0.3289 - dice_coefficient: 0.7879\n",
            "\n",
            "Epoch 00045: loss improved from 0.36600 to 0.36078, saving model to model-0.36.h5\n",
            "Epoch 46/200\n",
            "400/400 [==============================] - 19s 48ms/step - loss: 0.3367 - dice_coefficient: 0.7881\n",
            "\n",
            "Epoch 00046: loss improved from 0.36078 to 0.35531, saving model to model-0.36.h5\n",
            "Epoch 47/200\n",
            "400/400 [==============================] - 19s 48ms/step - loss: 0.3457 - dice_coefficient: 0.7893\n",
            "\n",
            "Epoch 00047: loss improved from 0.35531 to 0.35100, saving model to model-0.35.h5\n",
            "Epoch 48/200\n",
            "400/400 [==============================] - 19s 48ms/step - loss: 0.3483 - dice_coefficient: 0.7935\n",
            "\n",
            "Epoch 00048: loss improved from 0.35100 to 0.34415, saving model to model-0.34.h5\n",
            "Epoch 49/200\n",
            "400/400 [==============================] - 19s 48ms/step - loss: 0.3193 - dice_coefficient: 0.7985\n",
            "\n",
            "Epoch 00049: loss improved from 0.34415 to 0.33839, saving model to model-0.34.h5\n",
            "Epoch 50/200\n",
            "400/400 [==============================] - 19s 48ms/step - loss: 0.3124 - dice_coefficient: 0.7992\n",
            "\n",
            "Epoch 00050: loss improved from 0.33839 to 0.33352, saving model to model-0.33.h5\n",
            "Epoch 51/200\n",
            "400/400 [==============================] - 19s 48ms/step - loss: 0.3370 - dice_coefficient: 0.8059\n",
            "\n",
            "Epoch 00051: loss improved from 0.33352 to 0.32927, saving model to model-0.33.h5\n",
            "Epoch 52/200\n",
            "400/400 [==============================] - 19s 48ms/step - loss: 0.2898 - dice_coefficient: 0.8116\n",
            "\n",
            "Epoch 00052: loss improved from 0.32927 to 0.32335, saving model to model-0.32.h5\n",
            "Epoch 53/200\n",
            "400/400 [==============================] - 19s 48ms/step - loss: 0.3116 - dice_coefficient: 0.8181\n",
            "\n",
            "Epoch 00053: loss improved from 0.32335 to 0.32108, saving model to model-0.32.h5\n",
            "Epoch 54/200\n",
            "400/400 [==============================] - 19s 48ms/step - loss: 0.3489 - dice_coefficient: 0.8146\n",
            "\n",
            "Epoch 00054: loss improved from 0.32108 to 0.32035, saving model to model-0.32.h5\n",
            "Epoch 55/200\n",
            "400/400 [==============================] - 19s 48ms/step - loss: 0.2958 - dice_coefficient: 0.8200\n",
            "\n",
            "Epoch 00055: loss improved from 0.32035 to 0.31315, saving model to model-0.31.h5\n",
            "Epoch 56/200\n",
            "400/400 [==============================] - 19s 48ms/step - loss: 0.4387 - dice_coefficient: 0.8131\n",
            "\n",
            "Epoch 00056: loss improved from 0.31315 to 0.31067, saving model to model-0.31.h5\n",
            "Epoch 57/200\n",
            "400/400 [==============================] - 19s 48ms/step - loss: 0.3267 - dice_coefficient: 0.8210\n",
            "\n",
            "Epoch 00057: loss improved from 0.31067 to 0.30558, saving model to model-0.31.h5\n",
            "Epoch 58/200\n",
            "400/400 [==============================] - 19s 48ms/step - loss: 0.3546 - dice_coefficient: 0.8240\n",
            "\n",
            "Epoch 00058: loss improved from 0.30558 to 0.29709, saving model to model-0.30.h5\n",
            "Epoch 59/200\n",
            "400/400 [==============================] - 19s 48ms/step - loss: 0.3152 - dice_coefficient: 0.8283\n",
            "\n",
            "Epoch 00059: loss improved from 0.29709 to 0.29254, saving model to model-0.29.h5\n",
            "Epoch 60/200\n",
            "400/400 [==============================] - 19s 48ms/step - loss: 0.2627 - dice_coefficient: 0.8294\n",
            "\n",
            "Epoch 00060: loss improved from 0.29254 to 0.28978, saving model to model-0.29.h5\n",
            "Epoch 61/200\n",
            "400/400 [==============================] - 19s 48ms/step - loss: 0.3337 - dice_coefficient: 0.8360\n",
            "\n",
            "Epoch 00061: loss improved from 0.28978 to 0.28607, saving model to model-0.29.h5\n",
            "Epoch 62/200\n",
            "400/400 [==============================] - 19s 48ms/step - loss: 0.3346 - dice_coefficient: 0.8338\n",
            "\n",
            "Epoch 00062: loss improved from 0.28607 to 0.28240, saving model to model-0.28.h5\n",
            "Epoch 63/200\n",
            "400/400 [==============================] - 19s 48ms/step - loss: 0.2874 - dice_coefficient: 0.8412\n",
            "\n",
            "Epoch 00063: loss improved from 0.28240 to 0.28039, saving model to model-0.28.h5\n",
            "Epoch 64/200\n",
            "400/400 [==============================] - 19s 48ms/step - loss: 0.2488 - dice_coefficient: 0.8413\n",
            "\n",
            "Epoch 00064: loss improved from 0.28039 to 0.27865, saving model to model-0.28.h5\n",
            "Epoch 65/200\n",
            "400/400 [==============================] - 19s 48ms/step - loss: 0.2970 - dice_coefficient: 0.8398\n",
            "\n",
            "Epoch 00065: loss improved from 0.27865 to 0.27816, saving model to model-0.28.h5\n",
            "Epoch 66/200\n",
            "400/400 [==============================] - 19s 48ms/step - loss: 0.2427 - dice_coefficient: 0.8442\n",
            "\n",
            "Epoch 00066: loss improved from 0.27816 to 0.27487, saving model to model-0.27.h5\n",
            "Epoch 67/200\n",
            "400/400 [==============================] - 19s 48ms/step - loss: 0.2329 - dice_coefficient: 0.8486\n",
            "\n",
            "Epoch 00067: loss improved from 0.27487 to 0.27124, saving model to model-0.27.h5\n",
            "Epoch 68/200\n",
            "400/400 [==============================] - 19s 48ms/step - loss: 0.2402 - dice_coefficient: 0.8501\n",
            "\n",
            "Epoch 00068: loss improved from 0.27124 to 0.26913, saving model to model-0.27.h5\n",
            "Epoch 69/200\n",
            "400/400 [==============================] - 19s 48ms/step - loss: 0.2606 - dice_coefficient: 0.8501\n",
            "\n",
            "Epoch 00069: loss improved from 0.26913 to 0.26559, saving model to model-0.27.h5\n",
            "Epoch 70/200\n",
            "400/400 [==============================] - 19s 48ms/step - loss: 0.2476 - dice_coefficient: 0.8492\n",
            "\n",
            "Epoch 00070: loss improved from 0.26559 to 0.26178, saving model to model-0.26.h5\n",
            "Epoch 71/200\n",
            "400/400 [==============================] - 19s 48ms/step - loss: 0.3081 - dice_coefficient: 0.8505\n",
            "\n",
            "Epoch 00071: loss improved from 0.26178 to 0.25892, saving model to model-0.26.h5\n",
            "Epoch 72/200\n",
            "400/400 [==============================] - 19s 48ms/step - loss: 0.3316 - dice_coefficient: 0.8505\n",
            "\n",
            "Epoch 00072: loss improved from 0.25892 to 0.25555, saving model to model-0.26.h5\n",
            "Epoch 73/200\n",
            "400/400 [==============================] - 19s 48ms/step - loss: 0.2439 - dice_coefficient: 0.8563\n",
            "\n",
            "Epoch 00073: loss improved from 0.25555 to 0.25329, saving model to model-0.25.h5\n",
            "Epoch 74/200\n",
            "400/400 [==============================] - 19s 48ms/step - loss: 0.2181 - dice_coefficient: 0.8620\n",
            "\n",
            "Epoch 00074: loss improved from 0.25329 to 0.25239, saving model to model-0.25.h5\n",
            "Epoch 75/200\n",
            "400/400 [==============================] - 19s 48ms/step - loss: 0.2986 - dice_coefficient: 0.8557\n",
            "\n",
            "Epoch 00075: loss improved from 0.25239 to 0.25134, saving model to model-0.25.h5\n",
            "Epoch 76/200\n",
            "400/400 [==============================] - 19s 48ms/step - loss: 0.3074 - dice_coefficient: 0.8564\n",
            "\n",
            "Epoch 00076: loss improved from 0.25134 to 0.24930, saving model to model-0.25.h5\n",
            "Epoch 77/200\n",
            "400/400 [==============================] - 19s 48ms/step - loss: 0.2683 - dice_coefficient: 0.8557\n",
            "\n",
            "Epoch 00077: loss did not improve from 0.24930\n",
            "Epoch 78/200\n",
            "400/400 [==============================] - 19s 48ms/step - loss: 0.2191 - dice_coefficient: 0.8664\n",
            "\n",
            "Epoch 00078: loss improved from 0.24930 to 0.24479, saving model to model-0.24.h5\n",
            "Epoch 79/200\n",
            "400/400 [==============================] - 19s 48ms/step - loss: 0.2170 - dice_coefficient: 0.8705\n",
            "\n",
            "Epoch 00079: loss improved from 0.24479 to 0.24277, saving model to model-0.24.h5\n",
            "Epoch 80/200\n",
            "400/400 [==============================] - 19s 48ms/step - loss: 0.2858 - dice_coefficient: 0.8658\n",
            "\n",
            "Epoch 00080: loss improved from 0.24277 to 0.23938, saving model to model-0.24.h5\n",
            "Epoch 81/200\n",
            "400/400 [==============================] - 19s 48ms/step - loss: 0.2533 - dice_coefficient: 0.8674\n",
            "\n",
            "Epoch 00081: loss improved from 0.23938 to 0.23630, saving model to model-0.24.h5\n",
            "Epoch 82/200\n",
            "400/400 [==============================] - 19s 48ms/step - loss: 0.2077 - dice_coefficient: 0.8736\n",
            "\n",
            "Epoch 00082: loss improved from 0.23630 to 0.23429, saving model to model-0.23.h5\n",
            "Epoch 83/200\n",
            "400/400 [==============================] - 19s 48ms/step - loss: 0.1944 - dice_coefficient: 0.8776\n",
            "\n",
            "Epoch 00083: loss improved from 0.23429 to 0.23292, saving model to model-0.23.h5\n",
            "Epoch 84/200\n",
            "400/400 [==============================] - 19s 48ms/step - loss: 0.2117 - dice_coefficient: 0.8695\n",
            "\n",
            "Epoch 00084: loss improved from 0.23292 to 0.23227, saving model to model-0.23.h5\n",
            "Epoch 85/200\n",
            "400/400 [==============================] - 19s 48ms/step - loss: 0.2020 - dice_coefficient: 0.8721\n",
            "\n",
            "Epoch 00085: loss improved from 0.23227 to 0.23119, saving model to model-0.23.h5\n",
            "Epoch 86/200\n",
            "400/400 [==============================] - 19s 48ms/step - loss: 0.2355 - dice_coefficient: 0.8762\n",
            "\n",
            "Epoch 00086: loss improved from 0.23119 to 0.22899, saving model to model-0.23.h5\n",
            "Epoch 87/200\n",
            "400/400 [==============================] - 19s 48ms/step - loss: 0.1923 - dice_coefficient: 0.8806\n",
            "\n",
            "Epoch 00087: loss improved from 0.22899 to 0.22755, saving model to model-0.23.h5\n",
            "Epoch 88/200\n",
            "400/400 [==============================] - 19s 48ms/step - loss: 0.2647 - dice_coefficient: 0.8754\n",
            "\n",
            "Epoch 00088: loss improved from 0.22755 to 0.22635, saving model to model-0.23.h5\n",
            "Epoch 89/200\n",
            "400/400 [==============================] - 19s 48ms/step - loss: 0.1996 - dice_coefficient: 0.8780\n",
            "\n",
            "Epoch 00089: loss improved from 0.22635 to 0.22522, saving model to model-0.23.h5\n",
            "Epoch 90/200\n",
            "400/400 [==============================] - 19s 48ms/step - loss: 0.1923 - dice_coefficient: 0.8835\n",
            "\n",
            "Epoch 00090: loss improved from 0.22522 to 0.22363, saving model to model-0.22.h5\n",
            "Epoch 91/200\n",
            "400/400 [==============================] - 19s 48ms/step - loss: 0.2044 - dice_coefficient: 0.8835\n",
            "\n",
            "Epoch 00091: loss improved from 0.22363 to 0.22106, saving model to model-0.22.h5\n",
            "Epoch 92/200\n",
            "400/400 [==============================] - 19s 48ms/step - loss: 0.2058 - dice_coefficient: 0.8853\n",
            "\n",
            "Epoch 00092: loss improved from 0.22106 to 0.21966, saving model to model-0.22.h5\n",
            "Epoch 93/200\n",
            "400/400 [==============================] - 19s 48ms/step - loss: 0.1832 - dice_coefficient: 0.8847\n",
            "\n",
            "Epoch 00093: loss did not improve from 0.21966\n",
            "Epoch 94/200\n",
            "400/400 [==============================] - 19s 48ms/step - loss: 0.1929 - dice_coefficient: 0.8846\n",
            "\n",
            "Epoch 00094: loss did not improve from 0.21966\n",
            "Epoch 95/200\n",
            "400/400 [==============================] - 19s 48ms/step - loss: 0.2346 - dice_coefficient: 0.8829\n",
            "\n",
            "Epoch 00095: loss improved from 0.21966 to 0.21706, saving model to model-0.22.h5\n",
            "Epoch 96/200\n",
            "400/400 [==============================] - 19s 48ms/step - loss: 0.3657 - dice_coefficient: 0.8779\n",
            "\n",
            "Epoch 00096: loss improved from 0.21706 to 0.21264, saving model to model-0.21.h5\n",
            "Epoch 97/200\n",
            "400/400 [==============================] - 19s 48ms/step - loss: 0.2312 - dice_coefficient: 0.8866\n",
            "\n",
            "Epoch 00097: loss improved from 0.21264 to 0.21008, saving model to model-0.21.h5\n",
            "Epoch 98/200\n",
            "400/400 [==============================] - 19s 48ms/step - loss: 0.2309 - dice_coefficient: 0.8878\n",
            "\n",
            "Epoch 00098: loss did not improve from 0.21008\n",
            "Epoch 99/200\n",
            "400/400 [==============================] - 19s 48ms/step - loss: 0.2732 - dice_coefficient: 0.8849\n",
            "\n",
            "Epoch 00099: loss did not improve from 0.21008\n",
            "Epoch 100/200\n",
            "400/400 [==============================] - 19s 48ms/step - loss: 0.1997 - dice_coefficient: 0.8878\n",
            "\n",
            "Epoch 00100: loss improved from 0.21008 to 0.20925, saving model to model-0.21.h5\n",
            "Epoch 101/200\n",
            "400/400 [==============================] - 19s 48ms/step - loss: 0.1858 - dice_coefficient: 0.8898\n",
            "\n",
            "Epoch 00101: loss improved from 0.20925 to 0.20796, saving model to model-0.21.h5\n",
            "Epoch 102/200\n",
            "400/400 [==============================] - 19s 48ms/step - loss: 0.1979 - dice_coefficient: 0.8912\n",
            "\n",
            "Epoch 00102: loss improved from 0.20796 to 0.20664, saving model to model-0.21.h5\n",
            "Epoch 103/200\n",
            "400/400 [==============================] - 19s 48ms/step - loss: 0.1798 - dice_coefficient: 0.8942\n",
            "\n",
            "Epoch 00103: loss improved from 0.20664 to 0.20590, saving model to model-0.21.h5\n",
            "Epoch 104/200\n",
            "400/400 [==============================] - 19s 48ms/step - loss: 0.1942 - dice_coefficient: 0.8909\n",
            "\n",
            "Epoch 00104: loss improved from 0.20590 to 0.20543, saving model to model-0.21.h5\n",
            "Epoch 105/200\n",
            "400/400 [==============================] - 19s 48ms/step - loss: 0.1858 - dice_coefficient: 0.8947\n",
            "\n",
            "Epoch 00105: loss improved from 0.20543 to 0.20474, saving model to model-0.20.h5\n",
            "Epoch 106/200\n",
            "400/400 [==============================] - 19s 48ms/step - loss: 0.1854 - dice_coefficient: 0.8952\n",
            "\n",
            "Epoch 00106: loss improved from 0.20474 to 0.20380, saving model to model-0.20.h5\n",
            "Epoch 107/200\n",
            "400/400 [==============================] - 19s 48ms/step - loss: 0.1929 - dice_coefficient: 0.8947\n",
            "\n",
            "Epoch 00107: loss improved from 0.20380 to 0.20291, saving model to model-0.20.h5\n",
            "Epoch 108/200\n",
            "400/400 [==============================] - 19s 48ms/step - loss: 0.2390 - dice_coefficient: 0.8954\n",
            "\n",
            "Epoch 00108: loss improved from 0.20291 to 0.20130, saving model to model-0.20.h5\n",
            "Epoch 109/200\n",
            "400/400 [==============================] - 19s 48ms/step - loss: 0.2294 - dice_coefficient: 0.8946\n",
            "\n",
            "Epoch 00109: loss improved from 0.20130 to 0.20120, saving model to model-0.20.h5\n",
            "Epoch 110/200\n",
            "400/400 [==============================] - 19s 48ms/step - loss: 0.1810 - dice_coefficient: 0.8986\n",
            "\n",
            "Epoch 00110: loss improved from 0.20120 to 0.19965, saving model to model-0.20.h5\n",
            "Epoch 111/200\n",
            "400/400 [==============================] - 19s 48ms/step - loss: 0.1972 - dice_coefficient: 0.8930\n",
            "\n",
            "Epoch 00111: loss improved from 0.19965 to 0.19872, saving model to model-0.20.h5\n",
            "Epoch 112/200\n",
            "400/400 [==============================] - 19s 48ms/step - loss: 0.1728 - dice_coefficient: 0.8964\n",
            "\n",
            "Epoch 00112: loss improved from 0.19872 to 0.19832, saving model to model-0.20.h5\n",
            "Epoch 113/200\n",
            "400/400 [==============================] - 19s 48ms/step - loss: 0.1621 - dice_coefficient: 0.9029\n",
            "\n",
            "Epoch 00113: loss improved from 0.19832 to 0.19700, saving model to model-0.20.h5\n",
            "Epoch 114/200\n",
            "400/400 [==============================] - 19s 48ms/step - loss: 0.1831 - dice_coefficient: 0.8991\n",
            "\n",
            "Epoch 00114: loss did not improve from 0.19700\n",
            "Epoch 115/200\n",
            "400/400 [==============================] - 19s 48ms/step - loss: 0.1623 - dice_coefficient: 0.9015\n",
            "\n",
            "Epoch 00115: loss improved from 0.19700 to 0.19607, saving model to model-0.20.h5\n",
            "Epoch 116/200\n",
            "400/400 [==============================] - 19s 48ms/step - loss: 0.1713 - dice_coefficient: 0.9032\n",
            "\n",
            "Epoch 00116: loss improved from 0.19607 to 0.19439, saving model to model-0.19.h5\n",
            "Epoch 117/200\n",
            "400/400 [==============================] - 19s 48ms/step - loss: 0.2463 - dice_coefficient: 0.8954\n",
            "\n",
            "Epoch 00117: loss improved from 0.19439 to 0.19355, saving model to model-0.19.h5\n",
            "Epoch 118/200\n",
            "400/400 [==============================] - 19s 48ms/step - loss: 0.2028 - dice_coefficient: 0.9006\n",
            "\n",
            "Epoch 00118: loss improved from 0.19355 to 0.19284, saving model to model-0.19.h5\n",
            "Epoch 119/200\n",
            "400/400 [==============================] - 19s 48ms/step - loss: 0.1739 - dice_coefficient: 0.9047\n",
            "\n",
            "Epoch 00119: loss improved from 0.19284 to 0.19182, saving model to model-0.19.h5\n",
            "Epoch 120/200\n",
            "400/400 [==============================] - 19s 48ms/step - loss: 0.1769 - dice_coefficient: 0.9019\n",
            "\n",
            "Epoch 00120: loss improved from 0.19182 to 0.19145, saving model to model-0.19.h5\n",
            "Epoch 121/200\n",
            "400/400 [==============================] - 19s 48ms/step - loss: 0.2180 - dice_coefficient: 0.9029\n",
            "\n",
            "Epoch 00121: loss improved from 0.19145 to 0.19056, saving model to model-0.19.h5\n",
            "Epoch 122/200\n",
            "400/400 [==============================] - 19s 48ms/step - loss: 0.2018 - dice_coefficient: 0.9025\n",
            "\n",
            "Epoch 00122: loss did not improve from 0.19056\n",
            "Epoch 123/200\n",
            "400/400 [==============================] - 19s 48ms/step - loss: 0.2068 - dice_coefficient: 0.9029\n",
            "\n",
            "Epoch 00123: loss improved from 0.19056 to 0.19049, saving model to model-0.19.h5\n",
            "Epoch 124/200\n",
            "400/400 [==============================] - 19s 48ms/step - loss: 0.1536 - dice_coefficient: 0.9042\n",
            "\n",
            "Epoch 00124: loss improved from 0.19049 to 0.18907, saving model to model-0.19.h5\n",
            "Epoch 125/200\n",
            "400/400 [==============================] - 19s 48ms/step - loss: 0.1880 - dice_coefficient: 0.9056\n",
            "\n",
            "Epoch 00125: loss improved from 0.18907 to 0.18798, saving model to model-0.19.h5\n",
            "Epoch 126/200\n",
            "400/400 [==============================] - 19s 48ms/step - loss: 0.1944 - dice_coefficient: 0.9075\n",
            "\n",
            "Epoch 00126: loss improved from 0.18798 to 0.18763, saving model to model-0.19.h5\n",
            "Epoch 127/200\n",
            "400/400 [==============================] - 19s 48ms/step - loss: 0.2045 - dice_coefficient: 0.9075\n",
            "\n",
            "Epoch 00127: loss did not improve from 0.18763\n",
            "Epoch 128/200\n",
            "400/400 [==============================] - 19s 48ms/step - loss: 0.1516 - dice_coefficient: 0.9080\n",
            "\n",
            "Epoch 00128: loss did not improve from 0.18763\n",
            "Epoch 129/200\n",
            "400/400 [==============================] - 19s 48ms/step - loss: 0.1491 - dice_coefficient: 0.9099\n",
            "\n",
            "Epoch 00129: loss improved from 0.18763 to 0.18650, saving model to model-0.19.h5\n",
            "Epoch 130/200\n",
            "400/400 [==============================] - 19s 48ms/step - loss: 0.2402 - dice_coefficient: 0.9035\n",
            "\n",
            "Epoch 00130: loss improved from 0.18650 to 0.18452, saving model to model-0.18.h5\n",
            "Epoch 131/200\n",
            "400/400 [==============================] - 19s 48ms/step - loss: 0.1869 - dice_coefficient: 0.9061\n",
            "\n",
            "Epoch 00131: loss improved from 0.18452 to 0.18416, saving model to model-0.18.h5\n",
            "Epoch 132/200\n",
            "400/400 [==============================] - 19s 48ms/step - loss: 0.1660 - dice_coefficient: 0.9076\n",
            "\n",
            "Epoch 00132: loss improved from 0.18416 to 0.18336, saving model to model-0.18.h5\n",
            "Epoch 133/200\n",
            "400/400 [==============================] - 19s 48ms/step - loss: 0.1709 - dice_coefficient: 0.9101\n",
            "\n",
            "Epoch 00133: loss did not improve from 0.18336\n",
            "Epoch 134/200\n",
            "400/400 [==============================] - 19s 48ms/step - loss: 0.2123 - dice_coefficient: 0.9049\n",
            "\n",
            "Epoch 00134: loss improved from 0.18336 to 0.18325, saving model to model-0.18.h5\n",
            "Epoch 135/200\n",
            "400/400 [==============================] - 19s 48ms/step - loss: 0.2399 - dice_coefficient: 0.9078\n",
            "\n",
            "Epoch 00135: loss improved from 0.18325 to 0.18242, saving model to model-0.18.h5\n",
            "Epoch 136/200\n",
            "400/400 [==============================] - 19s 48ms/step - loss: 0.1450 - dice_coefficient: 0.9140\n",
            "\n",
            "Epoch 00136: loss improved from 0.18242 to 0.18150, saving model to model-0.18.h5\n",
            "Epoch 137/200\n",
            "400/400 [==============================] - 19s 48ms/step - loss: 0.1754 - dice_coefficient: 0.9110\n",
            "\n",
            "Epoch 00137: loss improved from 0.18150 to 0.18108, saving model to model-0.18.h5\n",
            "Epoch 138/200\n",
            "400/400 [==============================] - 19s 48ms/step - loss: 0.1549 - dice_coefficient: 0.9121\n",
            "\n",
            "Epoch 00138: loss did not improve from 0.18108\n",
            "Epoch 139/200\n",
            "400/400 [==============================] - 19s 48ms/step - loss: 0.1831 - dice_coefficient: 0.9071\n",
            "\n",
            "Epoch 00139: loss did not improve from 0.18108\n",
            "Epoch 140/200\n",
            "400/400 [==============================] - 19s 48ms/step - loss: 0.1444 - dice_coefficient: 0.9128\n",
            "\n",
            "Epoch 00140: loss improved from 0.18108 to 0.18048, saving model to model-0.18.h5\n",
            "Epoch 141/200\n",
            "400/400 [==============================] - 19s 48ms/step - loss: 0.1568 - dice_coefficient: 0.9128\n",
            "\n",
            "Epoch 00141: loss improved from 0.18048 to 0.18043, saving model to model-0.18.h5\n",
            "Epoch 142/200\n",
            "400/400 [==============================] - 19s 48ms/step - loss: 0.1456 - dice_coefficient: 0.9127\n",
            "\n",
            "Epoch 00142: loss improved from 0.18043 to 0.17930, saving model to model-0.18.h5\n",
            "Epoch 143/200\n",
            "400/400 [==============================] - 19s 48ms/step - loss: 0.1596 - dice_coefficient: 0.9115\n",
            "\n",
            "Epoch 00143: loss improved from 0.17930 to 0.17874, saving model to model-0.18.h5\n",
            "Epoch 144/200\n",
            "400/400 [==============================] - 19s 48ms/step - loss: 0.1498 - dice_coefficient: 0.9149\n",
            "\n",
            "Epoch 00144: loss did not improve from 0.17874\n",
            "Epoch 145/200\n",
            "400/400 [==============================] - 19s 48ms/step - loss: 0.1483 - dice_coefficient: 0.9136\n",
            "\n",
            "Epoch 00145: loss improved from 0.17874 to 0.17788, saving model to model-0.18.h5\n",
            "Epoch 146/200\n",
            "400/400 [==============================] - 19s 48ms/step - loss: 0.1926 - dice_coefficient: 0.9125\n",
            "\n",
            "Epoch 00146: loss improved from 0.17788 to 0.17709, saving model to model-0.18.h5\n",
            "Epoch 147/200\n",
            "400/400 [==============================] - 19s 48ms/step - loss: 0.1499 - dice_coefficient: 0.9151\n",
            "\n",
            "Epoch 00147: loss did not improve from 0.17709\n",
            "Epoch 148/200\n",
            "400/400 [==============================] - 19s 48ms/step - loss: 0.1516 - dice_coefficient: 0.9121\n",
            "\n",
            "Epoch 00148: loss did not improve from 0.17709\n",
            "Epoch 149/200\n",
            "400/400 [==============================] - 19s 48ms/step - loss: 0.1700 - dice_coefficient: 0.9134\n",
            "\n",
            "Epoch 00149: loss did not improve from 0.17709\n",
            "Epoch 150/200\n",
            "400/400 [==============================] - 19s 48ms/step - loss: 0.1572 - dice_coefficient: 0.9114\n",
            "\n",
            "Epoch 00150: loss did not improve from 0.17709\n",
            "Epoch 151/200\n",
            "400/400 [==============================] - 19s 48ms/step - loss: 0.1451 - dice_coefficient: 0.9130\n",
            "\n",
            "Epoch 00151: loss improved from 0.17709 to 0.17708, saving model to model-0.18.h5\n",
            "\n",
            "Epoch 00151: ReduceLROnPlateau reducing learning rate to 1.9999999494757503e-05.\n",
            "Epoch 152/200\n",
            "400/400 [==============================] - 19s 48ms/step - loss: 0.1742 - dice_coefficient: 0.9123\n",
            "\n",
            "Epoch 00152: loss improved from 0.17708 to 0.17338, saving model to model-0.17.h5\n",
            "Epoch 153/200\n",
            "400/400 [==============================] - 19s 48ms/step - loss: 0.1571 - dice_coefficient: 0.9177\n",
            "\n",
            "Epoch 00153: loss improved from 0.17338 to 0.17003, saving model to model-0.17.h5\n",
            "Epoch 154/200\n",
            "400/400 [==============================] - 19s 48ms/step - loss: 0.1454 - dice_coefficient: 0.9189\n",
            "\n",
            "Epoch 00154: loss improved from 0.17003 to 0.16873, saving model to model-0.17.h5\n",
            "Epoch 155/200\n",
            "400/400 [==============================] - 19s 48ms/step - loss: 0.1319 - dice_coefficient: 0.9180\n",
            "\n",
            "Epoch 00155: loss improved from 0.16873 to 0.16796, saving model to model-0.17.h5\n",
            "Epoch 156/200\n",
            "400/400 [==============================] - 19s 48ms/step - loss: 0.1492 - dice_coefficient: 0.9192\n",
            "\n",
            "Epoch 00156: loss improved from 0.16796 to 0.16741, saving model to model-0.17.h5\n",
            "Epoch 157/200\n",
            "400/400 [==============================] - 19s 48ms/step - loss: 0.2724 - dice_coefficient: 0.9121\n",
            "\n",
            "Epoch 00157: loss improved from 0.16741 to 0.16701, saving model to model-0.17.h5\n",
            "Epoch 158/200\n",
            "400/400 [==============================] - 19s 48ms/step - loss: 0.1379 - dice_coefficient: 0.9186\n",
            "\n",
            "Epoch 00158: loss improved from 0.16701 to 0.16672, saving model to model-0.17.h5\n",
            "Epoch 159/200\n",
            "400/400 [==============================] - 19s 48ms/step - loss: 0.1568 - dice_coefficient: 0.9205\n",
            "\n",
            "Epoch 00159: loss improved from 0.16672 to 0.16642, saving model to model-0.17.h5\n",
            "Epoch 160/200\n",
            "400/400 [==============================] - 19s 48ms/step - loss: 0.1313 - dice_coefficient: 0.9193\n",
            "\n",
            "Epoch 00160: loss improved from 0.16642 to 0.16628, saving model to model-0.17.h5\n",
            "Epoch 161/200\n",
            "400/400 [==============================] - 19s 48ms/step - loss: 0.2532 - dice_coefficient: 0.9159\n",
            "\n",
            "Epoch 00161: loss did not improve from 0.16628\n",
            "Epoch 162/200\n",
            "400/400 [==============================] - 19s 48ms/step - loss: 0.1226 - dice_coefficient: 0.9235\n",
            "\n",
            "Epoch 00162: loss did not improve from 0.16628\n",
            "Epoch 163/200\n",
            "400/400 [==============================] - 19s 48ms/step - loss: 0.1663 - dice_coefficient: 0.9208\n",
            "\n",
            "Epoch 00163: loss improved from 0.16628 to 0.16621, saving model to model-0.17.h5\n",
            "Epoch 164/200\n",
            "400/400 [==============================] - 19s 48ms/step - loss: 0.1350 - dice_coefficient: 0.9201\n",
            "\n",
            "Epoch 00164: loss improved from 0.16621 to 0.16609, saving model to model-0.17.h5\n",
            "Epoch 165/200\n",
            "400/400 [==============================] - 19s 48ms/step - loss: 0.1322 - dice_coefficient: 0.9196\n",
            "\n",
            "Epoch 00165: loss improved from 0.16609 to 0.16586, saving model to model-0.17.h5\n",
            "Epoch 166/200\n",
            "400/400 [==============================] - 19s 48ms/step - loss: 0.1864 - dice_coefficient: 0.9173\n",
            "\n",
            "Epoch 00166: loss improved from 0.16586 to 0.16554, saving model to model-0.17.h5\n",
            "Epoch 167/200\n",
            "400/400 [==============================] - 19s 48ms/step - loss: 0.1463 - dice_coefficient: 0.9192\n",
            "\n",
            "Epoch 00167: loss improved from 0.16554 to 0.16536, saving model to model-0.17.h5\n",
            "Epoch 168/200\n",
            "400/400 [==============================] - 19s 48ms/step - loss: 0.3295 - dice_coefficient: 0.9095\n",
            "\n",
            "Epoch 00168: loss improved from 0.16536 to 0.16519, saving model to model-0.17.h5\n",
            "Epoch 169/200\n",
            "400/400 [==============================] - 19s 48ms/step - loss: 0.2458 - dice_coefficient: 0.9158\n",
            "\n",
            "Epoch 00169: loss improved from 0.16519 to 0.16504, saving model to model-0.17.h5\n",
            "Epoch 170/200\n",
            "400/400 [==============================] - 19s 48ms/step - loss: 0.1262 - dice_coefficient: 0.9216\n",
            "\n",
            "Epoch 00170: loss improved from 0.16504 to 0.16495, saving model to model-0.16.h5\n",
            "Epoch 171/200\n",
            "400/400 [==============================] - 19s 48ms/step - loss: 0.1899 - dice_coefficient: 0.9180\n",
            "\n",
            "Epoch 00171: loss improved from 0.16495 to 0.16494, saving model to model-0.16.h5\n",
            "Epoch 172/200\n",
            "400/400 [==============================] - 19s 48ms/step - loss: 0.1286 - dice_coefficient: 0.9220\n",
            "\n",
            "Epoch 00172: loss improved from 0.16494 to 0.16474, saving model to model-0.16.h5\n",
            "Epoch 173/200\n",
            "400/400 [==============================] - 19s 48ms/step - loss: 0.1354 - dice_coefficient: 0.9220\n",
            "\n",
            "Epoch 00173: loss improved from 0.16474 to 0.16451, saving model to model-0.16.h5\n",
            "Epoch 174/200\n",
            "400/400 [==============================] - 19s 48ms/step - loss: 0.1435 - dice_coefficient: 0.9219\n",
            "\n",
            "Epoch 00174: loss improved from 0.16451 to 0.16426, saving model to model-0.16.h5\n",
            "Epoch 175/200\n",
            "400/400 [==============================] - 19s 48ms/step - loss: 0.1321 - dice_coefficient: 0.9216\n",
            "\n",
            "Epoch 00175: loss improved from 0.16426 to 0.16416, saving model to model-0.16.h5\n",
            "Epoch 176/200\n",
            "400/400 [==============================] - 19s 48ms/step - loss: 0.1761 - dice_coefficient: 0.9208\n",
            "\n",
            "Epoch 00176: loss improved from 0.16416 to 0.16415, saving model to model-0.16.h5\n",
            "Epoch 177/200\n",
            "400/400 [==============================] - 19s 48ms/step - loss: 0.1258 - dice_coefficient: 0.9231\n",
            "\n",
            "Epoch 00177: loss did not improve from 0.16415\n",
            "Epoch 178/200\n",
            "400/400 [==============================] - 19s 48ms/step - loss: 0.1335 - dice_coefficient: 0.9201\n",
            "\n",
            "Epoch 00178: loss improved from 0.16415 to 0.16404, saving model to model-0.16.h5\n",
            "Epoch 179/200\n",
            "400/400 [==============================] - 19s 48ms/step - loss: 0.2784 - dice_coefficient: 0.9141\n",
            "\n",
            "Epoch 00179: loss improved from 0.16404 to 0.16386, saving model to model-0.16.h5\n",
            "Epoch 180/200\n",
            "400/400 [==============================] - 19s 48ms/step - loss: 0.2005 - dice_coefficient: 0.9186\n",
            "\n",
            "Epoch 00180: loss improved from 0.16386 to 0.16367, saving model to model-0.16.h5\n",
            "Epoch 181/200\n",
            "400/400 [==============================] - 19s 49ms/step - loss: 0.1644 - dice_coefficient: 0.9208\n",
            "\n",
            "Epoch 00181: loss improved from 0.16367 to 0.16358, saving model to model-0.16.h5\n",
            "Epoch 182/200\n",
            "400/400 [==============================] - 19s 49ms/step - loss: 0.1754 - dice_coefficient: 0.9209\n",
            "\n",
            "Epoch 00182: loss improved from 0.16358 to 0.16343, saving model to model-0.16.h5\n",
            "Epoch 183/200\n",
            "400/400 [==============================] - 19s 48ms/step - loss: 0.1895 - dice_coefficient: 0.9201\n",
            "\n",
            "Epoch 00183: loss improved from 0.16343 to 0.16336, saving model to model-0.16.h5\n",
            "Epoch 184/200\n",
            "400/400 [==============================] - 19s 49ms/step - loss: 0.1402 - dice_coefficient: 0.9227\n",
            "\n",
            "Epoch 00184: loss improved from 0.16336 to 0.16333, saving model to model-0.16.h5\n",
            "Epoch 185/200\n",
            "400/400 [==============================] - 19s 49ms/step - loss: 0.1746 - dice_coefficient: 0.9206\n",
            "\n",
            "Epoch 00185: loss improved from 0.16333 to 0.16325, saving model to model-0.16.h5\n",
            "Epoch 186/200\n",
            "400/400 [==============================] - 19s 48ms/step - loss: 0.1462 - dice_coefficient: 0.9238\n",
            "\n",
            "Epoch 00186: loss improved from 0.16325 to 0.16302, saving model to model-0.16.h5\n",
            "Epoch 187/200\n",
            "400/400 [==============================] - 19s 48ms/step - loss: 0.1741 - dice_coefficient: 0.9211\n",
            "\n",
            "Epoch 00187: loss improved from 0.16302 to 0.16297, saving model to model-0.16.h5\n",
            "Epoch 188/200\n",
            "400/400 [==============================] - 19s 49ms/step - loss: 0.1334 - dice_coefficient: 0.9216\n",
            "\n",
            "Epoch 00188: loss improved from 0.16297 to 0.16281, saving model to model-0.16.h5\n",
            "Epoch 189/200\n",
            "400/400 [==============================] - 19s 49ms/step - loss: 0.1452 - dice_coefficient: 0.9223\n",
            "\n",
            "Epoch 00189: loss improved from 0.16281 to 0.16268, saving model to model-0.16.h5\n",
            "Epoch 190/200\n",
            "400/400 [==============================] - 19s 48ms/step - loss: 0.1815 - dice_coefficient: 0.9195\n",
            "\n",
            "Epoch 00190: loss improved from 0.16268 to 0.16253, saving model to model-0.16.h5\n",
            "Epoch 191/200\n",
            "400/400 [==============================] - 19s 48ms/step - loss: 0.1410 - dice_coefficient: 0.9228\n",
            "\n",
            "Epoch 00191: loss did not improve from 0.16253\n",
            "Epoch 192/200\n",
            "400/400 [==============================] - 19s 48ms/step - loss: 0.1423 - dice_coefficient: 0.9239\n",
            "\n",
            "Epoch 00192: loss improved from 0.16253 to 0.16250, saving model to model-0.16.h5\n",
            "Epoch 193/200\n",
            "400/400 [==============================] - 19s 48ms/step - loss: 0.1444 - dice_coefficient: 0.9237\n",
            "\n",
            "Epoch 00193: loss improved from 0.16250 to 0.16239, saving model to model-0.16.h5\n",
            "Epoch 194/200\n",
            "400/400 [==============================] - 19s 48ms/step - loss: 0.2555 - dice_coefficient: 0.9165\n",
            "\n",
            "Epoch 00194: loss improved from 0.16239 to 0.16225, saving model to model-0.16.h5\n",
            "Epoch 195/200\n",
            "400/400 [==============================] - 19s 48ms/step - loss: 0.1237 - dice_coefficient: 0.9248\n",
            "\n",
            "Epoch 00195: loss improved from 0.16225 to 0.16223, saving model to model-0.16.h5\n",
            "Epoch 196/200\n",
            "400/400 [==============================] - 19s 48ms/step - loss: 0.1300 - dice_coefficient: 0.9256\n",
            "\n",
            "Epoch 00196: loss improved from 0.16223 to 0.16208, saving model to model-0.16.h5\n",
            "Epoch 197/200\n",
            "400/400 [==============================] - 19s 48ms/step - loss: 0.1378 - dice_coefficient: 0.9251\n",
            "\n",
            "Epoch 00197: loss improved from 0.16208 to 0.16200, saving model to model-0.16.h5\n",
            "Epoch 198/200\n",
            "400/400 [==============================] - 19s 48ms/step - loss: 0.2055 - dice_coefficient: 0.9205\n",
            "\n",
            "Epoch 00198: loss improved from 0.16200 to 0.16193, saving model to model-0.16.h5\n",
            "Epoch 199/200\n",
            "400/400 [==============================] - 19s 48ms/step - loss: 0.1349 - dice_coefficient: 0.9254\n",
            "\n",
            "Epoch 00199: loss did not improve from 0.16193\n",
            "Epoch 200/200\n",
            "400/400 [==============================] - 19s 48ms/step - loss: 0.1205 - dice_coefficient: 0.9256\n",
            "\n",
            "Epoch 00200: loss improved from 0.16193 to 0.16181, saving model to model-0.16.h5\n"
          ],
          "name": "stdout"
        },
        {
          "output_type": "execute_result",
          "data": {
            "text/plain": [
              "<tensorflow.python.keras.callbacks.History at 0x7fa6404a9518>"
            ]
          },
          "metadata": {
            "tags": []
          },
          "execution_count": 32
        }
      ]
    },
    {
      "cell_type": "code",
      "metadata": {
        "id": "o-CBCMysrchu",
        "colab": {
          "base_uri": "https://localhost:8080/",
          "height": 312
        },
        "outputId": "4fa440a9-ed18-41e6-f498-37ba3444d53a"
      },
      "source": [
        "# list all data in history\r\n",
        "print(model.history.history.keys())\r\n",
        "\r\n",
        "# Summary - History for loss\r\n",
        "\r\n",
        "pyplot.plot(model.history.history['loss'], color = 'red')\r\n",
        "pyplot.plot(model.history.history['dice_coefficient'], color = 'green')\r\n",
        "pyplot.plot(model.history.history['lr'], color = 'blue')\r\n",
        "pyplot.title('Model Loss')\r\n",
        "pyplot.ylabel('Loss')\r\n",
        "pyplot.xlabel('Epoch')\r\n",
        "pyplot.legend(['loss', 'dice_coefficient', 'learning_rate'], loc='upper right')\r\n",
        "pyplot.show();"
      ],
      "execution_count": 33,
      "outputs": [
        {
          "output_type": "stream",
          "text": [
            "dict_keys(['loss', 'dice_coefficient', 'lr'])\n"
          ],
          "name": "stdout"
        },
        {
          "output_type": "display_data",
          "data": {
            "image/png": "[encoded data removed]",
            "text/plain": [
              "<Figure size 432x288 with 1 Axes>"
            ]
          },
          "metadata": {
            "tags": [],
            "needs_background": "light"
          }
        }
      ]
    },
    {
      "cell_type": "markdown",
      "metadata": {
        "id": "5VtnuzlOf4uL"
      },
      "source": [
        "### Get the predicted mask for a test image   (2 marks)"
      ]
    },
    {
      "cell_type": "markdown",
      "metadata": {
        "id": "EKeEPrQJNqpq"
      },
      "source": [
        "Show the test image"
      ]
    },
    {
      "cell_type": "code",
      "metadata": {
        "colab": {
          "base_uri": "https://localhost:8080/",
          "height": 303
        },
        "id": "t2VCnIBOf3qg",
        "outputId": "501acb1f-12cc-44d2-97e9-a535b004530a"
      },
      "source": [
        "#### Add your code here ####\r\n",
        "n = 0\r\n",
        "pyplot.imshow(X_test[n])"
      ],
      "execution_count": 34,
      "outputs": [
        {
          "output_type": "stream",
          "text": [
            "Clipping input data to the valid range for imshow with RGB data ([0..1] for floats or [0..255] for integers).\n"
          ],
          "name": "stderr"
        },
        {
          "output_type": "execute_result",
          "data": {
            "text/plain": [
              "<matplotlib.image.AxesImage at 0x7fa5eff12b00>"
            ]
          },
          "metadata": {
            "tags": []
          },
          "execution_count": 34
        },
        {
          "output_type": "display_data",
          "data": {
            "image/png": "[encoded data removed]",
            "text/plain": [
              "<Figure size 432x288 with 1 Axes>"
            ]
          },
          "metadata": {
            "tags": [],
            "needs_background": "light"
          }
        }
      ]
    },
    {
      "cell_type": "markdown",
      "metadata": {
        "id": "0HuDvCJHNuwF"
      },
      "source": [
        "Show original mask for test image"
      ]
    },
    {
      "cell_type": "code",
      "metadata": {
        "id": "fvUuZu2zNxuj",
        "colab": {
          "base_uri": "https://localhost:8080/",
          "height": 286
        },
        "outputId": "b93aa989-268e-4dab-e7f5-a5fb85b5f67a"
      },
      "source": [
        "#### Add your code here ####\r\n",
        "pyplot.imshow(y_test[n])"
      ],
      "execution_count": 35,
      "outputs": [
        {
          "output_type": "execute_result",
          "data": {
            "text/plain": [
              "<matplotlib.image.AxesImage at 0x7fa5efefcba8>"
            ]
          },
          "metadata": {
            "tags": []
          },
          "execution_count": 35
        },
        {
          "output_type": "display_data",
          "data": {
            "image/png": "[encoded data removed]",
            "text/plain": [
              "<Figure size 432x288 with 1 Axes>"
            ]
          },
          "metadata": {
            "tags": [],
            "needs_background": "light"
          }
        }
      ]
    },
    {
      "cell_type": "markdown",
      "metadata": {
        "id": "IJjNguwlN6rI"
      },
      "source": [
        "Predict the mask on the test image"
      ]
    },
    {
      "cell_type": "code",
      "metadata": {
        "id": "X2dmz90gOcIr"
      },
      "source": [
        "#### Add your code here ####\r\n",
        "sample_image = X_test[n]\r\n",
        "img = np.array([sample_image])\r\n",
        "# Predicted Mask for a sample image\r\n",
        "predicted_mask = model.predict(img)[0]\r\n",
        "predicted_mask = np.reshape(predicted_mask, (224,224))"
      ],
      "execution_count": 36,
      "outputs": []
    },
    {
      "cell_type": "code",
      "metadata": {
        "colab": {
          "base_uri": "https://localhost:8080/",
          "height": 233
        },
        "id": "mvrPZ6dfgBng",
        "outputId": "47d95799-ef83-44e8-d507-f43fe99ec161"
      },
      "source": [
        "fig, (ax,ax1) = pyplot.subplots(1,2)\r\n",
        "ax1.set_title('predicted_mask')\r\n",
        "ax1.imshow(predicted_mask)\r\n",
        "ax.set_title('orignal_mask')\r\n",
        "ax.imshow(y_test[n])"
      ],
      "execution_count": 37,
      "outputs": [
        {
          "output_type": "execute_result",
          "data": {
            "text/plain": [
              "<matplotlib.image.AxesImage at 0x7fa5efd55710>"
            ]
          },
          "metadata": {
            "tags": []
          },
          "execution_count": 37
        },
        {
          "output_type": "display_data",
          "data": {
            "image/png": "[encoded data removed]",
            "text/plain": [
              "<Figure size 432x288 with 2 Axes>"
            ]
          },
          "metadata": {
            "tags": [],
            "needs_background": "light"
          }
        }
      ]
    },
    {
      "cell_type": "markdown",
      "metadata": {
        "id": "fDIetz0HgA4R"
      },
      "source": [
        "### Impose the mask on the test image (2 marks)\n",
        "- In imshow use the alpha parameter and set it to greater than 0.5"
      ]
    },
    {
      "cell_type": "code",
      "metadata": {
        "id": "MTAHGkb5xdzu",
        "colab": {
          "base_uri": "https://localhost:8080/",
          "height": 238
        },
        "outputId": "a95a2460-211c-4054-f2a0-4c056840c128"
      },
      "source": [
        "#### Add your code here ####\r\n",
        "masked = np.ma.masked_where(predicted_mask < 0.1, predicted_mask)\r\n",
        "pyplot.figure()\r\n",
        "pyplot.subplot(1,2,1)\r\n",
        "pyplot.imshow(sample_image)\r\n",
        "pyplot.subplot(1,2,2)\r\n",
        "pyplot.imshow(sample_image)\r\n",
        "pyplot.imshow(masked, alpha=0.8)\r\n",
        "pyplot.show()"
      ],
      "execution_count": 38,
      "outputs": [
        {
          "output_type": "stream",
          "text": [
            "Clipping input data to the valid range for imshow with RGB data ([0..1] for floats or [0..255] for integers).\n",
            "Clipping input data to the valid range for imshow with RGB data ([0..1] for floats or [0..255] for integers).\n"
          ],
          "name": "stderr"
        },
        {
          "output_type": "display_data",
          "data": {
            "image/png": "[encoded data removed]",
            "text/plain": [
              "<Figure size 432x288 with 2 Axes>"
            ]
          },
          "metadata": {
            "tags": [],
            "needs_background": "light"
          }
        }
      ]
    },
    {
      "cell_type": "code",
      "metadata": {
        "id": "u69vk2MbgFHc"
      },
      "source": [
        ""
      ],
      "execution_count": null,
      "outputs": []
    }
  ]
}